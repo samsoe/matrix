{
  "nbformat": 4,
  "nbformat_minor": 0,
  "metadata": {
    "colab": {
      "name": "bioclimatic variables.ipynb",
      "version": "0.3.2",
      "provenance": [],
      "collapsed_sections": [],
      "include_colab_link": true
    },
    "language_info": {
      "codemirror_mode": "r",
      "file_extension": ".r",
      "mimetype": "text/x-r-source",
      "name": "R",
      "pygments_lexer": "r",
      "version": "3.3.1"
    },
    "kernelspec": {
      "display_name": "R",
      "language": "R",
      "name": "ir"
    },
    "accelerator": "GPU"
  },
  "cells": [
    {
      "cell_type": "markdown",
      "metadata": {
        "id": "view-in-github",
        "colab_type": "text"
      },
      "source": [
        "<a href=\"https://colab.research.google.com/github/samsoe/matrix/notebooks/blob/master/bioclimatic_variables.ipynb\" target=\"_parent\"><img src=\"https://colab.research.google.com/assets/colab-badge.svg\" alt=\"Open In Colab\"/></a>"
      ]
    },
    {
      "cell_type": "markdown",
      "metadata": {
        "id": "BhOI1uU2Koum",
        "colab_type": "text"
      },
      "source": [
        "# Bioclimatic variables with R"
      ]
    },
    {
      "cell_type": "markdown",
      "metadata": {
        "id": "1d83mMozoQqS",
        "colab_type": "text"
      },
      "source": [
        "\n",
        "the biovars function in the dismo library requires average monthly temperature maximum, minimum and monthly accumulated precipitation values\n",
        "the data source was generated with this python notebook: http://bit.ly/2QQbCWf\n",
        "\n",
        "data source download: http://bit.ly/2Z6hA8p\n",
        "\n",
        "dismo package: https://www.rdocumentation.org/packages/dismo/versions/1.1-4/topics/biovars"
      ]
    },
    {
      "cell_type": "code",
      "metadata": {
        "id": "VxYkYhQTKouo",
        "colab_type": "code",
        "outputId": "589eff21-4fc0-4c7b-efc5-201d92d387a9",
        "colab": {
          "base_uri": "https://localhost:8080/",
          "height": 119
        }
      },
      "source": [
        "install.packages(\"dismo\")\n",
        "library(dismo)"
      ],
      "execution_count": 0,
      "outputs": [
        {
          "output_type": "stream",
          "text": [
            "Installing package into ‘/usr/local/lib/R/site-library’\n",
            "(as ‘lib’ is unspecified)\n",
            "also installing the dependencies ‘raster’, ‘sp’\n",
            "\n",
            "Loading required package: raster\n",
            "Loading required package: sp\n"
          ],
          "name": "stderr"
        }
      ]
    },
    {
      "cell_type": "code",
      "metadata": {
        "id": "iWwzSR7Bobxt",
        "colab_type": "code",
        "colab": {}
      },
      "source": [
        "source = \"https://drive.google.com/uc?id=1t6CFjgeRU9T57VckdtO5fITZXeIAeIIs\"\n",
        "data <- read.csv(file = source, header=TRUE, sep=\",\")"
      ],
      "execution_count": 0,
      "outputs": []
    },
    {
      "cell_type": "code",
      "metadata": {
        "id": "BiPZHh08rCSR",
        "colab_type": "code",
        "outputId": "2c0ed681-6714-4ca7-db5d-439a400b528f",
        "colab": {
          "base_uri": "https://localhost:8080/",
          "height": 204
        }
      },
      "source": [
        "tail(data)"
      ],
      "execution_count": 0,
      "outputs": [
        {
          "output_type": "display_data",
          "data": {
            "text/plain": [
              "   datetime   tmax tmin precip\n",
              "67 2018-07-31 86.7 40.3 0.05  \n",
              "68 2018-08-31 95.4 41.8 0.42  \n",
              "69 2018-09-30 82.8 35.9 0.27  \n",
              "70 2018-10-31 65.0 26.7 1.30  \n",
              "71 2018-11-30 50.2 17.9 1.63  \n",
              "72 2018-12-31 42.4  5.1 0.50  "
            ],
            "text/latex": "A data.frame: 6 × 4\n\\begin{tabular}{r|llll}\n  & datetime & tmax & tmin & precip\\\\\n  & <fct> & <dbl> & <dbl> & <dbl>\\\\\n\\hline\n\t67 & 2018-07-31 & 86.7 & 40.3 & 0.05\\\\\n\t68 & 2018-08-31 & 95.4 & 41.8 & 0.42\\\\\n\t69 & 2018-09-30 & 82.8 & 35.9 & 0.27\\\\\n\t70 & 2018-10-31 & 65.0 & 26.7 & 1.30\\\\\n\t71 & 2018-11-30 & 50.2 & 17.9 & 1.63\\\\\n\t72 & 2018-12-31 & 42.4 &  5.1 & 0.50\\\\\n\\end{tabular}\n",
            "text/markdown": "\nA data.frame: 6 × 4\n\n| <!--/--> | datetime &lt;fct&gt; | tmax &lt;dbl&gt; | tmin &lt;dbl&gt; | precip &lt;dbl&gt; |\n|---|---|---|---|---|\n| 67 | 2018-07-31 | 86.7 | 40.3 | 0.05 |\n| 68 | 2018-08-31 | 95.4 | 41.8 | 0.42 |\n| 69 | 2018-09-30 | 82.8 | 35.9 | 0.27 |\n| 70 | 2018-10-31 | 65.0 | 26.7 | 1.30 |\n| 71 | 2018-11-30 | 50.2 | 17.9 | 1.63 |\n| 72 | 2018-12-31 | 42.4 |  5.1 | 0.50 |\n\n",
            "text/html": [
              "<table>\n",
              "<caption>A data.frame: 6 × 4</caption>\n",
              "<thead>\n",
              "\t<tr><th></th><th scope=col>datetime</th><th scope=col>tmax</th><th scope=col>tmin</th><th scope=col>precip</th></tr>\n",
              "\t<tr><th></th><th scope=col>&lt;fct&gt;</th><th scope=col>&lt;dbl&gt;</th><th scope=col>&lt;dbl&gt;</th><th scope=col>&lt;dbl&gt;</th></tr>\n",
              "</thead>\n",
              "<tbody>\n",
              "\t<tr><th scope=row>67</th><td>2018-07-31</td><td>86.7</td><td>40.3</td><td>0.05</td></tr>\n",
              "\t<tr><th scope=row>68</th><td>2018-08-31</td><td>95.4</td><td>41.8</td><td>0.42</td></tr>\n",
              "\t<tr><th scope=row>69</th><td>2018-09-30</td><td>82.8</td><td>35.9</td><td>0.27</td></tr>\n",
              "\t<tr><th scope=row>70</th><td>2018-10-31</td><td>65.0</td><td>26.7</td><td>1.30</td></tr>\n",
              "\t<tr><th scope=row>71</th><td>2018-11-30</td><td>50.2</td><td>17.9</td><td>1.63</td></tr>\n",
              "\t<tr><th scope=row>72</th><td>2018-12-31</td><td>42.4</td><td> 5.1</td><td>0.50</td></tr>\n",
              "</tbody>\n",
              "</table>\n"
            ]
          },
          "metadata": {
            "tags": []
          }
        }
      ]
    },
    {
      "cell_type": "code",
      "metadata": {
        "id": "T9rphBHEoeDC",
        "colab_type": "code",
        "colab": {}
      },
      "source": [
        "years = split(data, format(as.Date(data$datetime), \"%Y\"))"
      ],
      "execution_count": 0,
      "outputs": []
    },
    {
      "cell_type": "code",
      "metadata": {
        "id": "uQdwjYdqoidT",
        "colab_type": "code",
        "colab": {}
      },
      "source": [
        "yr_num = names(years)"
      ],
      "execution_count": 0,
      "outputs": []
    },
    {
      "cell_type": "code",
      "metadata": {
        "id": "EvR21lQlokN_",
        "colab_type": "code",
        "outputId": "43d984e2-c666-44ac-de10-ed3a710d557a",
        "colab": {
          "base_uri": "https://localhost:8080/",
          "height": 527
        }
      },
      "source": [
        "for (i in seq_along(years)) {\n",
        "  tmin <- years[[i]]['tmin']\n",
        "  tmax <- years[[i]]['tmax']\n",
        "  prec <- years[[i]]['precip']\n",
        "  biovars = biovars(prec, tmin, tmax)\n",
        "  year <- yr_num[[i]]\n",
        "  \n",
        "  print(year)\n",
        "  print(biovars)\n",
        "}"
      ],
      "execution_count": 0,
      "outputs": [
        {
          "output_type": "stream",
          "text": [
            "[1] \"2013\"\n",
            "     bio1 bio2 bio3 bio4 bio5 bio6 bio7 bio8 bio9 bio10 bio11 bio12 bio13 bio14\n",
            "[1,]   NA   NA   NA   NA   NA   NA   NA   NA   NA    NA    NA    NA    NA    NA\n",
            "     bio15 bio16 bio17 bio18 bio19\n",
            "[1,]    NA    NA    NA    NA    NA\n",
            "[1] \"2014\"\n",
            "        bio1     bio2     bio3     bio4 bio5  bio6  bio7 bio8     bio9    bio10\n",
            "[1,] 43.4625 49.49167 46.55848 1883.129   90 -16.3 106.3 34.5 20.88333 64.86667\n",
            "        bio11 bio12 bio13 bio14    bio15 bio16 bio17 bio18 bio19\n",
            "[1,] 20.88333 10.81  2.03  0.32 29.03707  3.73  1.72  1.81  1.72\n",
            "[1] \"2015\"\n",
            "        bio1   bio2     bio3     bio4 bio5 bio6 bio7     bio8     bio9 bio10\n",
            "[1,] 49.3875 48.175 54.00785 1577.557 94.3  5.1 89.2 64.66667 40.33333 68.85\n",
            "        bio11 bio12 bio13 bio14    bio15 bio16 bio17 bio18 bio19\n",
            "[1,] 31.16667  9.21  1.39  0.32 19.09367  2.82  1.69  1.94   2.3\n",
            "[1] \"2016\"\n",
            "         bio1     bio2     bio3     bio4 bio5 bio6 bio7     bio8     bio9\n",
            "[1,] 46.58333 42.28333 44.32215 1625.814 87.9 -7.5 95.4 60.66667 26.08333\n",
            "        bio10    bio11 bio12 bio13 bio14    bio15 bio16 bio17 bio18 bio19\n",
            "[1,] 64.18333 24.61667 11.49  2.43   0.2 37.07401  4.37  1.07  3.02   1.2\n",
            "[1] \"2017\"\n",
            "         bio1     bio2     bio3     bio4 bio5 bio6 bio7     bio8     bio9 bio10\n",
            "[1,] 45.64583 44.64167 42.51587 1836.989 95.6 -9.4  105 53.18333 66.41667  67.1\n",
            "     bio11 bio12 bio13 bio14    bio15 bio16 bio17 bio18 bio19\n",
            "[1,] 21.05 12.68  3.06  0.07 41.91038  5.14  1.21   3.3  3.06\n",
            "[1] \"2018\"\n",
            "         bio1     bio2     bio3     bio4 bio5 bio6 bio7 bio8     bio9    bio10\n",
            "[1,] 45.47917 43.89167 44.42476 1564.297 95.4 -3.4 98.8 53.4 63.81667 63.81667\n",
            "     bio11 bio12 bio13 bio14    bio15 bio16 bio17 bio18 bio19\n",
            "[1,]  25.9 13.97  2.83  0.05 42.50532  7.38  0.74  0.74     2\n"
          ],
          "name": "stdout"
        }
      ]
    }
  ]
}
