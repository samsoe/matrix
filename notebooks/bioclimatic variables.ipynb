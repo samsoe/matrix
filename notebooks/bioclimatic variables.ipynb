{
 "cells": [
  {
   "cell_type": "markdown",
   "metadata": {},
   "source": [
    "BIO1 = Annual Mean Temperature\n",
    "BIO2 = Mean Diurnal Range (Mean of monthly (max temp - min temp))\n",
    "BIO3 = Isothermality (BIO2/BIO7) (* 100)\n",
    "BIO4 = Temperature Seasonality (standard deviation *100)\n",
    "BIO5 = Max Temperature of Warmest Month\n",
    "BIO6 = Min Temperature of Coldest Month\n",
    "BIO7 = Temperature Annual Range (BIO5-BIO6)\n",
    "BIO8 = Mean Temperature of Wettest Quarter\n",
    "BIO9 = Mean Temperature of Driest Quarter\n",
    "BIO10 = Mean Temperature of Warmest Quarter\n",
    "BIO11 = Mean Temperature of Coldest Quarter\n",
    "BIO12 = Annual Precipitation\n",
    "BIO13 = Precipitation of Wettest Month\n",
    "BIO14 = Precipitation of Driest Month\n",
    "BIO15 = Precipitation Seasonality (Coefficient of Variation)\n",
    "BIO16 = Precipitation of Wettest Quarter\n",
    "BIO17 = Precipitation of Driest Quarter\n",
    "BIO18 = Precipitation of Warmest Quarter\n",
    "BIO19 = Precipitation of Coldest Quarter"
   ]
  },
  {
   "cell_type": "code",
   "execution_count": 1,
   "metadata": {},
   "outputs": [],
   "source": [
    "import pandas as pd"
   ]
  },
  {
   "cell_type": "code",
   "execution_count": 2,
   "metadata": {},
   "outputs": [],
   "source": [
    "# download temperature source\n",
    "src = '../src/orchard_house-temp_hourly.csv'\n",
    "df = pd.read_csv(src, parse_dates=['datetime'], index_col='datetime')"
   ]
  },
  {
   "cell_type": "code",
   "execution_count": 3,
   "metadata": {},
   "outputs": [],
   "source": [
    "# subselect downloaded columns for basic temperature columns\n",
    "df = df.iloc[:, [1, 4, 7, 10, 13, 16]]"
   ]
  },
  {
   "cell_type": "code",
   "execution_count": 4,
   "metadata": {},
   "outputs": [],
   "source": [
    "# rename columns\n",
    "df.columns = ['Baldy Summit (°F)',\n",
    " 'Baldy Draw (°F)',\n",
    " 'Sanfoin Bench (°F)',\n",
    " 'South Baldy (°F)',\n",
    " 'Orchard House (°F)',\n",
    " 'Indian Ridge (°F)']"
   ]
  },
  {
   "cell_type": "code",
   "execution_count": 5,
   "metadata": {},
   "outputs": [],
   "source": [
    "# average all stations columns together by row\n",
    "station_ave = df.mean(axis=1).to_frame(name='temp')"
   ]
  },
  {
   "cell_type": "code",
   "execution_count": 6,
   "metadata": {},
   "outputs": [],
   "source": [
    "# 2012 and 2019 are incomplete, remove them\n",
    "station_ave = station_ave['2013':'2018']"
   ]
  },
  {
   "cell_type": "code",
   "execution_count": 7,
   "metadata": {},
   "outputs": [
    {
     "name": "stdout",
     "output_type": "stream",
     "text": [
      "<class 'pandas.core.frame.DataFrame'>\n",
      "DatetimeIndex: 140509 entries, 2013-01-01 00:00:00 to 2018-12-31 23:30:00\n",
      "Data columns (total 1 columns):\n",
      "temp    140486 non-null float64\n",
      "dtypes: float64(1)\n",
      "memory usage: 2.1 MB\n"
     ]
    }
   ],
   "source": [
    "station_ave.info()"
   ]
  },
  {
   "cell_type": "code",
   "execution_count": 8,
   "metadata": {},
   "outputs": [
    {
     "data": {
      "text/html": [
       "<div>\n",
       "<style scoped>\n",
       "    .dataframe tbody tr th:only-of-type {\n",
       "        vertical-align: middle;\n",
       "    }\n",
       "\n",
       "    .dataframe tbody tr th {\n",
       "        vertical-align: top;\n",
       "    }\n",
       "\n",
       "    .dataframe thead th {\n",
       "        text-align: right;\n",
       "    }\n",
       "</style>\n",
       "<table border=\"1\" class=\"dataframe\">\n",
       "  <thead>\n",
       "    <tr style=\"text-align: right;\">\n",
       "      <th></th>\n",
       "      <th>temp</th>\n",
       "    </tr>\n",
       "    <tr>\n",
       "      <th>datetime</th>\n",
       "      <th></th>\n",
       "    </tr>\n",
       "  </thead>\n",
       "  <tbody>\n",
       "    <tr>\n",
       "      <th>2013-01-01 00:00:00</th>\n",
       "      <td>18.416667</td>\n",
       "    </tr>\n",
       "    <tr>\n",
       "      <th>2013-01-01 00:05:00</th>\n",
       "      <td>18.266667</td>\n",
       "    </tr>\n",
       "  </tbody>\n",
       "</table>\n",
       "</div>"
      ],
      "text/plain": [
       "                          temp\n",
       "datetime                      \n",
       "2013-01-01 00:00:00  18.416667\n",
       "2013-01-01 00:05:00  18.266667"
      ]
     },
     "execution_count": 8,
     "metadata": {},
     "output_type": "execute_result"
    }
   ],
   "source": [
    "station_ave.head(2)"
   ]
  },
  {
   "cell_type": "markdown",
   "metadata": {},
   "source": [
    "### BIO1 = Annual Mean Temperature"
   ]
  },
  {
   "cell_type": "code",
   "execution_count": 9,
   "metadata": {},
   "outputs": [],
   "source": [
    "BIO1 = station_ave.groupby(pd.Grouper(freq='Y')).mean().round(1)"
   ]
  },
  {
   "cell_type": "code",
   "execution_count": 10,
   "metadata": {},
   "outputs": [
    {
     "data": {
      "text/html": [
       "<div>\n",
       "<style scoped>\n",
       "    .dataframe tbody tr th:only-of-type {\n",
       "        vertical-align: middle;\n",
       "    }\n",
       "\n",
       "    .dataframe tbody tr th {\n",
       "        vertical-align: top;\n",
       "    }\n",
       "\n",
       "    .dataframe thead th {\n",
       "        text-align: right;\n",
       "    }\n",
       "</style>\n",
       "<table border=\"1\" class=\"dataframe\">\n",
       "  <thead>\n",
       "    <tr style=\"text-align: right;\">\n",
       "      <th></th>\n",
       "      <th>temp</th>\n",
       "    </tr>\n",
       "    <tr>\n",
       "      <th>datetime</th>\n",
       "      <th></th>\n",
       "    </tr>\n",
       "  </thead>\n",
       "  <tbody>\n",
       "    <tr>\n",
       "      <th>2013-12-31</th>\n",
       "      <td>56.3</td>\n",
       "    </tr>\n",
       "    <tr>\n",
       "      <th>2014-12-31</th>\n",
       "      <td>44.8</td>\n",
       "    </tr>\n",
       "    <tr>\n",
       "      <th>2015-12-31</th>\n",
       "      <td>47.3</td>\n",
       "    </tr>\n",
       "    <tr>\n",
       "      <th>2016-12-31</th>\n",
       "      <td>45.9</td>\n",
       "    </tr>\n",
       "    <tr>\n",
       "      <th>2017-12-31</th>\n",
       "      <td>44.7</td>\n",
       "    </tr>\n",
       "    <tr>\n",
       "      <th>2018-12-31</th>\n",
       "      <td>44.4</td>\n",
       "    </tr>\n",
       "  </tbody>\n",
       "</table>\n",
       "</div>"
      ],
      "text/plain": [
       "            temp\n",
       "datetime        \n",
       "2013-12-31  56.3\n",
       "2014-12-31  44.8\n",
       "2015-12-31  47.3\n",
       "2016-12-31  45.9\n",
       "2017-12-31  44.7\n",
       "2018-12-31  44.4"
      ]
     },
     "execution_count": 10,
     "metadata": {},
     "output_type": "execute_result"
    }
   ],
   "source": [
    "BIO1"
   ]
  },
  {
   "cell_type": "code",
   "execution_count": 11,
   "metadata": {},
   "outputs": [
    {
     "name": "stdout",
     "output_type": "stream",
     "text": [
      "<class 'pandas.core.frame.DataFrame'>\n",
      "DatetimeIndex: 6 entries, 2013-12-31 to 2018-12-31\n",
      "Freq: A-DEC\n",
      "Data columns (total 1 columns):\n",
      "temp    6 non-null float64\n",
      "dtypes: float64(1)\n",
      "memory usage: 96.0 bytes\n"
     ]
    }
   ],
   "source": [
    "BIO1.info()"
   ]
  },
  {
   "cell_type": "markdown",
   "metadata": {},
   "source": [
    "### BIO2 = Mean Diurnal Range (Mean of monthly (max temp - min temp))"
   ]
  },
  {
   "cell_type": "code",
   "execution_count": 12,
   "metadata": {},
   "outputs": [],
   "source": [
    "max_temp = station_ave.groupby(pd.Grouper(freq='M')).max()\n",
    "min_temp = station_ave.groupby(pd.Grouper(freq='M')).min()\n",
    "BIO2 = max_temp - min_temp"
   ]
  },
  {
   "cell_type": "code",
   "execution_count": 13,
   "metadata": {},
   "outputs": [
    {
     "data": {
      "text/html": [
       "<div>\n",
       "<style scoped>\n",
       "    .dataframe tbody tr th:only-of-type {\n",
       "        vertical-align: middle;\n",
       "    }\n",
       "\n",
       "    .dataframe tbody tr th {\n",
       "        vertical-align: top;\n",
       "    }\n",
       "\n",
       "    .dataframe thead th {\n",
       "        text-align: right;\n",
       "    }\n",
       "</style>\n",
       "<table border=\"1\" class=\"dataframe\">\n",
       "  <thead>\n",
       "    <tr style=\"text-align: right;\">\n",
       "      <th></th>\n",
       "      <th>temp</th>\n",
       "    </tr>\n",
       "    <tr>\n",
       "      <th>datetime</th>\n",
       "      <th></th>\n",
       "    </tr>\n",
       "  </thead>\n",
       "  <tbody>\n",
       "    <tr>\n",
       "      <th>2013-01-31</th>\n",
       "      <td>37.700000</td>\n",
       "    </tr>\n",
       "    <tr>\n",
       "      <th>2013-02-28</th>\n",
       "      <td>NaN</td>\n",
       "    </tr>\n",
       "    <tr>\n",
       "      <th>2013-03-31</th>\n",
       "      <td>NaN</td>\n",
       "    </tr>\n",
       "    <tr>\n",
       "      <th>2013-04-30</th>\n",
       "      <td>39.250000</td>\n",
       "    </tr>\n",
       "    <tr>\n",
       "      <th>2013-05-31</th>\n",
       "      <td>53.983333</td>\n",
       "    </tr>\n",
       "  </tbody>\n",
       "</table>\n",
       "</div>"
      ],
      "text/plain": [
       "                 temp\n",
       "datetime             \n",
       "2013-01-31  37.700000\n",
       "2013-02-28        NaN\n",
       "2013-03-31        NaN\n",
       "2013-04-30  39.250000\n",
       "2013-05-31  53.983333"
      ]
     },
     "execution_count": 13,
     "metadata": {},
     "output_type": "execute_result"
    }
   ],
   "source": [
    "BIO2.head()"
   ]
  },
  {
   "cell_type": "code",
   "execution_count": 14,
   "metadata": {},
   "outputs": [
    {
     "name": "stdout",
     "output_type": "stream",
     "text": [
      "<class 'pandas.core.frame.DataFrame'>\n",
      "DatetimeIndex: 72 entries, 2013-01-31 to 2018-12-31\n",
      "Freq: M\n",
      "Data columns (total 1 columns):\n",
      "temp    70 non-null float64\n",
      "dtypes: float64(1)\n",
      "memory usage: 1.1 KB\n"
     ]
    }
   ],
   "source": [
    "BIO2.info()"
   ]
  },
  {
   "cell_type": "markdown",
   "metadata": {},
   "source": [
    "### BIO3 = Isothermality (BIO2/BIO7) (* 100)"
   ]
  },
  {
   "cell_type": "code",
   "execution_count": 15,
   "metadata": {},
   "outputs": [],
   "source": [
    "# need BIO7"
   ]
  },
  {
   "cell_type": "markdown",
   "metadata": {},
   "source": [
    "### BIO4 = Temperature Seasonality (standard deviation *100)"
   ]
  },
  {
   "cell_type": "code",
   "execution_count": null,
   "metadata": {},
   "outputs": [],
   "source": []
  },
  {
   "cell_type": "markdown",
   "metadata": {},
   "source": [
    "### BIO5 = Max Temperature of Warmest Month"
   ]
  },
  {
   "cell_type": "code",
   "execution_count": 18,
   "metadata": {},
   "outputs": [],
   "source": [
    "# identify  warmest month by year\n",
    "warmest_months = []\n",
    "years = station_ave.index.year.unique().tolist()\n",
    "\n",
    "for year in years:\n",
    "    warmest = 0\n",
    "    # average temp values by month\n",
    "    month_ave = station_ave[str(year)].groupby(pd.Grouper(freq='M')).mean()\n",
    "    \n",
    "    # loop through monthly averages and select warmest month year\n",
    "    for index, row in month_ave.iterrows():\n",
    "        if row.temp > warmest:\n",
    "            warmest = row.temp\n",
    "            year = index.year\n",
    "            month = index.month\n",
    "    warmest_month = {'year': year, 'month': month, 'warmest_average': warmest.round(1)}\n",
    "    warmest_months.append(warmest_month)"
   ]
  },
  {
   "cell_type": "code",
   "execution_count": 19,
   "metadata": {},
   "outputs": [
    {
     "data": {
      "text/plain": [
       "[{'year': 2013, 'month': 7, 'warmest_average': 71.7},\n",
       " {'year': 2014, 'month': 7, 'warmest_average': 70.8},\n",
       " {'year': 2015, 'month': 6, 'warmest_average': 67.4},\n",
       " {'year': 2016, 'month': 8, 'warmest_average': 65.2},\n",
       " {'year': 2017, 'month': 7, 'warmest_average': 72.7},\n",
       " {'year': 2018, 'month': 7, 'warmest_average': 68.3}]"
      ]
     },
     "execution_count": 19,
     "metadata": {},
     "output_type": "execute_result"
    }
   ],
   "source": [
    "warmest_months"
   ]
  },
  {
   "cell_type": "code",
   "execution_count": 20,
   "metadata": {},
   "outputs": [],
   "source": [
    "# select max value from warmest month by year\n",
    "BIO5 = []\n",
    "for value in warmest_months:\n",
    "    year = str(value['year'])\n",
    "    month = str(value['month'])\n",
    "    max_value = station_ave[year + '-' + month].max()\n",
    "    BIO5.append({'max_temp': max_value.temp.round(1), 'year': year, 'month': month})"
   ]
  },
  {
   "cell_type": "code",
   "execution_count": 21,
   "metadata": {},
   "outputs": [
    {
     "data": {
      "text/plain": [
       "[{'max_temp': 92.1, 'year': '2013', 'month': '7'},\n",
       " {'max_temp': 89.8, 'year': '2014', 'month': '7'},\n",
       " {'max_temp': 94.3, 'year': '2015', 'month': '6'},\n",
       " {'max_temp': 87.9, 'year': '2016', 'month': '8'},\n",
       " {'max_temp': 95.6, 'year': '2017', 'month': '7'},\n",
       " {'max_temp': 86.7, 'year': '2018', 'month': '7'}]"
      ]
     },
     "execution_count": 21,
     "metadata": {},
     "output_type": "execute_result"
    }
   ],
   "source": [
    "BIO5"
   ]
  },
  {
   "cell_type": "code",
   "execution_count": 22,
   "metadata": {},
   "outputs": [],
   "source": [
    "BIO5 = pd.DataFrame(BIO5)"
   ]
  },
  {
   "cell_type": "markdown",
   "metadata": {},
   "source": [
    "### BIO6 = Min Temperature of Coldest Month"
   ]
  },
  {
   "cell_type": "code",
   "execution_count": 23,
   "metadata": {},
   "outputs": [],
   "source": [
    "# identify coldest month by year\n",
    "coldest_months = []\n",
    "years = station_ave.index.year.unique().tolist()\n",
    "\n",
    "for year in years:\n",
    "    coldest = 9999\n",
    "    # average temp values by month\n",
    "    month_ave = station_ave[str(year)].groupby(pd.Grouper(freq='M')).mean()\n",
    "    \n",
    "    # loop through monthly averages and find coldest month by year\n",
    "    for index, row in month_ave.iterrows():    \n",
    "        if row.temp < coldest:\n",
    "            coldest = row.temp\n",
    "            year = index.year\n",
    "            month = index.month\n",
    "    coldest_month = {'year': year, 'month': month, 'coldest_average': coldest.round(1)}\n",
    "    coldest_months.append(coldest_month)"
   ]
  },
  {
   "cell_type": "code",
   "execution_count": 24,
   "metadata": {},
   "outputs": [
    {
     "data": {
      "text/plain": [
       "[{'year': 2013, 'month': 1, 'coldest_average': 20.7},\n",
       " {'year': 2014, 'month': 2, 'coldest_average': 19.5},\n",
       " {'year': 2015, 'month': 12, 'coldest_average': 26.9},\n",
       " {'year': 2016, 'month': 12, 'coldest_average': 20.3},\n",
       " {'year': 2017, 'month': 1, 'coldest_average': 18.3},\n",
       " {'year': 2018, 'month': 2, 'coldest_average': 24.1}]"
      ]
     },
     "execution_count": 24,
     "metadata": {},
     "output_type": "execute_result"
    }
   ],
   "source": [
    "coldest_months"
   ]
  },
  {
   "cell_type": "code",
   "execution_count": 25,
   "metadata": {},
   "outputs": [],
   "source": [
    "# select min value from coldest month by year\n",
    "BIO6 = []\n",
    "for value in coldest_months:\n",
    "    year = str(value['year'])\n",
    "    month = str(value['month'])\n",
    "    min_temp = station_ave[year + '-' + month].min()\n",
    "    BIO6.append({'min_temp': min_temp.temp.round(1), 'year': year, 'month': month})"
   ]
  },
  {
   "cell_type": "code",
   "execution_count": 26,
   "metadata": {},
   "outputs": [
    {
     "data": {
      "text/plain": [
       "[{'min_temp': 3.8, 'year': '2013', 'month': '1'},\n",
       " {'min_temp': -16.3, 'year': '2014', 'month': '2'},\n",
       " {'min_temp': 11.1, 'year': '2015', 'month': '12'},\n",
       " {'min_temp': -7.5, 'year': '2016', 'month': '12'},\n",
       " {'min_temp': -9.4, 'year': '2017', 'month': '1'},\n",
       " {'min_temp': -3.4, 'year': '2018', 'month': '2'}]"
      ]
     },
     "execution_count": 26,
     "metadata": {},
     "output_type": "execute_result"
    }
   ],
   "source": [
    "BIO6"
   ]
  },
  {
   "cell_type": "code",
   "execution_count": 27,
   "metadata": {},
   "outputs": [],
   "source": [
    "BIO6 = pd.DataFrame(BIO6)"
   ]
  },
  {
   "cell_type": "code",
   "execution_count": 28,
   "metadata": {},
   "outputs": [
    {
     "data": {
      "text/html": [
       "<div>\n",
       "<style scoped>\n",
       "    .dataframe tbody tr th:only-of-type {\n",
       "        vertical-align: middle;\n",
       "    }\n",
       "\n",
       "    .dataframe tbody tr th {\n",
       "        vertical-align: top;\n",
       "    }\n",
       "\n",
       "    .dataframe thead th {\n",
       "        text-align: right;\n",
       "    }\n",
       "</style>\n",
       "<table border=\"1\" class=\"dataframe\">\n",
       "  <thead>\n",
       "    <tr style=\"text-align: right;\">\n",
       "      <th></th>\n",
       "      <th>min_temp</th>\n",
       "      <th>month</th>\n",
       "      <th>year</th>\n",
       "    </tr>\n",
       "  </thead>\n",
       "  <tbody>\n",
       "    <tr>\n",
       "      <th>0</th>\n",
       "      <td>3.8</td>\n",
       "      <td>1</td>\n",
       "      <td>2013</td>\n",
       "    </tr>\n",
       "    <tr>\n",
       "      <th>1</th>\n",
       "      <td>-16.3</td>\n",
       "      <td>2</td>\n",
       "      <td>2014</td>\n",
       "    </tr>\n",
       "    <tr>\n",
       "      <th>2</th>\n",
       "      <td>11.1</td>\n",
       "      <td>12</td>\n",
       "      <td>2015</td>\n",
       "    </tr>\n",
       "    <tr>\n",
       "      <th>3</th>\n",
       "      <td>-7.5</td>\n",
       "      <td>12</td>\n",
       "      <td>2016</td>\n",
       "    </tr>\n",
       "    <tr>\n",
       "      <th>4</th>\n",
       "      <td>-9.4</td>\n",
       "      <td>1</td>\n",
       "      <td>2017</td>\n",
       "    </tr>\n",
       "    <tr>\n",
       "      <th>5</th>\n",
       "      <td>-3.4</td>\n",
       "      <td>2</td>\n",
       "      <td>2018</td>\n",
       "    </tr>\n",
       "  </tbody>\n",
       "</table>\n",
       "</div>"
      ],
      "text/plain": [
       "   min_temp month  year\n",
       "0       3.8     1  2013\n",
       "1     -16.3     2  2014\n",
       "2      11.1    12  2015\n",
       "3      -7.5    12  2016\n",
       "4      -9.4     1  2017\n",
       "5      -3.4     2  2018"
      ]
     },
     "execution_count": 28,
     "metadata": {},
     "output_type": "execute_result"
    }
   ],
   "source": [
    "BIO6"
   ]
  },
  {
   "cell_type": "markdown",
   "metadata": {},
   "source": [
    "### BIO7 = Temperature Annual Range (BIO5-BIO6)"
   ]
  },
  {
   "cell_type": "code",
   "execution_count": 29,
   "metadata": {},
   "outputs": [],
   "source": [
    "BIO7 = (BIO5.max_temp - BIO6.min_temp).round(1).to_list()"
   ]
  },
  {
   "cell_type": "code",
   "execution_count": 30,
   "metadata": {},
   "outputs": [],
   "source": [
    "BIO7 = []\n",
    "\n",
    "for index, row in BIO5.iterrows():\n",
    "    temp_range = BIO5.loc[index, 'max_temp'] - BIO6.loc[index, 'min_temp']\n",
    "    year = row.year\n",
    "    BIO7.append({'year': year, 'temp_range': temp_range.round(1)})"
   ]
  },
  {
   "cell_type": "code",
   "execution_count": 31,
   "metadata": {},
   "outputs": [
    {
     "data": {
      "text/plain": [
       "[{'year': '2013', 'temp_range': 88.3},\n",
       " {'year': '2014', 'temp_range': 106.1},\n",
       " {'year': '2015', 'temp_range': 83.2},\n",
       " {'year': '2016', 'temp_range': 95.4},\n",
       " {'year': '2017', 'temp_range': 105.0},\n",
       " {'year': '2018', 'temp_range': 90.1}]"
      ]
     },
     "execution_count": 31,
     "metadata": {},
     "output_type": "execute_result"
    }
   ],
   "source": [
    "BIO7"
   ]
  },
  {
   "cell_type": "markdown",
   "metadata": {},
   "source": [
    "### BIO8 = Mean Temperature of Wettest Quarter"
   ]
  },
  {
   "cell_type": "code",
   "execution_count": null,
   "metadata": {},
   "outputs": [],
   "source": []
  }
 ],
 "metadata": {
  "kernelspec": {
   "display_name": "Python 3",
   "language": "python",
   "name": "python3"
  },
  "language_info": {
   "codemirror_mode": {
    "name": "ipython",
    "version": 3
   },
   "file_extension": ".py",
   "mimetype": "text/x-python",
   "name": "python",
   "nbconvert_exporter": "python",
   "pygments_lexer": "ipython3",
   "version": "3.7.3"
  }
 },
 "nbformat": 4,
 "nbformat_minor": 2
}
