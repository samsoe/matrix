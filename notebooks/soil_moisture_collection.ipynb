{
  "nbformat": 4,
  "nbformat_minor": 0,
  "metadata": {
    "colab": {
      "name": "soil moisture.ipynb",
      "version": "0.3.2",
      "provenance": [],
      "toc_visible": true
    },
    "kernelspec": {
      "name": "python3",
      "display_name": "Python 3"
    }
  },
  "cells": [
    {
      "cell_type": "markdown",
      "metadata": {
        "id": "pxCW8QKdC8SS",
        "colab_type": "text"
      },
      "source": [
        "# Load Tools"
      ]
    },
    {
      "cell_type": "code",
      "metadata": {
        "id": "MQ93rgUJziga",
        "colab_type": "code",
        "colab": {}
      },
      "source": [
        "import pandas as pd"
      ],
      "execution_count": 0,
      "outputs": []
    },
    {
      "cell_type": "markdown",
      "metadata": {
        "id": "ltm8-AqFEALX",
        "colab_type": "text"
      },
      "source": [
        "# Meta Data\n",
        "Individual stations downloaded from 'Decagon' virtual machine maintained by MPG Ranch on 190610\n",
        "* [Link to hosted xls files](https://drive.google.com/drive/folders/1mDuhIWc3LMfCCbI_6rt82m8j2AhUi3Qk)"
      ]
    },
    {
      "cell_type": "code",
      "metadata": {
        "id": "lL76iA11BB1P",
        "colab_type": "code",
        "colab": {}
      },
      "source": [
        "stations_data = [\n",
        "    {'weather': 'KMTFLORE5', 'soil': 'sainfoin bench', 'soil_data': 'SB-10Jun2019-0844.xls', 'short_name': 'sb'},\n",
        "    {'weather': 'KMTFLORE4', 'soil': 'baldy draw', 'soil_data': 'BD-10Jun2019-0844.xls', 'short_name': 'bd'},\n",
        "    {'weather': 'KMTFLORE6', 'soil': 'baldy summit', 'soil_data': 'BS-07Jun2019-1554.xls', 'short_name': 'bs'},\n",
        "    {'weather': 'KMTFLORE3', 'soil': 'indian ridge', 'soil_data': 'IR-10Jun2019-0845.xls', 'short_name': 'ir'},\n",
        "    {'weather': 'KMTFLORE7', 'soil': 'south baldy ridge', 'soil_data': 'SBR-10Jun2019-0845.xls', 'short_name': 'sbr'},\n",
        "    {'weather': 'KMTFLORE7', 'soil': 'orchard house', 'soil_data': 'OH-10Jun2019-0846.xls', 'short_name': 'oh'}\n",
        "]\n",
        "\n",
        "\n",
        "google_drive_source = 'My Drive/Current Work/MPG Ranch/Matrix/Data/Soil Moisture/'"
      ],
      "execution_count": 0,
      "outputs": []
    },
    {
      "cell_type": "markdown",
      "metadata": {
        "id": "sAyLVH15--Ou",
        "colab_type": "text"
      },
      "source": [
        "# Restructure Downloaded Data"
      ]
    },
    {
      "cell_type": "code",
      "metadata": {
        "id": "v_mM_yDjhetJ",
        "colab_type": "code",
        "colab": {}
      },
      "source": [
        "def reshape_data(src, station):\n",
        "  # load data\n",
        "  df = pd.read_excel(src, header=[0,2])\n",
        "  \n",
        "  # restructure multi index\n",
        "  df = df.set_index(df[src]['Measurement Time']).drop((src, 'Measurement Time'), axis=1)\n",
        "  df = df.unstack().unstack(level=1).reset_index(level=1).reset_index().set_index('Measurement Time')\n",
        "\n",
        "  # rename columns\n",
        "  df.columns = ['port', 'kPa Potential', '°C Temp']\n",
        "  \n",
        "  # intitalize depth column\n",
        "  df['depth (in)'] = ''\n",
        "\n",
        "  # label moisture probe depth for each port\n",
        "  for index, row in df.iterrows():\n",
        "    if row.port == 'Port 1' or row.port == 'Port 3':\n",
        "      row['depth (in)'] = 6\n",
        "    elif row.port == 'Port 2' or row.port == 'Port 4':\n",
        "      row['depth (in)'] = 36\n",
        "      \n",
        "  # station id label\n",
        "  df['station'] = station\n",
        "  \n",
        "  return df"
      ],
      "execution_count": 0,
      "outputs": []
    },
    {
      "cell_type": "code",
      "metadata": {
        "id": "YUx7X6vMKXS-",
        "colab_type": "code",
        "colab": {}
      },
      "source": [
        "# array to hold individual station dataframes\n",
        "df_stations = []\n",
        "\n",
        "# loop through stations_data dictionary to load and restructure station data\n",
        "for station in stations_data:\n",
        "    df_stations.append({station['short_name']: reshape_data(station['soil_data'], station['soil'])})"
      ],
      "execution_count": 0,
      "outputs": []
    },
    {
      "cell_type": "markdown",
      "metadata": {
        "id": "KAP5HbRZV7eG",
        "colab_type": "text"
      },
      "source": [
        "# Combine Station DataFrames"
      ]
    },
    {
      "cell_type": "code",
      "metadata": {
        "id": "kJ9DXHJTV-K1",
        "colab_type": "code",
        "colab": {}
      },
      "source": [
        "stations_combined = pd.DataFrame()\n",
        "\n",
        "for station in df_stations:\n",
        "  for key, val in station.items():\n",
        "    stations_combined = pd.concat([stations_combined, station[key]])"
      ],
      "execution_count": 0,
      "outputs": []
    },
    {
      "cell_type": "code",
      "metadata": {
        "id": "CVL6ZJjWW4RQ",
        "colab_type": "code",
        "outputId": "18ec4680-2f95-4fdd-b6e8-27399d913ead",
        "colab": {
          "base_uri": "https://localhost:8080/",
          "height": 187
        }
      },
      "source": [
        "stations_combined.info()"
      ],
      "execution_count": 6,
      "outputs": [
        {
          "output_type": "stream",
          "text": [
            "<class 'pandas.core.frame.DataFrame'>\n",
            "DatetimeIndex: 207197 entries, 2000-11-07 06:00:00 to 2019-06-09 18:00:00\n",
            "Data columns (total 5 columns):\n",
            "port             207197 non-null object\n",
            "kPa Potential    207197 non-null object\n",
            "°C Temp          207197 non-null object\n",
            "depth (in)       207197 non-null object\n",
            "station          207197 non-null object\n",
            "dtypes: object(5)\n",
            "memory usage: 9.5+ MB\n"
          ],
          "name": "stdout"
        }
      ]
    },
    {
      "cell_type": "code",
      "metadata": {
        "id": "dRJ5bzN9fFuS",
        "colab_type": "code",
        "outputId": "f0d825b4-7431-4e76-94b0-d1878e146a0a",
        "colab": {
          "base_uri": "https://localhost:8080/",
          "height": 136
        }
      },
      "source": [
        "# stations included\n",
        "print('Included Soil Moisture Stations:')\n",
        "for station in stations_combined.station.unique().tolist():\n",
        "  print('*', station.title())"
      ],
      "execution_count": 15,
      "outputs": [
        {
          "output_type": "stream",
          "text": [
            "Included Soil Moisture Stations:\n",
            "* Sainfoin Bench\n",
            "* Baldy Draw\n",
            "* Baldy Summit\n",
            "* Indian Ridge\n",
            "* South Baldy Ridge\n",
            "* Orchard House\n"
          ],
          "name": "stdout"
        }
      ]
    },
    {
      "cell_type": "markdown",
      "metadata": {
        "id": "yOz45sp6fITR",
        "colab_type": "text"
      },
      "source": [
        "# Export combined stations "
      ]
    },
    {
      "cell_type": "code",
      "metadata": {
        "id": "265E4dz7f4CW",
        "colab_type": "code",
        "colab": {}
      },
      "source": [
        "stations_combined.to_csv('soil_moisture-190611.csv')"
      ],
      "execution_count": 0,
      "outputs": []
    }
  ]
}
