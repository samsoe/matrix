{
  "nbformat": 4,
  "nbformat_minor": 0,
  "metadata": {
    "colab": {
      "name": "soil moisture collection.ipynb",
      "version": "0.3.2",
      "provenance": [],
      "collapsed_sections": []
    },
    "kernelspec": {
      "name": "python3",
      "display_name": "Python 3"
    }
  },
  "cells": [
    {
      "cell_type": "markdown",
      "metadata": {
        "id": "haHlBHvhEhIu",
        "colab_type": "text"
      },
      "source": [
        "[![Open In Colab](https://colab.research.google.com/assets/colab-badge.svg)](https://colab.research.google.com/github/samsoe/matrix/blob/master/notebooks/soil_moisture_collection.ipynb#scrollTo=pxCW8QKdC8SS)\n",
        "\n",
        "This notebook utilizes 6 .xls files as source data.  This source data was downloaded from the 'Decagon' machine managed by MPG Ranch.  The 6 .xls files contain data from moisture probes collocated with weather stations on the ranch.  \n",
        "* [Link to hosted xls files](https://drive.google.com/open?id=1PSQAjHN_RCMSRkYYeNDLu7WpL6hzt0Y2)"
      ]
    },
    {
      "cell_type": "markdown",
      "metadata": {
        "id": "pxCW8QKdC8SS",
        "colab_type": "text"
      },
      "source": [
        "# Load Tools"
      ]
    },
    {
      "cell_type": "code",
      "metadata": {
        "id": "MQ93rgUJziga",
        "colab_type": "code",
        "colab": {}
      },
      "source": [
        "import pandas as pd\n",
        "import numpy as np"
      ],
      "execution_count": 0,
      "outputs": []
    },
    {
      "cell_type": "markdown",
      "metadata": {
        "id": "ltm8-AqFEALX",
        "colab_type": "text"
      },
      "source": [
        "# Source Data\n",
        "* [Link to hosted xls source files](https://drive.google.com/open?id=1PSQAjHN_RCMSRkYYeNDLu7WpL6hzt0Y2)"
      ]
    },
    {
      "cell_type": "code",
      "metadata": {
        "id": "lL76iA11BB1P",
        "colab_type": "code",
        "colab": {}
      },
      "source": [
        "stations_data = [\n",
        "    {'weather': 'KMTFLORE5', 'soil': 'sainfoin bench', 'soil_data': 'SB-10Jun2019-0844.xls', 'short_name': 'sb' \n",
        "    , 'url': 'https://drive.google.com/uc?id=1lKUITDnHd7zSPILsCPFYACBoiWn92KfE'},\n",
        "    {'weather': 'KMTFLORE4', 'soil': 'baldy draw', 'soil_data': 'BD-10Jun2019-0844.xls', 'short_name': 'bd'\n",
        "    , 'url': 'https://drive.google.com/uc?id=1cg6zActqzs8fEmqC30JbM-EgBjBdg7xV'},\n",
        "    {'weather': 'KMTFLORE6', 'soil': 'baldy summit', 'soil_data': 'BS-07Jun2019-1554.xls', 'short_name': 'bs'\n",
        "    , 'url': 'https://drive.google.com/uc?id=1bQlHOP4F-knljrtbk3l7tCoI-aU9EIBu'},\n",
        "    {'weather': 'KMTFLORE3', 'soil': 'indian ridge', 'soil_data': 'IR-10Jun2019-0845.xls', 'short_name': 'ir'\n",
        "    , 'url': 'https://drive.google.com/uc?id=1NjKOTYIFTrf36Z7-RaERHacwUosbme02'},\n",
        "    {'weather': 'KMTFLORE7', 'soil': 'south baldy ridge', 'soil_data': 'SBR-10Jun2019-0845.xls', 'short_name': 'sbr'\n",
        "    , 'url': 'https://drive.google.com/uc?id=1_Rrkl-8Yr3DxWi6VKgu5eC6jheP65iox'},\n",
        "    {'weather': 'KMTFLORE7', 'soil': 'orchard house', 'soil_data': 'OH-10Jun2019-0846.xls', 'short_name': 'oh'\n",
        "    , 'url': 'https://drive.google.com/uc?id=1edvoRGUPKeIGFw9Y-_EvylDJ0BcMwxtH'}\n",
        "]"
      ],
      "execution_count": 0,
      "outputs": []
    },
    {
      "cell_type": "markdown",
      "metadata": {
        "id": "sAyLVH15--Ou",
        "colab_type": "text"
      },
      "source": [
        "# Load and Restructure Downloaded Data"
      ]
    },
    {
      "cell_type": "code",
      "metadata": {
        "id": "v_mM_yDjhetJ",
        "colab_type": "code",
        "colab": {}
      },
      "source": [
        "def reshape_data(src, station):\n",
        "  # load data\n",
        "  df = pd.read_excel(src, header=[0,2])\n",
        "  \n",
        "  # restructure multi index\n",
        "  df = df.set_index(df[src]['Measurement Time']).drop((src, 'Measurement Time'), axis=1)\n",
        "  df = df.unstack().unstack(level=1).reset_index(level=1).reset_index().set_index('Measurement Time')\n",
        "\n",
        "  # rename columns\n",
        "  df.columns = ['port', 'kPa Potential', '°C Temp']\n",
        "  \n",
        "  # intitalize depth column\n",
        "  df['depth (in)'] = ''\n",
        "\n",
        "  # label moisture probe depth for each port\n",
        "  for index, row in df.iterrows():\n",
        "    if row.port == 'Port 1' or row.port == 'Port 3':\n",
        "      row['depth (in)'] = 6\n",
        "    elif row.port == 'Port 2' or row.port == 'Port 4':\n",
        "      row['depth (in)'] = 36\n",
        "      \n",
        "  # station id label\n",
        "  df['station'] = station\n",
        "  \n",
        "  return df"
      ],
      "execution_count": 0,
      "outputs": []
    },
    {
      "cell_type": "code",
      "metadata": {
        "id": "YUx7X6vMKXS-",
        "colab_type": "code",
        "colab": {}
      },
      "source": [
        "# array to hold individual station dataframes\n",
        "df_stations = []\n",
        "\n",
        "# loop through stations_data dictionary to load and restructure station data\n",
        "for station in stations_data:\n",
        "    df_stations.append({station['short_name']: reshape_data(station['soil_data'], station['soil'])})"
      ],
      "execution_count": 0,
      "outputs": []
    },
    {
      "cell_type": "markdown",
      "metadata": {
        "id": "KAP5HbRZV7eG",
        "colab_type": "text"
      },
      "source": [
        "# Combine Station DataFrames"
      ]
    },
    {
      "cell_type": "code",
      "metadata": {
        "id": "kJ9DXHJTV-K1",
        "colab_type": "code",
        "colab": {}
      },
      "source": [
        "stations_combined = pd.DataFrame()\n",
        "\n",
        "for station in df_stations:\n",
        "  for key, val in station.items():\n",
        "    stations_combined = pd.concat([stations_combined, station[key]])"
      ],
      "execution_count": 0,
      "outputs": []
    },
    {
      "cell_type": "markdown",
      "metadata": {
        "id": "NnNIK1TULppD",
        "colab_type": "text"
      },
      "source": [
        "# Clean"
      ]
    },
    {
      "cell_type": "code",
      "metadata": {
        "id": "Ck6AGLOHLsMa",
        "colab_type": "code",
        "colab": {}
      },
      "source": [
        "# Port 5 is not configured, remove it\n",
        "stations_combined = stations_combined.loc[stations_combined.port != 'Port 5']"
      ],
      "execution_count": 0,
      "outputs": []
    },
    {
      "cell_type": "code",
      "metadata": {
        "id": "x5AIQYJLLtiD",
        "colab_type": "code",
        "outputId": "a43f8513-9fcc-469c-f093-ec60896a2481",
        "colab": {
          "base_uri": "https://localhost:8080/",
          "height": 34
        }
      },
      "source": [
        "stations_combined.shape"
      ],
      "execution_count": 0,
      "outputs": [
        {
          "output_type": "execute_result",
          "data": {
            "text/plain": [
              "(171296, 5)"
            ]
          },
          "metadata": {
            "tags": []
          },
          "execution_count": 37
        }
      ]
    },
    {
      "cell_type": "code",
      "metadata": {
        "id": "PH45HiEwQYzG",
        "colab_type": "code",
        "colab": {}
      },
      "source": [
        "# The default for NA in the downloaded datasets is '***', change it to \n",
        "stations_combined = stations_combined.replace(to_replace = \"***\", value = np.NaN)"
      ],
      "execution_count": 0,
      "outputs": []
    },
    {
      "cell_type": "code",
      "metadata": {
        "id": "8kWrJthlRcC8",
        "colab_type": "code",
        "colab": {}
      },
      "source": [
        "stations_combined = stations_combined.dropna()"
      ],
      "execution_count": 0,
      "outputs": []
    },
    {
      "cell_type": "code",
      "metadata": {
        "id": "JgvKP_NnSSE5",
        "colab_type": "code",
        "outputId": "9f83eb29-0882-43ed-bef5-bc8acc0b2cfb",
        "colab": {
          "base_uri": "https://localhost:8080/",
          "height": 187
        }
      },
      "source": [
        "stations_combined.info()"
      ],
      "execution_count": 0,
      "outputs": [
        {
          "output_type": "stream",
          "text": [
            "<class 'pandas.core.frame.DataFrame'>\n",
            "DatetimeIndex: 160153 entries, 2000-11-07 06:00:00 to 2019-06-09 18:00:00\n",
            "Data columns (total 5 columns):\n",
            "port             160153 non-null object\n",
            "kPa Potential    160153 non-null float64\n",
            "°C Temp          160153 non-null float64\n",
            "depth (in)       160153 non-null int64\n",
            "station          160153 non-null object\n",
            "dtypes: float64(2), int64(1), object(2)\n",
            "memory usage: 7.3+ MB\n"
          ],
          "name": "stdout"
        }
      ]
    },
    {
      "cell_type": "code",
      "metadata": {
        "colab_type": "code",
        "id": "jegef4BCZ1bD",
        "colab": {}
      },
      "source": [
        "# reshape to single measurement per row\n",
        "stations_combined = pd.melt(stations_combined.reset_index(),\\\n",
        "        id_vars=[\"Measurement Time\",  \"station\", \"port\", \"depth (in)\"],\\\n",
        "        var_name=\"measurement\",\\\n",
        "        value_name=\"value\")"
      ],
      "execution_count": 0,
      "outputs": []
    },
    {
      "cell_type": "markdown",
      "metadata": {
        "id": "OnyDbkXfXUy6",
        "colab_type": "text"
      },
      "source": [
        "# Overview"
      ]
    },
    {
      "cell_type": "markdown",
      "metadata": {
        "id": "c7k_sO8AXmWP",
        "colab_type": "text"
      },
      "source": [
        "### Unique Stations"
      ]
    },
    {
      "cell_type": "code",
      "metadata": {
        "id": "HbUZ1iVbXah2",
        "colab_type": "code",
        "outputId": "deaf9fc6-f8fd-497e-d4f6-9c53558a969b",
        "colab": {
          "base_uri": "https://localhost:8080/",
          "height": 119
        }
      },
      "source": [
        "stations_combined.station.unique().tolist()\n"
      ],
      "execution_count": 0,
      "outputs": [
        {
          "output_type": "execute_result",
          "data": {
            "text/plain": [
              "['sainfoin bench',\n",
              " 'baldy draw',\n",
              " 'baldy summit',\n",
              " 'indian ridge',\n",
              " 'south baldy ridge',\n",
              " 'orchard house']"
            ]
          },
          "metadata": {
            "tags": []
          },
          "execution_count": 49
        }
      ]
    },
    {
      "cell_type": "code",
      "metadata": {
        "id": "QKkhteUaZ66n",
        "colab_type": "code",
        "outputId": "36158ffd-7a4c-4902-db62-36f25cc445b9",
        "colab": {
          "base_uri": "https://localhost:8080/",
          "height": 204
        }
      },
      "source": [
        "stations_combined.info()"
      ],
      "execution_count": 0,
      "outputs": [
        {
          "output_type": "stream",
          "text": [
            "<class 'pandas.core.frame.DataFrame'>\n",
            "RangeIndex: 320306 entries, 0 to 320305\n",
            "Data columns (total 6 columns):\n",
            "Measurement Time    320306 non-null datetime64[ns]\n",
            "station             320306 non-null object\n",
            "port                320306 non-null object\n",
            "depth (in)          320306 non-null int64\n",
            "measurement         320306 non-null object\n",
            "value               320306 non-null float64\n",
            "dtypes: datetime64[ns](1), float64(1), int64(1), object(3)\n",
            "memory usage: 14.7+ MB\n"
          ],
          "name": "stdout"
        }
      ]
    },
    {
      "cell_type": "markdown",
      "metadata": {
        "id": "rmxATzv7aOvF",
        "colab_type": "text"
      },
      "source": [
        "### Unique Ports"
      ]
    },
    {
      "cell_type": "code",
      "metadata": {
        "id": "8zjSafaoZ9aA",
        "colab_type": "code",
        "outputId": "e78897c8-eaee-4e32-bbe2-774019168f50",
        "colab": {
          "base_uri": "https://localhost:8080/",
          "height": 34
        }
      },
      "source": [
        "stations_combined.port.unique()"
      ],
      "execution_count": 0,
      "outputs": [
        {
          "output_type": "execute_result",
          "data": {
            "text/plain": [
              "array(['Port 1', 'Port 2', 'Port 3', 'Port 4'], dtype=object)"
            ]
          },
          "metadata": {
            "tags": []
          },
          "execution_count": 51
        }
      ]
    },
    {
      "cell_type": "markdown",
      "metadata": {
        "id": "Whqe6DNuaTkY",
        "colab_type": "text"
      },
      "source": [
        "### Measurement Depths"
      ]
    },
    {
      "cell_type": "code",
      "metadata": {
        "id": "SPo3_S-uaTA8",
        "colab_type": "code",
        "outputId": "45b86499-395e-41e8-b10c-8fec6faf6924",
        "colab": {
          "base_uri": "https://localhost:8080/",
          "height": 34
        }
      },
      "source": [
        "stations_combined['depth (in)'].unique()"
      ],
      "execution_count": 0,
      "outputs": [
        {
          "output_type": "execute_result",
          "data": {
            "text/plain": [
              "array([ 6, 36])"
            ]
          },
          "metadata": {
            "tags": []
          },
          "execution_count": 53
        }
      ]
    },
    {
      "cell_type": "markdown",
      "metadata": {
        "id": "d5dnzHOLajMi",
        "colab_type": "text"
      },
      "source": [
        "### Measurement Types"
      ]
    },
    {
      "cell_type": "code",
      "metadata": {
        "id": "3zrBBsCAafTM",
        "colab_type": "code",
        "outputId": "19f0e728-827b-4b39-bb14-1c6ae0c6687e",
        "colab": {
          "base_uri": "https://localhost:8080/",
          "height": 34
        }
      },
      "source": [
        "stations_combined.measurement.unique()"
      ],
      "execution_count": 0,
      "outputs": [
        {
          "output_type": "execute_result",
          "data": {
            "text/plain": [
              "array(['kPa Potential', '°C Temp'], dtype=object)"
            ]
          },
          "metadata": {
            "tags": []
          },
          "execution_count": 54
        }
      ]
    },
    {
      "cell_type": "markdown",
      "metadata": {
        "id": "yOz45sp6fITR",
        "colab_type": "text"
      },
      "source": [
        "# Export combined stations "
      ]
    },
    {
      "cell_type": "code",
      "metadata": {
        "id": "265E4dz7f4CW",
        "colab_type": "code",
        "colab": {}
      },
      "source": [
        "stations_combined.to_csv('soil_moisture-190611.csv', index=False)"
      ],
      "execution_count": 0,
      "outputs": []
    },
    {
      "cell_type": "markdown",
      "metadata": {
        "id": "r4d2DZpBFHzq",
        "colab_type": "text"
      },
      "source": [
        "'soil_moisture-190611.csv' output can be downloaded here: [link](https://drive.google.com/open?id=1F-OzrbaqUR28skpxc8Ai6hjpSq_VjSpD)"
      ]
    }
  ]
}