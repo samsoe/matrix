{
  "nbformat": 4,
  "nbformat_minor": 0,
  "metadata": {
    "colab": {
      "name": "soil moisture.ipynb",
      "version": "0.3.2",
      "provenance": [],
      "toc_visible": true
    },
    "kernelspec": {
      "name": "python3",
      "display_name": "Python 3"
    }
  },
  "cells": [
    {
      "cell_type": "markdown",
      "metadata": {
        "id": "pxCW8QKdC8SS",
        "colab_type": "text"
      },
      "source": [
        "# Load Tools"
      ]
    },
    {
      "cell_type": "code",
      "metadata": {
        "id": "MQ93rgUJziga",
        "colab_type": "code",
        "colab": {}
      },
      "source": [
        "import pandas as pd"
      ],
      "execution_count": 0,
      "outputs": []
    },
    {
      "cell_type": "code",
      "metadata": {
        "id": "5x1tO4n1-3Qa",
        "colab_type": "code",
        "outputId": "8bf2a913-3b14-4088-d8d2-14e4203e4487",
        "colab": {
          "base_uri": "https://localhost:8080/",
          "height": 139
        }
      },
      "source": [
        "from google.colab import drive\n",
        "drive.mount('/gdrive', force_remount=True)\n",
        "%cd /gdrive"
      ],
      "execution_count": 2,
      "outputs": [
        {
          "output_type": "stream",
          "text": [
            "Go to this URL in a browser: https://accounts.google.com/o/oauth2/auth?client_id=947318989803-6bn6qk8qdgf4n4g3pfee6491hc0brc4i.apps.googleusercontent.com&redirect_uri=urn%3Aietf%3Awg%3Aoauth%3A2.0%3Aoob&scope=email%20https%3A%2F%2Fwww.googleapis.com%2Fauth%2Fdocs.test%20https%3A%2F%2Fwww.googleapis.com%2Fauth%2Fdrive%20https%3A%2F%2Fwww.googleapis.com%2Fauth%2Fdrive.photos.readonly%20https%3A%2F%2Fwww.googleapis.com%2Fauth%2Fpeopleapi.readonly&response_type=code\n",
            "\n",
            "Enter your authorization code:\n",
            "··········\n",
            "Mounted at /gdrive\n",
            "/gdrive\n"
          ],
          "name": "stdout"
        }
      ]
    },
    {
      "cell_type": "markdown",
      "metadata": {
        "id": "ltm8-AqFEALX",
        "colab_type": "text"
      },
      "source": [
        "# Meta Data\n",
        "Individual stations downloaded from 'Decagon' virtual machine maintained by MPG Ranch on 190610\n",
        "* [Link to hosted xls files](https://drive.google.com/drive/folders/1mDuhIWc3LMfCCbI_6rt82m8j2AhUi3Qk)"
      ]
    },
    {
      "cell_type": "code",
      "metadata": {
        "id": "lL76iA11BB1P",
        "colab_type": "code",
        "colab": {}
      },
      "source": [
        "stations_data = [\n",
        "    {'weather': 'KMTFLORE5', 'soil': 'sainfoin bench', 'soil_data': 'SB-10Jun2019-0844.xls', 'short_name': 'sb'},\n",
        "    {'weather': 'KMTFLORE4', 'soil': 'baldy draw', 'soil_data': 'BD-10Jun2019-0844.xls', 'short_name': 'bd'},\n",
        "    {'weather': 'KMTFLORE6', 'soil': 'baldy summit', 'soil_data': 'BS-07Jun2019-1554.xls', 'short_name': 'bs'},\n",
        "    {'weather': 'KMTFLORE3', 'soil': 'indian ridge', 'soil_data': 'IR-10Jun2019-0845.xls', 'short_name': 'ir'},\n",
        "    {'weather': 'KMTFLORE7', 'soil': 'south baldy ridge', 'soil_data': 'SBR-10Jun2019-0845.xls', 'short_name': 'sbr'},\n",
        "    {'weather': 'KMTFLORE7', 'soil': 'orchard house', 'soil_data': 'OH-10Jun2019-0846.xls', 'short_name': 'oh'}\n",
        "]\n",
        "\n",
        "\n",
        "google_drive_source = 'My Drive/Current Work/MPG Ranch/Matrix/Data/Soil Moisture/'"
      ],
      "execution_count": 0,
      "outputs": []
    },
    {
      "cell_type": "markdown",
      "metadata": {
        "id": "sAyLVH15--Ou",
        "colab_type": "text"
      },
      "source": [
        "# Restructure Downloaded Data"
      ]
    },
    {
      "cell_type": "code",
      "metadata": {
        "id": "v_mM_yDjhetJ",
        "colab_type": "code",
        "colab": {}
      },
      "source": [
        "def reshape_data(src, station):\n",
        "  # load data\n",
        "  df = pd.read_excel(google_drive_source + src, header=[0,2])\n",
        "  \n",
        "  # restructure multi index\n",
        "  df = df.set_index(df[src]['Measurement Time']).drop((src, 'Measurement Time'), axis=1)\n",
        "  df = df.unstack().unstack(level=1).reset_index(level=1).reset_index().set_index('Measurement Time')\n",
        "\n",
        "  # rename columns\n",
        "  df.columns = ['port', 'kPa Potential', '°C Temp']\n",
        "  \n",
        "  # intitalize depth column\n",
        "  df['depth (in)'] = ''\n",
        "\n",
        "  # label moisture probe depth for each port\n",
        "  for index, row in df.iterrows():\n",
        "    if row.port == 'Port 1' or row.port == 'Port 3':\n",
        "      row['depth (in)'] = 6\n",
        "    elif row.port == 'Port 2' or row.port == 'Port 4':\n",
        "      row['depth (in)'] = 36\n",
        "      \n",
        "  # station id label\n",
        "  df['station'] = station\n",
        "  \n",
        "  return df"
      ],
      "execution_count": 0,
      "outputs": []
    },
    {
      "cell_type": "code",
      "metadata": {
        "id": "YUx7X6vMKXS-",
        "colab_type": "code",
        "colab": {}
      },
      "source": [
        "# array to hold individual station dataframes\n",
        "df_stations = []\n",
        "\n",
        "# loop through stations_data dictionary to load and restructure station data\n",
        "for station in stations_data:\n",
        "    df_stations.append({station['short_name']: reshape_data(station['soil_data'], station['soil'])})"
      ],
      "execution_count": 0,
      "outputs": []
    },
    {
      "cell_type": "markdown",
      "metadata": {
        "id": "KAP5HbRZV7eG",
        "colab_type": "text"
      },
      "source": [
        "# Combine Station DataFrames"
      ]
    },
    {
      "cell_type": "code",
      "metadata": {
        "id": "kJ9DXHJTV-K1",
        "colab_type": "code",
        "colab": {}
      },
      "source": [
        "stations_combined = pd.DataFrame()\n",
        "\n",
        "for station in df_stations:\n",
        "  for key, val in station.items():\n",
        "    stations_combined = pd.concat([stations_combined, station[key]])"
      ],
      "execution_count": 0,
      "outputs": []
    },
    {
      "cell_type": "code",
      "metadata": {
        "id": "CVL6ZJjWW4RQ",
        "colab_type": "code",
        "colab": {
          "base_uri": "https://localhost:8080/",
          "height": 187
        },
        "outputId": "f53d14bc-463e-4cf7-94df-b243e771bca5"
      },
      "source": [
        "stations_combined.info()"
      ],
      "execution_count": 7,
      "outputs": [
        {
          "output_type": "stream",
          "text": [
            "<class 'pandas.core.frame.DataFrame'>\n",
            "DatetimeIndex: 207197 entries, 2000-11-07 06:00:00 to 2019-06-09 18:00:00\n",
            "Data columns (total 5 columns):\n",
            "port             207197 non-null object\n",
            "kPa Potential    207197 non-null object\n",
            "°C Temp          207197 non-null object\n",
            "depth (in)       207197 non-null object\n",
            "station          207197 non-null object\n",
            "dtypes: object(5)\n",
            "memory usage: 9.5+ MB\n"
          ],
          "name": "stdout"
        }
      ]
    },
    {
      "cell_type": "code",
      "metadata": {
        "id": "dRJ5bzN9fFuS",
        "colab_type": "code",
        "colab": {
          "base_uri": "https://localhost:8080/",
          "height": 119
        },
        "outputId": "6f2ecf4d-57e9-4f47-e4df-02638677a84f"
      },
      "source": [
        "# stations included\n",
        "for station in stations_combined.station.unique().tolist():\n",
        "  print(station)"
      ],
      "execution_count": 8,
      "outputs": [
        {
          "output_type": "stream",
          "text": [
            "sainfoin bench\n",
            "baldy draw\n",
            "baldy summit\n",
            "indian ridge\n",
            "south baldy ridge\n",
            "orchard house\n"
          ],
          "name": "stdout"
        }
      ]
    },
    {
      "cell_type": "markdown",
      "metadata": {
        "id": "yOz45sp6fITR",
        "colab_type": "text"
      },
      "source": [
        "# Export combined stations "
      ]
    },
    {
      "cell_type": "code",
      "metadata": {
        "id": "qACl6aKafeUZ",
        "colab_type": "code",
        "colab": {
          "base_uri": "https://localhost:8080/",
          "height": 34
        },
        "outputId": "a54b830a-ed2c-4990-fc34-961ca9696e51"
      },
      "source": [
        "type(stations_combined)"
      ],
      "execution_count": 9,
      "outputs": [
        {
          "output_type": "execute_result",
          "data": {
            "text/plain": [
              "pandas.core.frame.DataFrame"
            ]
          },
          "metadata": {
            "tags": []
          },
          "execution_count": 9
        }
      ]
    },
    {
      "cell_type": "code",
      "metadata": {
        "id": "265E4dz7f4CW",
        "colab_type": "code",
        "colab": {
          "base_uri": "https://localhost:8080/",
          "height": 307
        },
        "outputId": "f40b0550-1fe1-4b25-aec4-e144f7ea6164"
      },
      "source": [
        "stations_combined.to_csv('data.csv')"
      ],
      "execution_count": 10,
      "outputs": [
        {
          "output_type": "error",
          "ename": "OSError",
          "evalue": "ignored",
          "traceback": [
            "\u001b[0;31m---------------------------------------------------------------------------\u001b[0m",
            "\u001b[0;31mOSError\u001b[0m                                   Traceback (most recent call last)",
            "\u001b[0;32m<ipython-input-10-0b2e08866927>\u001b[0m in \u001b[0;36m<module>\u001b[0;34m()\u001b[0m\n\u001b[0;32m----> 1\u001b[0;31m \u001b[0mstations_combined\u001b[0m\u001b[0;34m.\u001b[0m\u001b[0mto_csv\u001b[0m\u001b[0;34m(\u001b[0m\u001b[0;34m'data.csv'\u001b[0m\u001b[0;34m)\u001b[0m\u001b[0;34m\u001b[0m\u001b[0;34m\u001b[0m\u001b[0m\n\u001b[0m",
            "\u001b[0;32m/usr/local/lib/python3.6/dist-packages/pandas/core/generic.py\u001b[0m in \u001b[0;36mto_csv\u001b[0;34m(self, path_or_buf, sep, na_rep, float_format, columns, header, index, index_label, mode, encoding, compression, quoting, quotechar, line_terminator, chunksize, tupleize_cols, date_format, doublequote, escapechar, decimal)\u001b[0m\n\u001b[1;32m   3018\u001b[0m                                  \u001b[0mdoublequote\u001b[0m\u001b[0;34m=\u001b[0m\u001b[0mdoublequote\u001b[0m\u001b[0;34m,\u001b[0m\u001b[0;34m\u001b[0m\u001b[0;34m\u001b[0m\u001b[0m\n\u001b[1;32m   3019\u001b[0m                                  escapechar=escapechar, decimal=decimal)\n\u001b[0;32m-> 3020\u001b[0;31m         \u001b[0mformatter\u001b[0m\u001b[0;34m.\u001b[0m\u001b[0msave\u001b[0m\u001b[0;34m(\u001b[0m\u001b[0;34m)\u001b[0m\u001b[0;34m\u001b[0m\u001b[0;34m\u001b[0m\u001b[0m\n\u001b[0m\u001b[1;32m   3021\u001b[0m \u001b[0;34m\u001b[0m\u001b[0m\n\u001b[1;32m   3022\u001b[0m         \u001b[0;32mif\u001b[0m \u001b[0mpath_or_buf\u001b[0m \u001b[0;32mis\u001b[0m \u001b[0;32mNone\u001b[0m\u001b[0;34m:\u001b[0m\u001b[0;34m\u001b[0m\u001b[0;34m\u001b[0m\u001b[0m\n",
            "\u001b[0;32m/usr/local/lib/python3.6/dist-packages/pandas/io/formats/csvs.py\u001b[0m in \u001b[0;36msave\u001b[0;34m(self)\u001b[0m\n\u001b[1;32m    155\u001b[0m             f, handles = _get_handle(self.path_or_buf, self.mode,\n\u001b[1;32m    156\u001b[0m                                      \u001b[0mencoding\u001b[0m\u001b[0;34m=\u001b[0m\u001b[0mself\u001b[0m\u001b[0;34m.\u001b[0m\u001b[0mencoding\u001b[0m\u001b[0;34m,\u001b[0m\u001b[0;34m\u001b[0m\u001b[0;34m\u001b[0m\u001b[0m\n\u001b[0;32m--> 157\u001b[0;31m                                      compression=self.compression)\n\u001b[0m\u001b[1;32m    158\u001b[0m             \u001b[0mclose\u001b[0m \u001b[0;34m=\u001b[0m \u001b[0;32mTrue\u001b[0m\u001b[0;34m\u001b[0m\u001b[0;34m\u001b[0m\u001b[0m\n\u001b[1;32m    159\u001b[0m \u001b[0;34m\u001b[0m\u001b[0m\n",
            "\u001b[0;32m/usr/local/lib/python3.6/dist-packages/pandas/io/common.py\u001b[0m in \u001b[0;36m_get_handle\u001b[0;34m(path_or_buf, mode, encoding, compression, memory_map, is_text)\u001b[0m\n\u001b[1;32m    422\u001b[0m         \u001b[0;32melif\u001b[0m \u001b[0mencoding\u001b[0m\u001b[0;34m:\u001b[0m\u001b[0;34m\u001b[0m\u001b[0;34m\u001b[0m\u001b[0m\n\u001b[1;32m    423\u001b[0m             \u001b[0;31m# Python 3 and encoding\u001b[0m\u001b[0;34m\u001b[0m\u001b[0;34m\u001b[0m\u001b[0;34m\u001b[0m\u001b[0m\n\u001b[0;32m--> 424\u001b[0;31m             \u001b[0mf\u001b[0m \u001b[0;34m=\u001b[0m \u001b[0mopen\u001b[0m\u001b[0;34m(\u001b[0m\u001b[0mpath_or_buf\u001b[0m\u001b[0;34m,\u001b[0m \u001b[0mmode\u001b[0m\u001b[0;34m,\u001b[0m \u001b[0mencoding\u001b[0m\u001b[0;34m=\u001b[0m\u001b[0mencoding\u001b[0m\u001b[0;34m,\u001b[0m \u001b[0mnewline\u001b[0m\u001b[0;34m=\u001b[0m\u001b[0;34m\"\"\u001b[0m\u001b[0;34m)\u001b[0m\u001b[0;34m\u001b[0m\u001b[0;34m\u001b[0m\u001b[0m\n\u001b[0m\u001b[1;32m    425\u001b[0m         \u001b[0;32melif\u001b[0m \u001b[0mis_text\u001b[0m\u001b[0;34m:\u001b[0m\u001b[0;34m\u001b[0m\u001b[0;34m\u001b[0m\u001b[0m\n\u001b[1;32m    426\u001b[0m             \u001b[0;31m# Python 3 and no explicit encoding\u001b[0m\u001b[0;34m\u001b[0m\u001b[0;34m\u001b[0m\u001b[0;34m\u001b[0m\u001b[0m\n",
            "\u001b[0;31mOSError\u001b[0m: [Errno 95] Operation not supported: 'data.csv'"
          ]
        }
      ]
    }
  ]
}