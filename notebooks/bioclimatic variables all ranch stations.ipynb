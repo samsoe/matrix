{
 "cells": [
  {
   "cell_type": "markdown",
   "metadata": {},
   "source": [
    "## [Bioclimatic variables](https://www.worldclim.org/bioclim)\n",
    "* BIO1 = Annual Mean Temperature\n",
    "* BIO2 = Mean Diurnal Range (Mean of monthly (max temp - min temp))\n",
    "* BIO3 = Isothermality (* BIO2/* BIO7) (* 100)\n",
    "* BIO4 = Temperature Seasonality (standard deviation *100)\n",
    "* BIO5 = Max Temperature of Warmest Month\n",
    "* BIO6 = Min Temperature of Coldest Month\n",
    "* BIO7 = Temperature Annual Range (* BIO5-* BIO6)\n",
    "* BIO8 = Mean Temperature of Wettest Quarter\n",
    "* BIO9 = Mean Temperature of Driest Quarter\n",
    "* BIO10 = Mean Temperature of Warmest Quarter\n",
    "* BIO11 = Mean Temperature of Coldest Quarter\n",
    "* BIO12 = Annual Precipitation\n",
    "* BIO13 = Precipitation of Wettest Month\n",
    "* BIO14 = Precipitation of Driest Month\n",
    "* BIO15 = Precipitation Seasonality (Coefficient of Variation)\n",
    "* BIO16 = Precipitation of Wettest Quarter\n",
    "* BIO17 = Precipitation of Driest Quarter\n",
    "* BIO18 = Precipitation of Warmest Quarter\n",
    "* BIO19 = Precipitation of Coldest Quarter"
   ]
  },
  {
   "cell_type": "markdown",
   "metadata": {},
   "source": [
    "[Bioclimatic Predictors for Supporting Ecological\n",
    "Applications in the Conterminous United States](https://pubs.usgs.gov/ds/691/ds691.pdf)"
   ]
  },
  {
   "cell_type": "markdown",
   "metadata": {},
   "source": [
    "# Load Data"
   ]
  },
  {
   "cell_type": "code",
   "execution_count": 977,
   "metadata": {},
   "outputs": [],
   "source": [
    "# load dataframe package\n",
    "import pandas as pd"
   ]
  },
  {
   "cell_type": "markdown",
   "metadata": {},
   "source": [
    "### Temperature"
   ]
  },
  {
   "cell_type": "markdown",
   "metadata": {},
   "source": [
    "* Data Source: [orchard_house-temp_hourly.csv](https://docs.google.com/document/d/1bobpeO5iTVWUPGmqVKgWOOqY08KOXc_ho0x2oaWguGU/edit)"
   ]
  },
  {
   "cell_type": "code",
   "execution_count": 667,
   "metadata": {},
   "outputs": [],
   "source": [
    "src = '../src/orchard_house-temp_hourly.csv'\n",
    "df = pd.read_csv(src, parse_dates=['datetime'], index_col='datetime')"
   ]
  },
  {
   "cell_type": "code",
   "execution_count": 668,
   "metadata": {},
   "outputs": [
    {
     "name": "stdout",
     "output_type": "stream",
     "text": [
      "<class 'pandas.core.frame.DataFrame'>\n",
      "DatetimeIndex: 200790 entries, 2012-06-19 16:00:00 to 2019-04-21 17:00:00\n",
      "Data columns (total 19 columns):\n",
      "Day of the Week                                200790 non-null object\n",
      "Outside Temperature Baldy Summit (°F)          186572 non-null float64\n",
      "High Outside Temperature Baldy Summit (°F)     186906 non-null float64\n",
      "Low Outside Temperature Baldy Summit (°F)      186906 non-null float64\n",
      "Outside Temperature Baldy Draw (°F)            175416 non-null float64\n",
      "High Outside Temperature Baldy Draw (°F)       177276 non-null float64\n",
      "Low Outside Temperature Baldy Draw (°F)        177276 non-null float64\n",
      "Outside Temperature Sanfoin Bench (°F)         175100 non-null float64\n",
      "High Outside Temperature Sanfoin Bench (°F)    176606 non-null float64\n",
      "Low Outside Temperature Sanfoin Bench (°F)     176606 non-null float64\n",
      "Outside Temperature South Baldy (°F)           187560 non-null float64\n",
      "High Outside Temperature South Baldy (°F)      187806 non-null float64\n",
      "Low Outside Temperature South Baldy (°F)       187806 non-null float64\n",
      "Outside Temperature Orchard House (°F)         200761 non-null float64\n",
      "High Outside Temperature Orchard House (°F)    200763 non-null float64\n",
      "Low Outside Temperature Orchard House (°F)     200763 non-null float64\n",
      "Outside Temperature Indian Ridge (°F)          182548 non-null float64\n",
      "High Outside Temperature Indian Ridge (°F)     183349 non-null float64\n",
      "Low Outside Temperature Indian Ridge (°F)      183349 non-null float64\n",
      "dtypes: float64(18), object(1)\n",
      "memory usage: 30.6+ MB\n"
     ]
    }
   ],
   "source": [
    "df.info()"
   ]
  },
  {
   "cell_type": "code",
   "execution_count": 669,
   "metadata": {},
   "outputs": [],
   "source": [
    "# select 'Baldy Summit, 'Baldy Draw', 'Sanfoin Bench', 'South Baldy', 'Orchard House', 'Indian Ridge'\n",
    "df = df.iloc[:, [1, 4, 7, 10, 13, 16]]"
   ]
  },
  {
   "cell_type": "code",
   "execution_count": 689,
   "metadata": {},
   "outputs": [],
   "source": [
    "# average all stations columns together by row\n",
    "station_ave = df.mean(axis=1).to_frame(name='temp')"
   ]
  },
  {
   "cell_type": "code",
   "execution_count": 690,
   "metadata": {},
   "outputs": [],
   "source": [
    "# 2012, 2013 and 2019 are incomplete, remove them\n",
    "station_ave = station_ave['2014':'2018']"
   ]
  },
  {
   "cell_type": "markdown",
   "metadata": {},
   "source": [
    "### Precipitation"
   ]
  },
  {
   "cell_type": "markdown",
   "metadata": {},
   "source": [
    "* Data Source: [MPG Ranch Weather Stations - Precipitation - Hourly_Archive.csv](https://docs.google.com/document/d/1mt-xiSmcJPR3_txNfsalTUlFv9xZrKPLGUAHW0mVqk0/edit)"
   ]
  },
  {
   "cell_type": "code",
   "execution_count": 707,
   "metadata": {},
   "outputs": [],
   "source": [
    "precip_src = '../src/MPG Ranch Weather Stations - Precipitation - Hourly_Archive.csv'"
   ]
  },
  {
   "cell_type": "code",
   "execution_count": 713,
   "metadata": {},
   "outputs": [],
   "source": [
    "df_precip = pd.read_csv(precip_src, parse_dates=['Date Time'], index_col='Date Time')"
   ]
  },
  {
   "cell_type": "code",
   "execution_count": 714,
   "metadata": {},
   "outputs": [
    {
     "name": "stdout",
     "output_type": "stream",
     "text": [
      "<class 'pandas.core.frame.DataFrame'>\n",
      "DatetimeIndex: 200790 entries, 2012-06-19 16:00:00 to 2019-04-21 17:00:00\n",
      "Data columns (total 6 columns):\n",
      "Baldy Summit Rain (in)         200790 non-null float64\n",
      "Baldy Draw Rain (in)           200790 non-null float64\n",
      "Sanfoin Bench Rain (in)        200790 non-null float64\n",
      "South Baldy Ridge Rain (in)    200790 non-null float64\n",
      "Orchard House Rain (in)        200790 non-null float64\n",
      "Indian Ridge Rain (in)         198485 non-null float64\n",
      "dtypes: float64(6)\n",
      "memory usage: 10.7 MB\n"
     ]
    }
   ],
   "source": [
    "df_precip.info()"
   ]
  },
  {
   "cell_type": "code",
   "execution_count": 712,
   "metadata": {},
   "outputs": [
    {
     "data": {
      "text/html": [
       "<div>\n",
       "<style scoped>\n",
       "    .dataframe tbody tr th:only-of-type {\n",
       "        vertical-align: middle;\n",
       "    }\n",
       "\n",
       "    .dataframe tbody tr th {\n",
       "        vertical-align: top;\n",
       "    }\n",
       "\n",
       "    .dataframe thead th {\n",
       "        text-align: right;\n",
       "    }\n",
       "</style>\n",
       "<table border=\"1\" class=\"dataframe\">\n",
       "  <thead>\n",
       "    <tr style=\"text-align: right;\">\n",
       "      <th></th>\n",
       "      <th>Date Time</th>\n",
       "      <th>Baldy Summit Rain (in)</th>\n",
       "      <th>Baldy Draw Rain (in)</th>\n",
       "      <th>Sanfoin Bench Rain (in)</th>\n",
       "      <th>South Baldy Ridge Rain (in)</th>\n",
       "      <th>Orchard House Rain (in)</th>\n",
       "      <th>Indian Ridge Rain (in)</th>\n",
       "    </tr>\n",
       "  </thead>\n",
       "  <tbody>\n",
       "    <tr>\n",
       "      <th>0</th>\n",
       "      <td>2012-06-19 16:00:00</td>\n",
       "      <td>0.0</td>\n",
       "      <td>0.0</td>\n",
       "      <td>0.0</td>\n",
       "      <td>0.0</td>\n",
       "      <td>0.0</td>\n",
       "      <td>NaN</td>\n",
       "    </tr>\n",
       "    <tr>\n",
       "      <th>1</th>\n",
       "      <td>2012-06-19 16:05:00</td>\n",
       "      <td>0.0</td>\n",
       "      <td>0.0</td>\n",
       "      <td>0.0</td>\n",
       "      <td>0.0</td>\n",
       "      <td>0.0</td>\n",
       "      <td>NaN</td>\n",
       "    </tr>\n",
       "    <tr>\n",
       "      <th>2</th>\n",
       "      <td>2012-06-19 16:10:00</td>\n",
       "      <td>0.0</td>\n",
       "      <td>0.0</td>\n",
       "      <td>0.0</td>\n",
       "      <td>0.0</td>\n",
       "      <td>0.0</td>\n",
       "      <td>NaN</td>\n",
       "    </tr>\n",
       "    <tr>\n",
       "      <th>3</th>\n",
       "      <td>2012-06-19 16:15:00</td>\n",
       "      <td>0.0</td>\n",
       "      <td>0.0</td>\n",
       "      <td>0.0</td>\n",
       "      <td>0.0</td>\n",
       "      <td>0.0</td>\n",
       "      <td>NaN</td>\n",
       "    </tr>\n",
       "    <tr>\n",
       "      <th>4</th>\n",
       "      <td>2012-06-19 16:20:00</td>\n",
       "      <td>0.0</td>\n",
       "      <td>0.0</td>\n",
       "      <td>0.0</td>\n",
       "      <td>0.0</td>\n",
       "      <td>0.0</td>\n",
       "      <td>NaN</td>\n",
       "    </tr>\n",
       "  </tbody>\n",
       "</table>\n",
       "</div>"
      ],
      "text/plain": [
       "             Date Time  Baldy Summit Rain (in)  Baldy Draw Rain (in)  \\\n",
       "0  2012-06-19 16:00:00                     0.0                   0.0   \n",
       "1  2012-06-19 16:05:00                     0.0                   0.0   \n",
       "2  2012-06-19 16:10:00                     0.0                   0.0   \n",
       "3  2012-06-19 16:15:00                     0.0                   0.0   \n",
       "4  2012-06-19 16:20:00                     0.0                   0.0   \n",
       "\n",
       "   Sanfoin Bench Rain (in)  South Baldy Ridge Rain (in)  \\\n",
       "0                      0.0                          0.0   \n",
       "1                      0.0                          0.0   \n",
       "2                      0.0                          0.0   \n",
       "3                      0.0                          0.0   \n",
       "4                      0.0                          0.0   \n",
       "\n",
       "   Orchard House Rain (in)  Indian Ridge Rain (in)  \n",
       "0                      0.0                     NaN  \n",
       "1                      0.0                     NaN  \n",
       "2                      0.0                     NaN  \n",
       "3                      0.0                     NaN  \n",
       "4                      0.0                     NaN  "
      ]
     },
     "execution_count": 712,
     "metadata": {},
     "output_type": "execute_result"
    }
   ],
   "source": [
    "df_precip.head()"
   ]
  },
  {
   "cell_type": "code",
   "execution_count": 715,
   "metadata": {},
   "outputs": [],
   "source": [
    "# average ranch stations\n",
    "p_ave = df_precip.mean(axis=1).to_frame(name='precip')"
   ]
  },
  {
   "cell_type": "code",
   "execution_count": 721,
   "metadata": {},
   "outputs": [],
   "source": [
    "# 2012, 2013, and 2019 are incomplete, remove them\n",
    "p_ave = p_ave['2014':'2018']"
   ]
  },
  {
   "cell_type": "markdown",
   "metadata": {},
   "source": [
    "# Calculations"
   ]
  },
  {
   "cell_type": "markdown",
   "metadata": {},
   "source": [
    "### BIO1 = Annual Mean Temperature"
   ]
  },
  {
   "cell_type": "code",
   "execution_count": 672,
   "metadata": {},
   "outputs": [],
   "source": [
    "BIO1 = station_ave.groupby(pd.Grouper(freq='Y')).mean().round(1)"
   ]
  },
  {
   "cell_type": "code",
   "execution_count": 673,
   "metadata": {},
   "outputs": [],
   "source": [
    "# rename index and column\n",
    "BIO1 = BIO1.reset_index()\n",
    "BIO1.columns = ['year', 'BIO1']\n",
    "\n",
    "# reformat datetime\n",
    "BIO1.year = BIO1.year.dt.year\n",
    "BIO1 = BIO1.set_index('year')"
   ]
  },
  {
   "cell_type": "code",
   "execution_count": 674,
   "metadata": {},
   "outputs": [
    {
     "data": {
      "text/html": [
       "<div>\n",
       "<style scoped>\n",
       "    .dataframe tbody tr th:only-of-type {\n",
       "        vertical-align: middle;\n",
       "    }\n",
       "\n",
       "    .dataframe tbody tr th {\n",
       "        vertical-align: top;\n",
       "    }\n",
       "\n",
       "    .dataframe thead th {\n",
       "        text-align: right;\n",
       "    }\n",
       "</style>\n",
       "<table border=\"1\" class=\"dataframe\">\n",
       "  <thead>\n",
       "    <tr style=\"text-align: right;\">\n",
       "      <th></th>\n",
       "      <th>BIO1</th>\n",
       "    </tr>\n",
       "    <tr>\n",
       "      <th>year</th>\n",
       "      <th></th>\n",
       "    </tr>\n",
       "  </thead>\n",
       "  <tbody>\n",
       "    <tr>\n",
       "      <th>2014</th>\n",
       "      <td>44.8</td>\n",
       "    </tr>\n",
       "    <tr>\n",
       "      <th>2015</th>\n",
       "      <td>47.3</td>\n",
       "    </tr>\n",
       "    <tr>\n",
       "      <th>2016</th>\n",
       "      <td>45.9</td>\n",
       "    </tr>\n",
       "    <tr>\n",
       "      <th>2017</th>\n",
       "      <td>44.7</td>\n",
       "    </tr>\n",
       "    <tr>\n",
       "      <th>2018</th>\n",
       "      <td>44.4</td>\n",
       "    </tr>\n",
       "  </tbody>\n",
       "</table>\n",
       "</div>"
      ],
      "text/plain": [
       "      BIO1\n",
       "year      \n",
       "2014  44.8\n",
       "2015  47.3\n",
       "2016  45.9\n",
       "2017  44.7\n",
       "2018  44.4"
      ]
     },
     "execution_count": 674,
     "metadata": {},
     "output_type": "execute_result"
    }
   ],
   "source": [
    "BIO1"
   ]
  },
  {
   "cell_type": "markdown",
   "metadata": {},
   "source": [
    "### BIO2 = Mean Diurnal Range (Mean of monthly (max temp - min temp))"
   ]
  },
  {
   "cell_type": "code",
   "execution_count": 1071,
   "metadata": {},
   "outputs": [],
   "source": [
    "# select max and min values from month groups\n",
    "max_temp = station_ave.groupby(pd.Grouper(freq='M')).max()\n",
    "min_temp = station_ave.groupby(pd.Grouper(freq='M')).min()\n",
    "\n",
    "monthly = max_temp - min_temp"
   ]
  },
  {
   "cell_type": "code",
   "execution_count": 1072,
   "metadata": {},
   "outputs": [],
   "source": [
    "# calculate mean of monthly differences\n",
    "BIO2 = monthly.groupby(pd.Grouper(freq='Y')).mean().round(1)"
   ]
  },
  {
   "cell_type": "code",
   "execution_count": 1022,
   "metadata": {},
   "outputs": [],
   "source": [
    "# rename index and column\n",
    "BIO2 = BIO2.reset_index()\n",
    "BIO2.columns = ['year', 'range']\n",
    "\n",
    "# reformat datetime\n",
    "BIO2.year = BIO2.year.dt.year\n",
    "BIO2 = BIO2.set_index('year')"
   ]
  },
  {
   "cell_type": "code",
   "execution_count": 1023,
   "metadata": {},
   "outputs": [
    {
     "data": {
      "text/html": [
       "<div>\n",
       "<style scoped>\n",
       "    .dataframe tbody tr th:only-of-type {\n",
       "        vertical-align: middle;\n",
       "    }\n",
       "\n",
       "    .dataframe tbody tr th {\n",
       "        vertical-align: top;\n",
       "    }\n",
       "\n",
       "    .dataframe thead th {\n",
       "        text-align: right;\n",
       "    }\n",
       "</style>\n",
       "<table border=\"1\" class=\"dataframe\">\n",
       "  <thead>\n",
       "    <tr style=\"text-align: right;\">\n",
       "      <th></th>\n",
       "      <th>range</th>\n",
       "    </tr>\n",
       "    <tr>\n",
       "      <th>year</th>\n",
       "      <th></th>\n",
       "    </tr>\n",
       "  </thead>\n",
       "  <tbody>\n",
       "    <tr>\n",
       "      <th>2014</th>\n",
       "      <td>49.5</td>\n",
       "    </tr>\n",
       "    <tr>\n",
       "      <th>2015</th>\n",
       "      <td>48.2</td>\n",
       "    </tr>\n",
       "    <tr>\n",
       "      <th>2016</th>\n",
       "      <td>42.3</td>\n",
       "    </tr>\n",
       "    <tr>\n",
       "      <th>2017</th>\n",
       "      <td>44.6</td>\n",
       "    </tr>\n",
       "    <tr>\n",
       "      <th>2018</th>\n",
       "      <td>43.9</td>\n",
       "    </tr>\n",
       "  </tbody>\n",
       "</table>\n",
       "</div>"
      ],
      "text/plain": [
       "      range\n",
       "year       \n",
       "2014   49.5\n",
       "2015   48.2\n",
       "2016   42.3\n",
       "2017   44.6\n",
       "2018   43.9"
      ]
     },
     "execution_count": 1023,
     "metadata": {},
     "output_type": "execute_result"
    }
   ],
   "source": [
    "BIO2"
   ]
  },
  {
   "cell_type": "markdown",
   "metadata": {},
   "source": [
    "### BIO3 = Isothermality (BIO2/BIO7) (* 100)"
   ]
  },
  {
   "cell_type": "code",
   "execution_count": 1075,
   "metadata": {},
   "outputs": [],
   "source": [
    "# processing"
   ]
  },
  {
   "cell_type": "markdown",
   "metadata": {},
   "source": [
    "### BIO4 = Temperature Seasonality (standard deviation *100)"
   ]
  },
  {
   "cell_type": "code",
   "execution_count": 1076,
   "metadata": {},
   "outputs": [],
   "source": [
    "# processing"
   ]
  },
  {
   "cell_type": "markdown",
   "metadata": {},
   "source": [
    "### BIO5 = Max Temperature of Warmest Month"
   ]
  },
  {
   "cell_type": "code",
   "execution_count": 691,
   "metadata": {},
   "outputs": [],
   "source": [
    "# identify  warmest month by year\n",
    "warmest_months = []\n",
    "years = station_ave.index.year.unique().tolist()\n",
    "\n",
    "for year in years:\n",
    "    warmest = 0\n",
    "    # average temp values by month\n",
    "    month_ave = station_ave[str(year)].groupby(pd.Grouper(freq='M')).mean()\n",
    "    \n",
    "    # loop through monthly averages and select warmest month year\n",
    "    for index, row in month_ave.iterrows():\n",
    "        if row.temp > warmest:\n",
    "            warmest = row.temp\n",
    "            year = index.year\n",
    "            month = index.month\n",
    "    warmest_month = {'year': year, 'month': month, 'warmest_average': warmest.round(1)}\n",
    "    warmest_months.append(warmest_month)"
   ]
  },
  {
   "cell_type": "code",
   "execution_count": 692,
   "metadata": {},
   "outputs": [
    {
     "data": {
      "text/plain": [
       "[{'year': 2014, 'month': 7, 'warmest_average': 70.8},\n",
       " {'year': 2015, 'month': 6, 'warmest_average': 67.4},\n",
       " {'year': 2016, 'month': 8, 'warmest_average': 65.2},\n",
       " {'year': 2017, 'month': 7, 'warmest_average': 72.7},\n",
       " {'year': 2018, 'month': 7, 'warmest_average': 68.3}]"
      ]
     },
     "execution_count": 692,
     "metadata": {},
     "output_type": "execute_result"
    }
   ],
   "source": [
    "warmest_months"
   ]
  },
  {
   "cell_type": "code",
   "execution_count": 693,
   "metadata": {},
   "outputs": [],
   "source": [
    "# select max value from warmest month by year\n",
    "BIO5 = []\n",
    "for value in warmest_months:\n",
    "    year = str(value['year'])\n",
    "    month = str(value['month'])\n",
    "    max_value = station_ave[year + '-' + month].max()\n",
    "    BIO5.append({'max_temp': max_value.temp.round(1), 'year': year, 'month': month})"
   ]
  },
  {
   "cell_type": "code",
   "execution_count": 603,
   "metadata": {},
   "outputs": [
    {
     "data": {
      "text/plain": [
       "[{'max_temp': 89.8, 'year': '2014', 'month': '7'},\n",
       " {'max_temp': 94.3, 'year': '2015', 'month': '6'},\n",
       " {'max_temp': 87.9, 'year': '2016', 'month': '8'},\n",
       " {'max_temp': 95.6, 'year': '2017', 'month': '7'},\n",
       " {'max_temp': 86.7, 'year': '2018', 'month': '7'}]"
      ]
     },
     "execution_count": 603,
     "metadata": {},
     "output_type": "execute_result"
    }
   ],
   "source": [
    "BIO5"
   ]
  },
  {
   "cell_type": "code",
   "execution_count": 694,
   "metadata": {},
   "outputs": [],
   "source": [
    "BIO5 = pd.DataFrame(BIO5)"
   ]
  },
  {
   "cell_type": "code",
   "execution_count": 697,
   "metadata": {},
   "outputs": [
    {
     "data": {
      "text/html": [
       "<div>\n",
       "<style scoped>\n",
       "    .dataframe tbody tr th:only-of-type {\n",
       "        vertical-align: middle;\n",
       "    }\n",
       "\n",
       "    .dataframe tbody tr th {\n",
       "        vertical-align: top;\n",
       "    }\n",
       "\n",
       "    .dataframe thead th {\n",
       "        text-align: right;\n",
       "    }\n",
       "</style>\n",
       "<table border=\"1\" class=\"dataframe\">\n",
       "  <thead>\n",
       "    <tr style=\"text-align: right;\">\n",
       "      <th></th>\n",
       "      <th>year</th>\n",
       "      <th>month</th>\n",
       "      <th>max_temp</th>\n",
       "    </tr>\n",
       "  </thead>\n",
       "  <tbody>\n",
       "    <tr>\n",
       "      <th>0</th>\n",
       "      <td>2014</td>\n",
       "      <td>7</td>\n",
       "      <td>89.8</td>\n",
       "    </tr>\n",
       "    <tr>\n",
       "      <th>1</th>\n",
       "      <td>2015</td>\n",
       "      <td>6</td>\n",
       "      <td>94.3</td>\n",
       "    </tr>\n",
       "    <tr>\n",
       "      <th>2</th>\n",
       "      <td>2016</td>\n",
       "      <td>8</td>\n",
       "      <td>87.9</td>\n",
       "    </tr>\n",
       "    <tr>\n",
       "      <th>3</th>\n",
       "      <td>2017</td>\n",
       "      <td>7</td>\n",
       "      <td>95.6</td>\n",
       "    </tr>\n",
       "    <tr>\n",
       "      <th>4</th>\n",
       "      <td>2018</td>\n",
       "      <td>7</td>\n",
       "      <td>86.7</td>\n",
       "    </tr>\n",
       "  </tbody>\n",
       "</table>\n",
       "</div>"
      ],
      "text/plain": [
       "   year month  max_temp\n",
       "0  2014     7      89.8\n",
       "1  2015     6      94.3\n",
       "2  2016     8      87.9\n",
       "3  2017     7      95.6\n",
       "4  2018     7      86.7"
      ]
     },
     "execution_count": 697,
     "metadata": {},
     "output_type": "execute_result"
    }
   ],
   "source": [
    "BIO5.loc[:, ['year', 'month', 'max_temp']]"
   ]
  },
  {
   "cell_type": "markdown",
   "metadata": {},
   "source": [
    "### BIO6 = Min Temperature of Coldest Month"
   ]
  },
  {
   "cell_type": "code",
   "execution_count": 698,
   "metadata": {},
   "outputs": [],
   "source": [
    "# identify coldest month by year\n",
    "coldest_months = []\n",
    "years = station_ave.index.year.unique().tolist()\n",
    "\n",
    "for year in years:\n",
    "    coldest = 9999\n",
    "    # average temp values by month\n",
    "    month_ave = station_ave[str(year)].groupby(pd.Grouper(freq='M')).mean()\n",
    "    \n",
    "    # loop through monthly averages and find coldest month by year\n",
    "    for index, row in month_ave.iterrows():    \n",
    "        if row.temp < coldest:\n",
    "            coldest = row.temp\n",
    "            year = index.year\n",
    "            month = index.month\n",
    "    coldest_month = {'year': year, 'month': month, 'coldest_average': coldest.round(1)}\n",
    "    coldest_months.append(coldest_month)"
   ]
  },
  {
   "cell_type": "code",
   "execution_count": 699,
   "metadata": {},
   "outputs": [
    {
     "data": {
      "text/plain": [
       "[{'year': 2014, 'month': 2, 'coldest_average': 19.5},\n",
       " {'year': 2015, 'month': 12, 'coldest_average': 26.9},\n",
       " {'year': 2016, 'month': 12, 'coldest_average': 20.3},\n",
       " {'year': 2017, 'month': 1, 'coldest_average': 18.3},\n",
       " {'year': 2018, 'month': 2, 'coldest_average': 24.1}]"
      ]
     },
     "execution_count": 699,
     "metadata": {},
     "output_type": "execute_result"
    }
   ],
   "source": [
    "coldest_months"
   ]
  },
  {
   "cell_type": "code",
   "execution_count": 700,
   "metadata": {},
   "outputs": [],
   "source": [
    "# select min value from coldest month by year\n",
    "BIO6 = []\n",
    "for value in coldest_months:\n",
    "    year = str(value['year'])\n",
    "    month = str(value['month'])\n",
    "    min_temp = station_ave[year + '-' + month].min()\n",
    "    BIO6.append({'min_temp': min_temp.temp.round(1), 'year': year, 'month': month})"
   ]
  },
  {
   "cell_type": "code",
   "execution_count": 701,
   "metadata": {},
   "outputs": [
    {
     "data": {
      "text/plain": [
       "[{'min_temp': -16.3, 'year': '2014', 'month': '2'},\n",
       " {'min_temp': 11.1, 'year': '2015', 'month': '12'},\n",
       " {'min_temp': -7.5, 'year': '2016', 'month': '12'},\n",
       " {'min_temp': -9.4, 'year': '2017', 'month': '1'},\n",
       " {'min_temp': -3.4, 'year': '2018', 'month': '2'}]"
      ]
     },
     "execution_count": 701,
     "metadata": {},
     "output_type": "execute_result"
    }
   ],
   "source": [
    "BIO6"
   ]
  },
  {
   "cell_type": "code",
   "execution_count": 702,
   "metadata": {},
   "outputs": [],
   "source": [
    "BIO6 = pd.DataFrame(BIO6)"
   ]
  },
  {
   "cell_type": "code",
   "execution_count": 703,
   "metadata": {},
   "outputs": [
    {
     "data": {
      "text/html": [
       "<div>\n",
       "<style scoped>\n",
       "    .dataframe tbody tr th:only-of-type {\n",
       "        vertical-align: middle;\n",
       "    }\n",
       "\n",
       "    .dataframe tbody tr th {\n",
       "        vertical-align: top;\n",
       "    }\n",
       "\n",
       "    .dataframe thead th {\n",
       "        text-align: right;\n",
       "    }\n",
       "</style>\n",
       "<table border=\"1\" class=\"dataframe\">\n",
       "  <thead>\n",
       "    <tr style=\"text-align: right;\">\n",
       "      <th></th>\n",
       "      <th>year</th>\n",
       "      <th>month</th>\n",
       "      <th>min_temp</th>\n",
       "    </tr>\n",
       "  </thead>\n",
       "  <tbody>\n",
       "    <tr>\n",
       "      <th>0</th>\n",
       "      <td>2014</td>\n",
       "      <td>2</td>\n",
       "      <td>-16.3</td>\n",
       "    </tr>\n",
       "    <tr>\n",
       "      <th>1</th>\n",
       "      <td>2015</td>\n",
       "      <td>12</td>\n",
       "      <td>11.1</td>\n",
       "    </tr>\n",
       "    <tr>\n",
       "      <th>2</th>\n",
       "      <td>2016</td>\n",
       "      <td>12</td>\n",
       "      <td>-7.5</td>\n",
       "    </tr>\n",
       "    <tr>\n",
       "      <th>3</th>\n",
       "      <td>2017</td>\n",
       "      <td>1</td>\n",
       "      <td>-9.4</td>\n",
       "    </tr>\n",
       "    <tr>\n",
       "      <th>4</th>\n",
       "      <td>2018</td>\n",
       "      <td>2</td>\n",
       "      <td>-3.4</td>\n",
       "    </tr>\n",
       "  </tbody>\n",
       "</table>\n",
       "</div>"
      ],
      "text/plain": [
       "   year month  min_temp\n",
       "0  2014     2     -16.3\n",
       "1  2015    12      11.1\n",
       "2  2016    12      -7.5\n",
       "3  2017     1      -9.4\n",
       "4  2018     2      -3.4"
      ]
     },
     "execution_count": 703,
     "metadata": {},
     "output_type": "execute_result"
    }
   ],
   "source": [
    "BIO6.loc[:, ['year', 'month', 'min_temp']]"
   ]
  },
  {
   "cell_type": "markdown",
   "metadata": {},
   "source": [
    "### BIO7 = Temperature Annual Range (BIO5-BIO6)"
   ]
  },
  {
   "cell_type": "code",
   "execution_count": 991,
   "metadata": {},
   "outputs": [],
   "source": [
    "BIO7 = (BIO5.max_temp - BIO6.min_temp).round(1).to_list()"
   ]
  },
  {
   "cell_type": "code",
   "execution_count": 1004,
   "metadata": {},
   "outputs": [],
   "source": [
    "BIO7 = []\n",
    "\n",
    "for index, row in BIO5.iterrows():\n",
    "    temp_range = BIO5.loc[index, 'max_temp'] - BIO6.loc[index, 'min_temp']\n",
    "    year = row.year\n",
    "    BIO7.append({'year': year, 'range': temp_range.round(1)})"
   ]
  },
  {
   "cell_type": "code",
   "execution_count": 1005,
   "metadata": {},
   "outputs": [
    {
     "data": {
      "text/html": [
       "<div>\n",
       "<style scoped>\n",
       "    .dataframe tbody tr th:only-of-type {\n",
       "        vertical-align: middle;\n",
       "    }\n",
       "\n",
       "    .dataframe tbody tr th {\n",
       "        vertical-align: top;\n",
       "    }\n",
       "\n",
       "    .dataframe thead th {\n",
       "        text-align: right;\n",
       "    }\n",
       "</style>\n",
       "<table border=\"1\" class=\"dataframe\">\n",
       "  <thead>\n",
       "    <tr style=\"text-align: right;\">\n",
       "      <th></th>\n",
       "      <th>range</th>\n",
       "    </tr>\n",
       "    <tr>\n",
       "      <th>year</th>\n",
       "      <th></th>\n",
       "    </tr>\n",
       "  </thead>\n",
       "  <tbody>\n",
       "    <tr>\n",
       "      <th>2014</th>\n",
       "      <td>106.1</td>\n",
       "    </tr>\n",
       "    <tr>\n",
       "      <th>2015</th>\n",
       "      <td>83.2</td>\n",
       "    </tr>\n",
       "    <tr>\n",
       "      <th>2016</th>\n",
       "      <td>95.4</td>\n",
       "    </tr>\n",
       "    <tr>\n",
       "      <th>2017</th>\n",
       "      <td>105.0</td>\n",
       "    </tr>\n",
       "    <tr>\n",
       "      <th>2018</th>\n",
       "      <td>90.1</td>\n",
       "    </tr>\n",
       "  </tbody>\n",
       "</table>\n",
       "</div>"
      ],
      "text/plain": [
       "      range\n",
       "year       \n",
       "2014  106.1\n",
       "2015   83.2\n",
       "2016   95.4\n",
       "2017  105.0\n",
       "2018   90.1"
      ]
     },
     "execution_count": 1005,
     "metadata": {},
     "output_type": "execute_result"
    }
   ],
   "source": [
    "BIO7 = pd.DataFrame(BIO7).set_index('year')\n",
    "BIO7"
   ]
  },
  {
   "cell_type": "markdown",
   "metadata": {},
   "source": [
    "### BIO8 = Mean Temperature of Wettest Quarter"
   ]
  },
  {
   "cell_type": "code",
   "execution_count": 859,
   "metadata": {},
   "outputs": [],
   "source": [
    "# sum precip quarters\n",
    "precip_quarters = p_ave.groupby(pd.Grouper(freq='Q')).sum()"
   ]
  },
  {
   "cell_type": "code",
   "execution_count": 860,
   "metadata": {},
   "outputs": [
    {
     "name": "stdout",
     "output_type": "stream",
     "text": [
      "2014-12 3.73\n",
      "2015-12 2.69\n",
      "2016-6 3.85\n",
      "2017-6 5.14\n",
      "2018-6 7.38\n"
     ]
    }
   ],
   "source": [
    "wettest_quarter = []\n",
    "\n",
    "# find wettest quarter\n",
    "for year in precip_quarters.index.year.unique().tolist():\n",
    "    wettest = -1\n",
    "    \n",
    "    for index, row in precip_quarters[str(year)].iterrows():\n",
    "        if row.precip > wettest:\n",
    "            wettest = row.precip\n",
    "            quarter = str(index.year) + '-' + str(index.month)\n",
    "    print(quarter, wettest.round(2))\n",
    "    # store wettest quarters in array\n",
    "    wettest_quarter.append(quarter)"
   ]
  },
  {
   "cell_type": "code",
   "execution_count": 760,
   "metadata": {},
   "outputs": [],
   "source": [
    "temperature_quarterly = station_ave.groupby(pd.Grouper(freq='Q')).mean()"
   ]
  },
  {
   "cell_type": "code",
   "execution_count": 783,
   "metadata": {},
   "outputs": [
    {
     "name": "stdout",
     "output_type": "stream",
     "text": [
      "datetime\n",
      "2014-12-31    35.338261\n",
      "Freq: Q-DEC, Name: temp, dtype: float64\n",
      "datetime\n",
      "2015-12-31    35.160726\n",
      "Freq: Q-DEC, Name: temp, dtype: float64\n",
      "datetime\n",
      "2016-06-30    53.830628\n",
      "Freq: Q-DEC, Name: temp, dtype: float64\n",
      "datetime\n",
      "2017-06-30    51.159451\n",
      "Freq: Q-DEC, Name: temp, dtype: float64\n",
      "datetime\n",
      "2018-06-30    51.0202\n",
      "Freq: Q-DEC, Name: temp, dtype: float64\n"
     ]
    }
   ],
   "source": [
    "BIO8 = []\n",
    "\n",
    "for quarter in wettest_quarter:\n",
    "    BIO8.append({'wettest_quarter': quarter, 'mean_temp': temperature_quarterly[quarter]['temp'][0].round(2)})\n"
   ]
  },
  {
   "cell_type": "code",
   "execution_count": 788,
   "metadata": {},
   "outputs": [
    {
     "data": {
      "text/html": [
       "<div>\n",
       "<style scoped>\n",
       "    .dataframe tbody tr th:only-of-type {\n",
       "        vertical-align: middle;\n",
       "    }\n",
       "\n",
       "    .dataframe tbody tr th {\n",
       "        vertical-align: top;\n",
       "    }\n",
       "\n",
       "    .dataframe thead th {\n",
       "        text-align: right;\n",
       "    }\n",
       "</style>\n",
       "<table border=\"1\" class=\"dataframe\">\n",
       "  <thead>\n",
       "    <tr style=\"text-align: right;\">\n",
       "      <th></th>\n",
       "      <th>mean_temp</th>\n",
       "    </tr>\n",
       "    <tr>\n",
       "      <th>wettest_quarter</th>\n",
       "      <th></th>\n",
       "    </tr>\n",
       "  </thead>\n",
       "  <tbody>\n",
       "    <tr>\n",
       "      <th>2014-12</th>\n",
       "      <td>35.34</td>\n",
       "    </tr>\n",
       "    <tr>\n",
       "      <th>2015-12</th>\n",
       "      <td>35.16</td>\n",
       "    </tr>\n",
       "    <tr>\n",
       "      <th>2016-6</th>\n",
       "      <td>53.83</td>\n",
       "    </tr>\n",
       "    <tr>\n",
       "      <th>2017-6</th>\n",
       "      <td>51.16</td>\n",
       "    </tr>\n",
       "    <tr>\n",
       "      <th>2018-6</th>\n",
       "      <td>51.02</td>\n",
       "    </tr>\n",
       "  </tbody>\n",
       "</table>\n",
       "</div>"
      ],
      "text/plain": [
       "                 mean_temp\n",
       "wettest_quarter           \n",
       "2014-12              35.34\n",
       "2015-12              35.16\n",
       "2016-6               53.83\n",
       "2017-6               51.16\n",
       "2018-6               51.02"
      ]
     },
     "execution_count": 788,
     "metadata": {},
     "output_type": "execute_result"
    }
   ],
   "source": [
    "BIO8 = pd.DataFrame(BIO8)\n",
    "BIO8.set_index('wettest_quarter')"
   ]
  },
  {
   "cell_type": "markdown",
   "metadata": {},
   "source": [
    "### BIO9 = Mean Temperature of Driest Quarter"
   ]
  },
  {
   "cell_type": "code",
   "execution_count": 789,
   "metadata": {},
   "outputs": [],
   "source": [
    "precip_quarters = p_ave.groupby(pd.Grouper(freq='Q')).sum()"
   ]
  },
  {
   "cell_type": "code",
   "execution_count": 797,
   "metadata": {},
   "outputs": [
    {
     "name": "stdout",
     "output_type": "stream",
     "text": [
      "2014-9 1.818333333333335\n",
      "2015-6 2.0583333333333345\n",
      "2016-3 1.5233333333333383\n",
      "2017-9 1.2083333333333344\n",
      "2018-9 0.7366666666666669\n"
     ]
    }
   ],
   "source": [
    "years = precip_quarters.index.year.unique().tolist()\n",
    "driest_quarter = []\n",
    "\n",
    "# find driest quarter\n",
    "for year in years:\n",
    "    driest = 999\n",
    "    \n",
    "    for index, row in precip_quarters[str(year)].iterrows():\n",
    "        if row.precip < driest:\n",
    "            driest = row.precip\n",
    "            quarter = str(index.year) + '-' + str(index.month)\n",
    "    print(quarter, driest)\n",
    "    driest_quarter.append(quarter)"
   ]
  },
  {
   "cell_type": "code",
   "execution_count": 798,
   "metadata": {},
   "outputs": [],
   "source": [
    "temperature_quarterly = station_ave.groupby(pd.Grouper(freq='Q')).mean()"
   ]
  },
  {
   "cell_type": "code",
   "execution_count": 801,
   "metadata": {},
   "outputs": [],
   "source": [
    "BIO9 = []\n",
    "\n",
    "for quarter in driest_quarter:\n",
    "    BIO9.append({'driest_quarter': quarter, 'mean_temp': temperature_quarterly[quarter]['temp'][0].round(2)})"
   ]
  },
  {
   "cell_type": "code",
   "execution_count": 804,
   "metadata": {},
   "outputs": [
    {
     "data": {
      "text/html": [
       "<div>\n",
       "<style scoped>\n",
       "    .dataframe tbody tr th:only-of-type {\n",
       "        vertical-align: middle;\n",
       "    }\n",
       "\n",
       "    .dataframe tbody tr th {\n",
       "        vertical-align: top;\n",
       "    }\n",
       "\n",
       "    .dataframe thead th {\n",
       "        text-align: right;\n",
       "    }\n",
       "</style>\n",
       "<table border=\"1\" class=\"dataframe\">\n",
       "  <thead>\n",
       "    <tr style=\"text-align: right;\">\n",
       "      <th></th>\n",
       "      <th>mean_temp</th>\n",
       "    </tr>\n",
       "    <tr>\n",
       "      <th>driest_quarter</th>\n",
       "      <th></th>\n",
       "    </tr>\n",
       "  </thead>\n",
       "  <tbody>\n",
       "    <tr>\n",
       "      <th>2014-9</th>\n",
       "      <td>64.65</td>\n",
       "    </tr>\n",
       "    <tr>\n",
       "      <th>2015-6</th>\n",
       "      <td>54.53</td>\n",
       "    </tr>\n",
       "    <tr>\n",
       "      <th>2016-3</th>\n",
       "      <td>33.47</td>\n",
       "    </tr>\n",
       "    <tr>\n",
       "      <th>2017-9</th>\n",
       "      <td>65.34</td>\n",
       "    </tr>\n",
       "    <tr>\n",
       "      <th>2018-9</th>\n",
       "      <td>62.63</td>\n",
       "    </tr>\n",
       "  </tbody>\n",
       "</table>\n",
       "</div>"
      ],
      "text/plain": [
       "                mean_temp\n",
       "driest_quarter           \n",
       "2014-9              64.65\n",
       "2015-6              54.53\n",
       "2016-3              33.47\n",
       "2017-9              65.34\n",
       "2018-9              62.63"
      ]
     },
     "execution_count": 804,
     "metadata": {},
     "output_type": "execute_result"
    }
   ],
   "source": [
    "BIO9 = pd.DataFrame(BIO9)\n",
    "BIO9.set_index('driest_quarter')"
   ]
  },
  {
   "cell_type": "markdown",
   "metadata": {},
   "source": [
    "### BIO10 = Mean Temperature of Warmest Quarter"
   ]
  },
  {
   "cell_type": "code",
   "execution_count": 805,
   "metadata": {},
   "outputs": [],
   "source": [
    "# calculate quarterly temperature\n",
    "temperature_quarterly = station_ave.groupby(pd.Grouper(freq='Q')).mean()"
   ]
  },
  {
   "cell_type": "code",
   "execution_count": 817,
   "metadata": {},
   "outputs": [],
   "source": [
    "BIO10 = []\n",
    "\n",
    "for year in temperature_quarterly.index.year.unique().tolist():\n",
    "    warmest = -999\n",
    "    \n",
    "    for index, row in temperature_quarterly[str(year)].iterrows():\n",
    "        if row.temp > warmest:\n",
    "            warmest = row.temp\n",
    "            quarter = str(index.year) + '-' + str(index.month)\n",
    "    BIO10.append({'warmest_quarter': quarter, 'mean_temp': warmest.round(2)})"
   ]
  },
  {
   "cell_type": "code",
   "execution_count": 818,
   "metadata": {},
   "outputs": [],
   "source": [
    "BIO10 = pd.DataFrame(BIO10).set_index('warmest_quarter')"
   ]
  },
  {
   "cell_type": "code",
   "execution_count": 819,
   "metadata": {},
   "outputs": [
    {
     "data": {
      "text/html": [
       "<div>\n",
       "<style scoped>\n",
       "    .dataframe tbody tr th:only-of-type {\n",
       "        vertical-align: middle;\n",
       "    }\n",
       "\n",
       "    .dataframe tbody tr th {\n",
       "        vertical-align: top;\n",
       "    }\n",
       "\n",
       "    .dataframe thead th {\n",
       "        text-align: right;\n",
       "    }\n",
       "</style>\n",
       "<table border=\"1\" class=\"dataframe\">\n",
       "  <thead>\n",
       "    <tr style=\"text-align: right;\">\n",
       "      <th></th>\n",
       "      <th>mean_temp</th>\n",
       "    </tr>\n",
       "    <tr>\n",
       "      <th>warmest_quarter</th>\n",
       "      <th></th>\n",
       "    </tr>\n",
       "  </thead>\n",
       "  <tbody>\n",
       "    <tr>\n",
       "      <th>2014-9</th>\n",
       "      <td>64.65</td>\n",
       "    </tr>\n",
       "    <tr>\n",
       "      <th>2015-9</th>\n",
       "      <td>63.61</td>\n",
       "    </tr>\n",
       "    <tr>\n",
       "      <th>2016-9</th>\n",
       "      <td>61.64</td>\n",
       "    </tr>\n",
       "    <tr>\n",
       "      <th>2017-9</th>\n",
       "      <td>65.34</td>\n",
       "    </tr>\n",
       "    <tr>\n",
       "      <th>2018-9</th>\n",
       "      <td>62.63</td>\n",
       "    </tr>\n",
       "  </tbody>\n",
       "</table>\n",
       "</div>"
      ],
      "text/plain": [
       "                 mean_temp\n",
       "warmest_quarter           \n",
       "2014-9               64.65\n",
       "2015-9               63.61\n",
       "2016-9               61.64\n",
       "2017-9               65.34\n",
       "2018-9               62.63"
      ]
     },
     "execution_count": 819,
     "metadata": {},
     "output_type": "execute_result"
    }
   ],
   "source": [
    "BIO10"
   ]
  },
  {
   "cell_type": "markdown",
   "metadata": {},
   "source": [
    "### BIO11 = Mean Temperature of Coldest Quarter"
   ]
  },
  {
   "cell_type": "code",
   "execution_count": 820,
   "metadata": {},
   "outputs": [],
   "source": [
    "# calculate quarterly temperature\n",
    "temperature_quarterly = station_ave.groupby(pd.Grouper(freq='Q')).mean()"
   ]
  },
  {
   "cell_type": "code",
   "execution_count": 824,
   "metadata": {},
   "outputs": [],
   "source": [
    "BIO11 = []\n",
    "\n",
    "for year in temperature_quarterly.index.year.unique().tolist():\n",
    "    coldest = 999\n",
    "    \n",
    "    for index, row in temperature_quarterly[str(year)].iterrows():\n",
    "        if row.temp < coldest:\n",
    "            coldest = row.temp\n",
    "            quarter = str(index.year) + '-' + str(index.month)\n",
    "    BIO11.append({'coldest_quarter': quarter, 'mean_temp': coldest.round(2)})"
   ]
  },
  {
   "cell_type": "code",
   "execution_count": 825,
   "metadata": {},
   "outputs": [],
   "source": [
    "BIO11 = pd.DataFrame(BIO11).set_index('coldest_quarter')"
   ]
  },
  {
   "cell_type": "code",
   "execution_count": 826,
   "metadata": {},
   "outputs": [
    {
     "data": {
      "text/html": [
       "<div>\n",
       "<style scoped>\n",
       "    .dataframe tbody tr th:only-of-type {\n",
       "        vertical-align: middle;\n",
       "    }\n",
       "\n",
       "    .dataframe tbody tr th {\n",
       "        vertical-align: top;\n",
       "    }\n",
       "\n",
       "    .dataframe thead th {\n",
       "        text-align: right;\n",
       "    }\n",
       "</style>\n",
       "<table border=\"1\" class=\"dataframe\">\n",
       "  <thead>\n",
       "    <tr style=\"text-align: right;\">\n",
       "      <th></th>\n",
       "      <th>mean_temp</th>\n",
       "    </tr>\n",
       "    <tr>\n",
       "      <th>coldest_quarter</th>\n",
       "      <th></th>\n",
       "    </tr>\n",
       "  </thead>\n",
       "  <tbody>\n",
       "    <tr>\n",
       "      <th>2014-3</th>\n",
       "      <td>28.43</td>\n",
       "    </tr>\n",
       "    <tr>\n",
       "      <th>2015-12</th>\n",
       "      <td>35.16</td>\n",
       "    </tr>\n",
       "    <tr>\n",
       "      <th>2016-3</th>\n",
       "      <td>33.47</td>\n",
       "    </tr>\n",
       "    <tr>\n",
       "      <th>2017-3</th>\n",
       "      <td>28.77</td>\n",
       "    </tr>\n",
       "    <tr>\n",
       "      <th>2018-3</th>\n",
       "      <td>30.03</td>\n",
       "    </tr>\n",
       "  </tbody>\n",
       "</table>\n",
       "</div>"
      ],
      "text/plain": [
       "                 mean_temp\n",
       "coldest_quarter           \n",
       "2014-3               28.43\n",
       "2015-12              35.16\n",
       "2016-3               33.47\n",
       "2017-3               28.77\n",
       "2018-3               30.03"
      ]
     },
     "execution_count": 826,
     "metadata": {},
     "output_type": "execute_result"
    }
   ],
   "source": [
    "BIO11"
   ]
  },
  {
   "cell_type": "markdown",
   "metadata": {},
   "source": [
    "### BIO12 = Annual Precipitation"
   ]
  },
  {
   "cell_type": "code",
   "execution_count": 839,
   "metadata": {},
   "outputs": [
    {
     "data": {
      "text/plain": [
       "<matplotlib.axes._subplots.AxesSubplot at 0x12d9d6cc0>"
      ]
     },
     "execution_count": 839,
     "metadata": {},
     "output_type": "execute_result"
    },
    {
     "data": {
      "image/png": "[encoded data removed]",
      "text/plain": [
       "<Figure size 432x288 with 1 Axes>"
      ]
     },
     "metadata": {
      "needs_background": "light"
     },
     "output_type": "display_data"
    }
   ],
   "source": [
    "p_ave.plot()"
   ]
  },
  {
   "cell_type": "code",
   "execution_count": 833,
   "metadata": {},
   "outputs": [],
   "source": [
    "BIO12 = p_ave.groupby(pd.Grouper(freq='Y')).sum()"
   ]
  },
  {
   "cell_type": "code",
   "execution_count": 834,
   "metadata": {},
   "outputs": [
    {
     "data": {
      "text/html": [
       "<div>\n",
       "<style scoped>\n",
       "    .dataframe tbody tr th:only-of-type {\n",
       "        vertical-align: middle;\n",
       "    }\n",
       "\n",
       "    .dataframe tbody tr th {\n",
       "        vertical-align: top;\n",
       "    }\n",
       "\n",
       "    .dataframe thead th {\n",
       "        text-align: right;\n",
       "    }\n",
       "</style>\n",
       "<table border=\"1\" class=\"dataframe\">\n",
       "  <thead>\n",
       "    <tr style=\"text-align: right;\">\n",
       "      <th></th>\n",
       "      <th>precip</th>\n",
       "    </tr>\n",
       "    <tr>\n",
       "      <th>Date Time</th>\n",
       "      <th></th>\n",
       "    </tr>\n",
       "  </thead>\n",
       "  <tbody>\n",
       "    <tr>\n",
       "      <th>2014-12-31</th>\n",
       "      <td>10.820000</td>\n",
       "    </tr>\n",
       "    <tr>\n",
       "      <th>2015-12-31</th>\n",
       "      <td>9.183333</td>\n",
       "    </tr>\n",
       "    <tr>\n",
       "      <th>2016-12-31</th>\n",
       "      <td>11.490000</td>\n",
       "    </tr>\n",
       "    <tr>\n",
       "      <th>2017-12-31</th>\n",
       "      <td>12.668333</td>\n",
       "    </tr>\n",
       "    <tr>\n",
       "      <th>2018-12-31</th>\n",
       "      <td>13.968333</td>\n",
       "    </tr>\n",
       "  </tbody>\n",
       "</table>\n",
       "</div>"
      ],
      "text/plain": [
       "               precip\n",
       "Date Time            \n",
       "2014-12-31  10.820000\n",
       "2015-12-31   9.183333\n",
       "2016-12-31  11.490000\n",
       "2017-12-31  12.668333\n",
       "2018-12-31  13.968333"
      ]
     },
     "execution_count": 834,
     "metadata": {},
     "output_type": "execute_result"
    }
   ],
   "source": [
    "BIO12"
   ]
  },
  {
   "cell_type": "markdown",
   "metadata": {},
   "source": [
    "### BIO13 = Precipitation of Wettest Month"
   ]
  },
  {
   "cell_type": "code",
   "execution_count": 840,
   "metadata": {},
   "outputs": [],
   "source": [
    "monthly_precip = p_ave.groupby(pd.Grouper(freq='M')).sum()"
   ]
  },
  {
   "cell_type": "code",
   "execution_count": 842,
   "metadata": {},
   "outputs": [
    {
     "data": {
      "image/png": "[encoded data removed]",
      "text/plain": [
       "<Figure size 432x288 with 1 Axes>"
      ]
     },
     "metadata": {
      "needs_background": "light"
     },
     "output_type": "display_data"
    }
   ],
   "source": [
    "monthly_precip.plot();"
   ]
  },
  {
   "cell_type": "code",
   "execution_count": 852,
   "metadata": {},
   "outputs": [
    {
     "name": "stdout",
     "output_type": "stream",
     "text": [
      "[{'wettest_month': 2.03, 'month': '2014-11'}, {'wettest_month': 1.39, 'month': '2015-5'}, {'wettest_month': 2.43, 'month': '2016-10'}, {'wettest_month': 3.06, 'month': '2017-6'}, {'wettest_month': 2.83, 'month': '2018-6'}]\n"
     ]
    }
   ],
   "source": [
    "BIO13 = []\n",
    "\n",
    "for year in monthly_precip.index.year.unique().tolist():\n",
    "    wettest_month = -999\n",
    "    \n",
    "    for index, row in monthly_precip[str(year)].iterrows():\n",
    "        if row.precip > wettest_month:\n",
    "            wettest_month = row.precip\n",
    "            month = str(index.year) + '-' + str(index.month)\n",
    "    BIO13.append({'wettest_month': wettest_month.round(2), 'month': month})\n",
    "print(BIO13)"
   ]
  },
  {
   "cell_type": "code",
   "execution_count": 854,
   "metadata": {},
   "outputs": [
    {
     "data": {
      "text/html": [
       "<div>\n",
       "<style scoped>\n",
       "    .dataframe tbody tr th:only-of-type {\n",
       "        vertical-align: middle;\n",
       "    }\n",
       "\n",
       "    .dataframe tbody tr th {\n",
       "        vertical-align: top;\n",
       "    }\n",
       "\n",
       "    .dataframe thead th {\n",
       "        text-align: right;\n",
       "    }\n",
       "</style>\n",
       "<table border=\"1\" class=\"dataframe\">\n",
       "  <thead>\n",
       "    <tr style=\"text-align: right;\">\n",
       "      <th></th>\n",
       "      <th>wettest_month</th>\n",
       "    </tr>\n",
       "    <tr>\n",
       "      <th>month</th>\n",
       "      <th></th>\n",
       "    </tr>\n",
       "  </thead>\n",
       "  <tbody>\n",
       "    <tr>\n",
       "      <th>2014-11</th>\n",
       "      <td>2.03</td>\n",
       "    </tr>\n",
       "    <tr>\n",
       "      <th>2015-5</th>\n",
       "      <td>1.39</td>\n",
       "    </tr>\n",
       "    <tr>\n",
       "      <th>2016-10</th>\n",
       "      <td>2.43</td>\n",
       "    </tr>\n",
       "    <tr>\n",
       "      <th>2017-6</th>\n",
       "      <td>3.06</td>\n",
       "    </tr>\n",
       "    <tr>\n",
       "      <th>2018-6</th>\n",
       "      <td>2.83</td>\n",
       "    </tr>\n",
       "  </tbody>\n",
       "</table>\n",
       "</div>"
      ],
      "text/plain": [
       "         wettest_month\n",
       "month                 \n",
       "2014-11           2.03\n",
       "2015-5            1.39\n",
       "2016-10           2.43\n",
       "2017-6            3.06\n",
       "2018-6            2.83"
      ]
     },
     "execution_count": 854,
     "metadata": {},
     "output_type": "execute_result"
    }
   ],
   "source": [
    "BIO13 = pd.DataFrame(BIO13).set_index('month')\n",
    "BIO13"
   ]
  },
  {
   "cell_type": "markdown",
   "metadata": {},
   "source": [
    "### BIO14 = Precipitation of Driest Month"
   ]
  },
  {
   "cell_type": "code",
   "execution_count": 879,
   "metadata": {},
   "outputs": [],
   "source": [
    "monthly_precip = p_ave.groupby(pd.Grouper(freq='M')).sum()"
   ]
  },
  {
   "cell_type": "code",
   "execution_count": 882,
   "metadata": {},
   "outputs": [
    {
     "name": "stdout",
     "output_type": "stream",
     "text": [
      "[{'precip (in)': 0.32, 'driest_month': '2014-4'}, {'precip (in)': 0.32, 'driest_month': '2015-6'}, {'precip (in)': 0.2, 'driest_month': '2016-11'}, {'precip (in)': 0.07, 'driest_month': '2017-8'}, {'precip (in)': 0.05, 'driest_month': '2018-7'}]\n"
     ]
    }
   ],
   "source": [
    "BIO14 = []\n",
    "\n",
    "for year in monthly_precip.index.year.unique().tolist():\n",
    "    driest_month = 999\n",
    "    \n",
    "    for index, row in monthly_precip[str(year)].iterrows():\n",
    "        if row.precip < driest_month:\n",
    "            driest_month = row.precip\n",
    "            month = str(index.year) + '-' + str(index.month)\n",
    "    BIO14.append({'precip (in)': driest_month.round(2), 'driest_month': month})\n",
    "print(BIO14)"
   ]
  },
  {
   "cell_type": "code",
   "execution_count": 887,
   "metadata": {},
   "outputs": [
    {
     "data": {
      "text/html": [
       "<div>\n",
       "<style scoped>\n",
       "    .dataframe tbody tr th:only-of-type {\n",
       "        vertical-align: middle;\n",
       "    }\n",
       "\n",
       "    .dataframe tbody tr th {\n",
       "        vertical-align: top;\n",
       "    }\n",
       "\n",
       "    .dataframe thead th {\n",
       "        text-align: right;\n",
       "    }\n",
       "</style>\n",
       "<table border=\"1\" class=\"dataframe\">\n",
       "  <thead>\n",
       "    <tr style=\"text-align: right;\">\n",
       "      <th></th>\n",
       "      <th>precip (in)</th>\n",
       "    </tr>\n",
       "    <tr>\n",
       "      <th>driest_month</th>\n",
       "      <th></th>\n",
       "    </tr>\n",
       "  </thead>\n",
       "  <tbody>\n",
       "    <tr>\n",
       "      <th>2014-4</th>\n",
       "      <td>0.32</td>\n",
       "    </tr>\n",
       "    <tr>\n",
       "      <th>2015-6</th>\n",
       "      <td>0.32</td>\n",
       "    </tr>\n",
       "    <tr>\n",
       "      <th>2016-11</th>\n",
       "      <td>0.20</td>\n",
       "    </tr>\n",
       "    <tr>\n",
       "      <th>2017-8</th>\n",
       "      <td>0.07</td>\n",
       "    </tr>\n",
       "    <tr>\n",
       "      <th>2018-7</th>\n",
       "      <td>0.05</td>\n",
       "    </tr>\n",
       "  </tbody>\n",
       "</table>\n",
       "</div>"
      ],
      "text/plain": [
       "              precip (in)\n",
       "driest_month             \n",
       "2014-4               0.32\n",
       "2015-6               0.32\n",
       "2016-11              0.20\n",
       "2017-8               0.07\n",
       "2018-7               0.05"
      ]
     },
     "execution_count": 887,
     "metadata": {},
     "output_type": "execute_result"
    }
   ],
   "source": [
    "BIO14 = pd.DataFrame(BIO14).set_index('driest_month')\n",
    "BIO14"
   ]
  },
  {
   "cell_type": "markdown",
   "metadata": {},
   "source": [
    "### BIO15 = Precipitation Seasonality (Coefficient of Variation)"
   ]
  },
  {
   "cell_type": "code",
   "execution_count": 1077,
   "metadata": {},
   "outputs": [],
   "source": [
    "# processing"
   ]
  },
  {
   "cell_type": "markdown",
   "metadata": {},
   "source": [
    "### BIO16 = Precipitation of Wettest Quarter"
   ]
  },
  {
   "cell_type": "code",
   "execution_count": 907,
   "metadata": {},
   "outputs": [
    {
     "data": {
      "text/plain": [
       "<matplotlib.axes._subplots.AxesSubplot at 0x130c7eeb8>"
      ]
     },
     "execution_count": 907,
     "metadata": {},
     "output_type": "execute_result"
    },
    {
     "data": {
      "image/png": "[encoded data removed]",
      "text/plain": [
       "<Figure size 432x288 with 1 Axes>"
      ]
     },
     "metadata": {
      "needs_background": "light"
     },
     "output_type": "display_data"
    }
   ],
   "source": [
    "# average precipitation of all stations\n",
    "p_ave.plot()"
   ]
  },
  {
   "cell_type": "code",
   "execution_count": 908,
   "metadata": {},
   "outputs": [],
   "source": [
    "# quarterly precip\n",
    "q_precip = p_ave.groupby(pd.Grouper(freq='Q')).sum()"
   ]
  },
  {
   "cell_type": "code",
   "execution_count": 909,
   "metadata": {},
   "outputs": [],
   "source": [
    "BIO16 = []\n",
    "\n",
    "for year in q_precip.index.year.unique().tolist():\n",
    "    wettest_quarter = -999\n",
    "    \n",
    "    for index, row in q_precip[str(year)].iterrows():\n",
    "        if row.precip > wettest_quarter:\n",
    "            wettest_quarter = row.precip\n",
    "            quarter = str(index.year) + '-' + str(index.month)\n",
    "    BIO16.append({'precip (in)': wettest_quarter.round(2), 'wettest_quarter': quarter})"
   ]
  },
  {
   "cell_type": "code",
   "execution_count": 910,
   "metadata": {},
   "outputs": [
    {
     "data": {
      "text/html": [
       "<div>\n",
       "<style scoped>\n",
       "    .dataframe tbody tr th:only-of-type {\n",
       "        vertical-align: middle;\n",
       "    }\n",
       "\n",
       "    .dataframe tbody tr th {\n",
       "        vertical-align: top;\n",
       "    }\n",
       "\n",
       "    .dataframe thead th {\n",
       "        text-align: right;\n",
       "    }\n",
       "</style>\n",
       "<table border=\"1\" class=\"dataframe\">\n",
       "  <thead>\n",
       "    <tr style=\"text-align: right;\">\n",
       "      <th></th>\n",
       "      <th>precip (in)</th>\n",
       "    </tr>\n",
       "    <tr>\n",
       "      <th>wettest_quarter</th>\n",
       "      <th></th>\n",
       "    </tr>\n",
       "  </thead>\n",
       "  <tbody>\n",
       "    <tr>\n",
       "      <th>2014-12</th>\n",
       "      <td>3.73</td>\n",
       "    </tr>\n",
       "    <tr>\n",
       "      <th>2015-12</th>\n",
       "      <td>2.69</td>\n",
       "    </tr>\n",
       "    <tr>\n",
       "      <th>2016-6</th>\n",
       "      <td>3.85</td>\n",
       "    </tr>\n",
       "    <tr>\n",
       "      <th>2017-6</th>\n",
       "      <td>5.14</td>\n",
       "    </tr>\n",
       "    <tr>\n",
       "      <th>2018-6</th>\n",
       "      <td>7.38</td>\n",
       "    </tr>\n",
       "  </tbody>\n",
       "</table>\n",
       "</div>"
      ],
      "text/plain": [
       "                 precip (in)\n",
       "wettest_quarter             \n",
       "2014-12                 3.73\n",
       "2015-12                 2.69\n",
       "2016-6                  3.85\n",
       "2017-6                  5.14\n",
       "2018-6                  7.38"
      ]
     },
     "execution_count": 910,
     "metadata": {},
     "output_type": "execute_result"
    }
   ],
   "source": [
    "BIO16 = pd.DataFrame(BIO16).set_index('wettest_quarter')\n",
    "BIO16"
   ]
  },
  {
   "cell_type": "markdown",
   "metadata": {},
   "source": [
    "### BIO17 = Precipitation of Driest Quarter"
   ]
  },
  {
   "cell_type": "code",
   "execution_count": 896,
   "metadata": {
    "collapsed": true
   },
   "outputs": [
    {
     "data": {
      "text/html": [
       "<div>\n",
       "<style scoped>\n",
       "    .dataframe tbody tr th:only-of-type {\n",
       "        vertical-align: middle;\n",
       "    }\n",
       "\n",
       "    .dataframe tbody tr th {\n",
       "        vertical-align: top;\n",
       "    }\n",
       "\n",
       "    .dataframe thead th {\n",
       "        text-align: right;\n",
       "    }\n",
       "</style>\n",
       "<table border=\"1\" class=\"dataframe\">\n",
       "  <thead>\n",
       "    <tr style=\"text-align: right;\">\n",
       "      <th></th>\n",
       "      <th>precip</th>\n",
       "    </tr>\n",
       "    <tr>\n",
       "      <th>Date Time</th>\n",
       "      <th></th>\n",
       "    </tr>\n",
       "  </thead>\n",
       "  <tbody>\n",
       "    <tr>\n",
       "      <th>2014-01-01 00:00:00</th>\n",
       "      <td>0.0</td>\n",
       "    </tr>\n",
       "    <tr>\n",
       "      <th>2014-01-01 00:30:00</th>\n",
       "      <td>0.0</td>\n",
       "    </tr>\n",
       "    <tr>\n",
       "      <th>2014-01-01 01:00:00</th>\n",
       "      <td>0.0</td>\n",
       "    </tr>\n",
       "    <tr>\n",
       "      <th>2014-01-01 01:30:00</th>\n",
       "      <td>0.0</td>\n",
       "    </tr>\n",
       "    <tr>\n",
       "      <th>2014-01-01 02:00:00</th>\n",
       "      <td>0.0</td>\n",
       "    </tr>\n",
       "    <tr>\n",
       "      <th>2014-01-01 02:30:00</th>\n",
       "      <td>0.0</td>\n",
       "    </tr>\n",
       "    <tr>\n",
       "      <th>2014-01-01 03:00:00</th>\n",
       "      <td>0.0</td>\n",
       "    </tr>\n",
       "    <tr>\n",
       "      <th>2014-01-01 03:30:00</th>\n",
       "      <td>0.0</td>\n",
       "    </tr>\n",
       "    <tr>\n",
       "      <th>2014-01-01 04:00:00</th>\n",
       "      <td>0.0</td>\n",
       "    </tr>\n",
       "    <tr>\n",
       "      <th>2014-01-01 04:30:00</th>\n",
       "      <td>0.0</td>\n",
       "    </tr>\n",
       "    <tr>\n",
       "      <th>2014-01-01 05:00:00</th>\n",
       "      <td>0.0</td>\n",
       "    </tr>\n",
       "    <tr>\n",
       "      <th>2014-01-01 05:30:00</th>\n",
       "      <td>0.0</td>\n",
       "    </tr>\n",
       "    <tr>\n",
       "      <th>2014-01-01 06:00:00</th>\n",
       "      <td>0.0</td>\n",
       "    </tr>\n",
       "    <tr>\n",
       "      <th>2014-01-01 06:30:00</th>\n",
       "      <td>0.0</td>\n",
       "    </tr>\n",
       "    <tr>\n",
       "      <th>2014-01-01 07:00:00</th>\n",
       "      <td>0.0</td>\n",
       "    </tr>\n",
       "    <tr>\n",
       "      <th>2014-01-01 07:30:00</th>\n",
       "      <td>0.0</td>\n",
       "    </tr>\n",
       "    <tr>\n",
       "      <th>2014-01-01 08:00:00</th>\n",
       "      <td>0.0</td>\n",
       "    </tr>\n",
       "    <tr>\n",
       "      <th>2014-01-01 08:30:00</th>\n",
       "      <td>0.0</td>\n",
       "    </tr>\n",
       "    <tr>\n",
       "      <th>2014-01-01 09:00:00</th>\n",
       "      <td>0.0</td>\n",
       "    </tr>\n",
       "    <tr>\n",
       "      <th>2014-01-01 09:30:00</th>\n",
       "      <td>0.0</td>\n",
       "    </tr>\n",
       "    <tr>\n",
       "      <th>2014-01-01 10:00:00</th>\n",
       "      <td>0.0</td>\n",
       "    </tr>\n",
       "    <tr>\n",
       "      <th>2014-01-01 10:30:00</th>\n",
       "      <td>0.0</td>\n",
       "    </tr>\n",
       "    <tr>\n",
       "      <th>2014-01-01 11:00:00</th>\n",
       "      <td>0.0</td>\n",
       "    </tr>\n",
       "    <tr>\n",
       "      <th>2014-01-01 11:30:00</th>\n",
       "      <td>0.0</td>\n",
       "    </tr>\n",
       "    <tr>\n",
       "      <th>2014-01-01 12:00:00</th>\n",
       "      <td>0.0</td>\n",
       "    </tr>\n",
       "    <tr>\n",
       "      <th>2014-01-01 12:30:00</th>\n",
       "      <td>0.0</td>\n",
       "    </tr>\n",
       "    <tr>\n",
       "      <th>2014-01-01 13:00:00</th>\n",
       "      <td>0.0</td>\n",
       "    </tr>\n",
       "    <tr>\n",
       "      <th>2014-01-01 13:30:00</th>\n",
       "      <td>0.0</td>\n",
       "    </tr>\n",
       "    <tr>\n",
       "      <th>2014-01-01 14:00:00</th>\n",
       "      <td>0.0</td>\n",
       "    </tr>\n",
       "    <tr>\n",
       "      <th>2014-01-01 14:30:00</th>\n",
       "      <td>0.0</td>\n",
       "    </tr>\n",
       "    <tr>\n",
       "      <th>...</th>\n",
       "      <td>...</td>\n",
       "    </tr>\n",
       "    <tr>\n",
       "      <th>2018-12-31 09:00:00</th>\n",
       "      <td>0.0</td>\n",
       "    </tr>\n",
       "    <tr>\n",
       "      <th>2018-12-31 09:30:00</th>\n",
       "      <td>0.0</td>\n",
       "    </tr>\n",
       "    <tr>\n",
       "      <th>2018-12-31 10:00:00</th>\n",
       "      <td>0.0</td>\n",
       "    </tr>\n",
       "    <tr>\n",
       "      <th>2018-12-31 10:30:00</th>\n",
       "      <td>0.0</td>\n",
       "    </tr>\n",
       "    <tr>\n",
       "      <th>2018-12-31 11:00:00</th>\n",
       "      <td>0.0</td>\n",
       "    </tr>\n",
       "    <tr>\n",
       "      <th>2018-12-31 11:30:00</th>\n",
       "      <td>0.0</td>\n",
       "    </tr>\n",
       "    <tr>\n",
       "      <th>2018-12-31 12:00:00</th>\n",
       "      <td>0.0</td>\n",
       "    </tr>\n",
       "    <tr>\n",
       "      <th>2018-12-31 12:30:00</th>\n",
       "      <td>0.0</td>\n",
       "    </tr>\n",
       "    <tr>\n",
       "      <th>2018-12-31 13:00:00</th>\n",
       "      <td>0.0</td>\n",
       "    </tr>\n",
       "    <tr>\n",
       "      <th>2018-12-31 13:30:00</th>\n",
       "      <td>0.0</td>\n",
       "    </tr>\n",
       "    <tr>\n",
       "      <th>2018-12-31 14:00:00</th>\n",
       "      <td>0.0</td>\n",
       "    </tr>\n",
       "    <tr>\n",
       "      <th>2018-12-31 14:30:00</th>\n",
       "      <td>0.0</td>\n",
       "    </tr>\n",
       "    <tr>\n",
       "      <th>2018-12-31 15:00:00</th>\n",
       "      <td>0.0</td>\n",
       "    </tr>\n",
       "    <tr>\n",
       "      <th>2018-12-31 15:30:00</th>\n",
       "      <td>0.0</td>\n",
       "    </tr>\n",
       "    <tr>\n",
       "      <th>2018-12-31 16:00:00</th>\n",
       "      <td>0.0</td>\n",
       "    </tr>\n",
       "    <tr>\n",
       "      <th>2018-12-31 16:30:00</th>\n",
       "      <td>0.0</td>\n",
       "    </tr>\n",
       "    <tr>\n",
       "      <th>2018-12-31 17:00:00</th>\n",
       "      <td>0.0</td>\n",
       "    </tr>\n",
       "    <tr>\n",
       "      <th>2018-12-31 17:30:00</th>\n",
       "      <td>0.0</td>\n",
       "    </tr>\n",
       "    <tr>\n",
       "      <th>2018-12-31 18:00:00</th>\n",
       "      <td>0.0</td>\n",
       "    </tr>\n",
       "    <tr>\n",
       "      <th>2018-12-31 18:30:00</th>\n",
       "      <td>0.0</td>\n",
       "    </tr>\n",
       "    <tr>\n",
       "      <th>2018-12-31 19:00:00</th>\n",
       "      <td>0.0</td>\n",
       "    </tr>\n",
       "    <tr>\n",
       "      <th>2018-12-31 19:30:00</th>\n",
       "      <td>0.0</td>\n",
       "    </tr>\n",
       "    <tr>\n",
       "      <th>2018-12-31 20:00:00</th>\n",
       "      <td>0.0</td>\n",
       "    </tr>\n",
       "    <tr>\n",
       "      <th>2018-12-31 20:30:00</th>\n",
       "      <td>0.0</td>\n",
       "    </tr>\n",
       "    <tr>\n",
       "      <th>2018-12-31 21:00:00</th>\n",
       "      <td>0.0</td>\n",
       "    </tr>\n",
       "    <tr>\n",
       "      <th>2018-12-31 21:30:00</th>\n",
       "      <td>0.0</td>\n",
       "    </tr>\n",
       "    <tr>\n",
       "      <th>2018-12-31 22:00:00</th>\n",
       "      <td>0.0</td>\n",
       "    </tr>\n",
       "    <tr>\n",
       "      <th>2018-12-31 22:30:00</th>\n",
       "      <td>0.0</td>\n",
       "    </tr>\n",
       "    <tr>\n",
       "      <th>2018-12-31 23:00:00</th>\n",
       "      <td>0.0</td>\n",
       "    </tr>\n",
       "    <tr>\n",
       "      <th>2018-12-31 23:30:00</th>\n",
       "      <td>0.0</td>\n",
       "    </tr>\n",
       "  </tbody>\n",
       "</table>\n",
       "<p>87599 rows × 1 columns</p>\n",
       "</div>"
      ],
      "text/plain": [
       "                     precip\n",
       "Date Time                  \n",
       "2014-01-01 00:00:00     0.0\n",
       "2014-01-01 00:30:00     0.0\n",
       "2014-01-01 01:00:00     0.0\n",
       "2014-01-01 01:30:00     0.0\n",
       "2014-01-01 02:00:00     0.0\n",
       "2014-01-01 02:30:00     0.0\n",
       "2014-01-01 03:00:00     0.0\n",
       "2014-01-01 03:30:00     0.0\n",
       "2014-01-01 04:00:00     0.0\n",
       "2014-01-01 04:30:00     0.0\n",
       "2014-01-01 05:00:00     0.0\n",
       "2014-01-01 05:30:00     0.0\n",
       "2014-01-01 06:00:00     0.0\n",
       "2014-01-01 06:30:00     0.0\n",
       "2014-01-01 07:00:00     0.0\n",
       "2014-01-01 07:30:00     0.0\n",
       "2014-01-01 08:00:00     0.0\n",
       "2014-01-01 08:30:00     0.0\n",
       "2014-01-01 09:00:00     0.0\n",
       "2014-01-01 09:30:00     0.0\n",
       "2014-01-01 10:00:00     0.0\n",
       "2014-01-01 10:30:00     0.0\n",
       "2014-01-01 11:00:00     0.0\n",
       "2014-01-01 11:30:00     0.0\n",
       "2014-01-01 12:00:00     0.0\n",
       "2014-01-01 12:30:00     0.0\n",
       "2014-01-01 13:00:00     0.0\n",
       "2014-01-01 13:30:00     0.0\n",
       "2014-01-01 14:00:00     0.0\n",
       "2014-01-01 14:30:00     0.0\n",
       "...                     ...\n",
       "2018-12-31 09:00:00     0.0\n",
       "2018-12-31 09:30:00     0.0\n",
       "2018-12-31 10:00:00     0.0\n",
       "2018-12-31 10:30:00     0.0\n",
       "2018-12-31 11:00:00     0.0\n",
       "2018-12-31 11:30:00     0.0\n",
       "2018-12-31 12:00:00     0.0\n",
       "2018-12-31 12:30:00     0.0\n",
       "2018-12-31 13:00:00     0.0\n",
       "2018-12-31 13:30:00     0.0\n",
       "2018-12-31 14:00:00     0.0\n",
       "2018-12-31 14:30:00     0.0\n",
       "2018-12-31 15:00:00     0.0\n",
       "2018-12-31 15:30:00     0.0\n",
       "2018-12-31 16:00:00     0.0\n",
       "2018-12-31 16:30:00     0.0\n",
       "2018-12-31 17:00:00     0.0\n",
       "2018-12-31 17:30:00     0.0\n",
       "2018-12-31 18:00:00     0.0\n",
       "2018-12-31 18:30:00     0.0\n",
       "2018-12-31 19:00:00     0.0\n",
       "2018-12-31 19:30:00     0.0\n",
       "2018-12-31 20:00:00     0.0\n",
       "2018-12-31 20:30:00     0.0\n",
       "2018-12-31 21:00:00     0.0\n",
       "2018-12-31 21:30:00     0.0\n",
       "2018-12-31 22:00:00     0.0\n",
       "2018-12-31 22:30:00     0.0\n",
       "2018-12-31 23:00:00     0.0\n",
       "2018-12-31 23:30:00     0.0\n",
       "\n",
       "[87599 rows x 1 columns]"
      ]
     },
     "execution_count": 896,
     "metadata": {},
     "output_type": "execute_result"
    }
   ],
   "source": [
    "# average precipitation of all stations\n",
    "p_ave"
   ]
  },
  {
   "cell_type": "code",
   "execution_count": 897,
   "metadata": {},
   "outputs": [],
   "source": [
    "q_precip = p_ave.groupby(pd.Grouper(freq='Q')).sum()"
   ]
  },
  {
   "cell_type": "code",
   "execution_count": 903,
   "metadata": {},
   "outputs": [],
   "source": [
    "BIO17 = []\n",
    "\n",
    "for year in q_precip.index.year.unique().tolist():\n",
    "    driest_quarter = 999\n",
    "    \n",
    "    for index, row in q_precip[str(year)].iterrows():\n",
    "        if row.precip < driest_quarter:\n",
    "            driest_quarter = row.precip\n",
    "            quarter = str(index.year) + '-' + str(index.month)\n",
    "    BIO17.append({'precip (in)': driest_quarter.round(2), 'driest_quarter': quarter})"
   ]
  },
  {
   "cell_type": "code",
   "execution_count": 904,
   "metadata": {},
   "outputs": [
    {
     "data": {
      "text/html": [
       "<div>\n",
       "<style scoped>\n",
       "    .dataframe tbody tr th:only-of-type {\n",
       "        vertical-align: middle;\n",
       "    }\n",
       "\n",
       "    .dataframe tbody tr th {\n",
       "        vertical-align: top;\n",
       "    }\n",
       "\n",
       "    .dataframe thead th {\n",
       "        text-align: right;\n",
       "    }\n",
       "</style>\n",
       "<table border=\"1\" class=\"dataframe\">\n",
       "  <thead>\n",
       "    <tr style=\"text-align: right;\">\n",
       "      <th></th>\n",
       "      <th>precip (in)</th>\n",
       "    </tr>\n",
       "    <tr>\n",
       "      <th>driest_quarter</th>\n",
       "      <th></th>\n",
       "    </tr>\n",
       "  </thead>\n",
       "  <tbody>\n",
       "    <tr>\n",
       "      <th>2014-9</th>\n",
       "      <td>1.82</td>\n",
       "    </tr>\n",
       "    <tr>\n",
       "      <th>2015-6</th>\n",
       "      <td>2.06</td>\n",
       "    </tr>\n",
       "    <tr>\n",
       "      <th>2016-3</th>\n",
       "      <td>1.52</td>\n",
       "    </tr>\n",
       "    <tr>\n",
       "      <th>2017-9</th>\n",
       "      <td>1.21</td>\n",
       "    </tr>\n",
       "    <tr>\n",
       "      <th>2018-9</th>\n",
       "      <td>0.74</td>\n",
       "    </tr>\n",
       "  </tbody>\n",
       "</table>\n",
       "</div>"
      ],
      "text/plain": [
       "                precip (in)\n",
       "driest_quarter             \n",
       "2014-9                 1.82\n",
       "2015-6                 2.06\n",
       "2016-3                 1.52\n",
       "2017-9                 1.21\n",
       "2018-9                 0.74"
      ]
     },
     "execution_count": 904,
     "metadata": {},
     "output_type": "execute_result"
    }
   ],
   "source": [
    "BIO17 = pd.DataFrame(BIO17).set_index('driest_quarter')\n",
    "BIO17"
   ]
  },
  {
   "cell_type": "markdown",
   "metadata": {},
   "source": [
    "### BIO18 = Precipitation of Warmest Quarter"
   ]
  },
  {
   "cell_type": "code",
   "execution_count": 914,
   "metadata": {},
   "outputs": [],
   "source": [
    "# quarterly temperature average\n",
    "q_temp = station_ave.groupby(pd.Grouper(freq='Q')).mean()"
   ]
  },
  {
   "cell_type": "code",
   "execution_count": 937,
   "metadata": {},
   "outputs": [],
   "source": [
    "# calculate warmest quarter for each year\n",
    "warmest_quarter = []\n",
    "\n",
    "for year in q_temp.index.year.unique().tolist():\n",
    "    warmest_temp = -999\n",
    "    for index, row in q_temp[str(year)].iterrows():\n",
    "        if row.temp > warmest_temp:\n",
    "            warmest_temp = row.temp\n",
    "            date_q = str(index.year) + '-' + str(index.month)\n",
    "    warmest_quarter.append({'warmest_quarter': date_q, 'temp': warmest_temp.round(1)})"
   ]
  },
  {
   "cell_type": "code",
   "execution_count": 940,
   "metadata": {},
   "outputs": [
    {
     "data": {
      "text/html": [
       "<div>\n",
       "<style scoped>\n",
       "    .dataframe tbody tr th:only-of-type {\n",
       "        vertical-align: middle;\n",
       "    }\n",
       "\n",
       "    .dataframe tbody tr th {\n",
       "        vertical-align: top;\n",
       "    }\n",
       "\n",
       "    .dataframe thead th {\n",
       "        text-align: right;\n",
       "    }\n",
       "</style>\n",
       "<table border=\"1\" class=\"dataframe\">\n",
       "  <thead>\n",
       "    <tr style=\"text-align: right;\">\n",
       "      <th></th>\n",
       "      <th>temp</th>\n",
       "      <th>warmest_quarter</th>\n",
       "    </tr>\n",
       "  </thead>\n",
       "  <tbody>\n",
       "    <tr>\n",
       "      <th>0</th>\n",
       "      <td>64.7</td>\n",
       "      <td>2014-9</td>\n",
       "    </tr>\n",
       "    <tr>\n",
       "      <th>1</th>\n",
       "      <td>63.6</td>\n",
       "      <td>2015-9</td>\n",
       "    </tr>\n",
       "    <tr>\n",
       "      <th>2</th>\n",
       "      <td>61.6</td>\n",
       "      <td>2016-9</td>\n",
       "    </tr>\n",
       "    <tr>\n",
       "      <th>3</th>\n",
       "      <td>65.3</td>\n",
       "      <td>2017-9</td>\n",
       "    </tr>\n",
       "    <tr>\n",
       "      <th>4</th>\n",
       "      <td>62.6</td>\n",
       "      <td>2018-9</td>\n",
       "    </tr>\n",
       "  </tbody>\n",
       "</table>\n",
       "</div>"
      ],
      "text/plain": [
       "   temp warmest_quarter\n",
       "0  64.7          2014-9\n",
       "1  63.6          2015-9\n",
       "2  61.6          2016-9\n",
       "3  65.3          2017-9\n",
       "4  62.6          2018-9"
      ]
     },
     "execution_count": 940,
     "metadata": {},
     "output_type": "execute_result"
    }
   ],
   "source": [
    "warmest_quarter = pd.DataFrame(warmest_quarter)\n",
    "warmest_quarter"
   ]
  },
  {
   "cell_type": "code",
   "execution_count": 983,
   "metadata": {},
   "outputs": [],
   "source": [
    "# quarterly precipitation sum\n",
    "q_precip = p_ave.groupby(pd.Grouper(freq='Q')).sum()"
   ]
  },
  {
   "cell_type": "code",
   "execution_count": 984,
   "metadata": {},
   "outputs": [],
   "source": [
    "BIO18 = []\n",
    "\n",
    "# use warmest quarter to select for precipitation\n",
    "for index, row in warmest_quarter.iterrows():\n",
    "    precip = q_precip[str(row.warmest_quarter)].iloc[0]['precip'].round(2)\n",
    "    BIO18.append({'warmest_quarter': row.warmest_quarter, 'precip (in)': precip})"
   ]
  },
  {
   "cell_type": "code",
   "execution_count": 985,
   "metadata": {},
   "outputs": [
    {
     "data": {
      "text/html": [
       "<div>\n",
       "<style scoped>\n",
       "    .dataframe tbody tr th:only-of-type {\n",
       "        vertical-align: middle;\n",
       "    }\n",
       "\n",
       "    .dataframe tbody tr th {\n",
       "        vertical-align: top;\n",
       "    }\n",
       "\n",
       "    .dataframe thead th {\n",
       "        text-align: right;\n",
       "    }\n",
       "</style>\n",
       "<table border=\"1\" class=\"dataframe\">\n",
       "  <thead>\n",
       "    <tr style=\"text-align: right;\">\n",
       "      <th></th>\n",
       "      <th>precip (in)</th>\n",
       "    </tr>\n",
       "    <tr>\n",
       "      <th>warmest_quarter</th>\n",
       "      <th></th>\n",
       "    </tr>\n",
       "  </thead>\n",
       "  <tbody>\n",
       "    <tr>\n",
       "      <th>2014-9</th>\n",
       "      <td>1.82</td>\n",
       "    </tr>\n",
       "    <tr>\n",
       "      <th>2015-9</th>\n",
       "      <td>2.27</td>\n",
       "    </tr>\n",
       "    <tr>\n",
       "      <th>2016-9</th>\n",
       "      <td>3.10</td>\n",
       "    </tr>\n",
       "    <tr>\n",
       "      <th>2017-9</th>\n",
       "      <td>1.21</td>\n",
       "    </tr>\n",
       "    <tr>\n",
       "      <th>2018-9</th>\n",
       "      <td>0.74</td>\n",
       "    </tr>\n",
       "  </tbody>\n",
       "</table>\n",
       "</div>"
      ],
      "text/plain": [
       "                 precip (in)\n",
       "warmest_quarter             \n",
       "2014-9                  1.82\n",
       "2015-9                  2.27\n",
       "2016-9                  3.10\n",
       "2017-9                  1.21\n",
       "2018-9                  0.74"
      ]
     },
     "execution_count": 985,
     "metadata": {},
     "output_type": "execute_result"
    }
   ],
   "source": [
    "BIO18 = pd.DataFrame(BIO18).set_index('warmest_quarter')\n",
    "BIO18"
   ]
  },
  {
   "cell_type": "markdown",
   "metadata": {},
   "source": [
    "### BIO19 = Precipitation of Coldest Quarter"
   ]
  },
  {
   "cell_type": "code",
   "execution_count": 974,
   "metadata": {},
   "outputs": [],
   "source": [
    "# quarterly temperature average\n",
    "q_temp = station_ave.groupby(pd.Grouper(freq='Q')).mean()"
   ]
  },
  {
   "cell_type": "code",
   "execution_count": 975,
   "metadata": {},
   "outputs": [],
   "source": [
    "# caluculate coldest quarter for each year\n",
    "coldest_quarter = []\n",
    "\n",
    "for year in q_temp.index.year.unique().tolist():\n",
    "    coldest_temp = 999\n",
    "    for index, row in q_temp[str(year)].iterrows():\n",
    "        if row.temp < coldest_temp:\n",
    "            coldest_temp = row.temp\n",
    "            date_q = str(index.year) + '-' + str(index.month)\n",
    "    coldest_quarter.append({'coldest_quarter': date_q, 'temp': coldest_temp.round(1)})"
   ]
  },
  {
   "cell_type": "code",
   "execution_count": 980,
   "metadata": {},
   "outputs": [
    {
     "data": {
      "text/html": [
       "<div>\n",
       "<style scoped>\n",
       "    .dataframe tbody tr th:only-of-type {\n",
       "        vertical-align: middle;\n",
       "    }\n",
       "\n",
       "    .dataframe tbody tr th {\n",
       "        vertical-align: top;\n",
       "    }\n",
       "\n",
       "    .dataframe thead th {\n",
       "        text-align: right;\n",
       "    }\n",
       "</style>\n",
       "<table border=\"1\" class=\"dataframe\">\n",
       "  <thead>\n",
       "    <tr style=\"text-align: right;\">\n",
       "      <th></th>\n",
       "      <th>coldest_quarter</th>\n",
       "      <th>temp</th>\n",
       "    </tr>\n",
       "  </thead>\n",
       "  <tbody>\n",
       "    <tr>\n",
       "      <th>0</th>\n",
       "      <td>2014-3</td>\n",
       "      <td>28.4</td>\n",
       "    </tr>\n",
       "    <tr>\n",
       "      <th>1</th>\n",
       "      <td>2015-12</td>\n",
       "      <td>35.2</td>\n",
       "    </tr>\n",
       "    <tr>\n",
       "      <th>2</th>\n",
       "      <td>2016-3</td>\n",
       "      <td>33.5</td>\n",
       "    </tr>\n",
       "    <tr>\n",
       "      <th>3</th>\n",
       "      <td>2017-3</td>\n",
       "      <td>28.8</td>\n",
       "    </tr>\n",
       "    <tr>\n",
       "      <th>4</th>\n",
       "      <td>2018-3</td>\n",
       "      <td>30.0</td>\n",
       "    </tr>\n",
       "  </tbody>\n",
       "</table>\n",
       "</div>"
      ],
      "text/plain": [
       "  coldest_quarter  temp\n",
       "0          2014-3  28.4\n",
       "1         2015-12  35.2\n",
       "2          2016-3  33.5\n",
       "3          2017-3  28.8\n",
       "4          2018-3  30.0"
      ]
     },
     "execution_count": 980,
     "metadata": {},
     "output_type": "execute_result"
    }
   ],
   "source": [
    "coldest_quarter = pd.DataFrame(coldest_quarter)\n",
    "coldest_quarter"
   ]
  },
  {
   "cell_type": "code",
   "execution_count": 978,
   "metadata": {},
   "outputs": [],
   "source": [
    "# quarterly precipitation sum\n",
    "q_precip = p_ave.groupby(pd.Grouper(freq='Q')).sum()"
   ]
  },
  {
   "cell_type": "code",
   "execution_count": 986,
   "metadata": {},
   "outputs": [],
   "source": [
    "BIO19 = []\n",
    "\n",
    "# use coldest quarter to select for precipitation\n",
    "for index, row in coldest_quarter.iterrows():\n",
    "    precip = q_precip[str(row.coldest_quarter)].iloc[0]['precip'].round(2)\n",
    "    BIO19.append({'coldest_quarter': row.coldest_quarter, 'precip (in)': precip})"
   ]
  },
  {
   "cell_type": "code",
   "execution_count": 988,
   "metadata": {},
   "outputs": [
    {
     "data": {
      "text/html": [
       "<div>\n",
       "<style scoped>\n",
       "    .dataframe tbody tr th:only-of-type {\n",
       "        vertical-align: middle;\n",
       "    }\n",
       "\n",
       "    .dataframe tbody tr th {\n",
       "        vertical-align: top;\n",
       "    }\n",
       "\n",
       "    .dataframe thead th {\n",
       "        text-align: right;\n",
       "    }\n",
       "</style>\n",
       "<table border=\"1\" class=\"dataframe\">\n",
       "  <thead>\n",
       "    <tr style=\"text-align: right;\">\n",
       "      <th></th>\n",
       "      <th>precip (in)</th>\n",
       "    </tr>\n",
       "    <tr>\n",
       "      <th>coldest_quarter</th>\n",
       "      <th></th>\n",
       "    </tr>\n",
       "  </thead>\n",
       "  <tbody>\n",
       "    <tr>\n",
       "      <th>2014-3</th>\n",
       "      <td>2.74</td>\n",
       "    </tr>\n",
       "    <tr>\n",
       "      <th>2015-12</th>\n",
       "      <td>2.69</td>\n",
       "    </tr>\n",
       "    <tr>\n",
       "      <th>2016-3</th>\n",
       "      <td>1.52</td>\n",
       "    </tr>\n",
       "    <tr>\n",
       "      <th>2017-3</th>\n",
       "      <td>4.02</td>\n",
       "    </tr>\n",
       "    <tr>\n",
       "      <th>2018-3</th>\n",
       "      <td>2.42</td>\n",
       "    </tr>\n",
       "  </tbody>\n",
       "</table>\n",
       "</div>"
      ],
      "text/plain": [
       "                 precip (in)\n",
       "coldest_quarter             \n",
       "2014-3                  2.74\n",
       "2015-12                 2.69\n",
       "2016-3                  1.52\n",
       "2017-3                  4.02\n",
       "2018-3                  2.42"
      ]
     },
     "execution_count": 988,
     "metadata": {},
     "output_type": "execute_result"
    }
   ],
   "source": [
    "BIO19 = pd.DataFrame(BIO19).set_index('coldest_quarter')\n",
    "BIO19"
   ]
  }
 ],
 "metadata": {
  "kernelspec": {
   "display_name": "Python 3",
   "language": "python",
   "name": "python3"
  },
  "language_info": {
   "codemirror_mode": {
    "name": "ipython",
    "version": 3
   },
   "file_extension": ".py",
   "mimetype": "text/x-python",
   "name": "python",
   "nbconvert_exporter": "python",
   "pygments_lexer": "ipython3",
   "version": "3.7.3"
  }
 },
 "nbformat": 4,
 "nbformat_minor": 2
}
