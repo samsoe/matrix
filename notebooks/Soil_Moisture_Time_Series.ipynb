{
  "nbformat": 4,
  "nbformat_minor": 0,
  "metadata": {
    "colab": {
      "name": "Soil Moisture Time Series.ipynb",
      "version": "0.3.2",
      "provenance": [],
      "collapsed_sections": [],
      "include_colab_link": true
    },
    "language_info": {
      "codemirror_mode": "r",
      "file_extension": ".r",
      "mimetype": "text/x-r-source",
      "name": "R",
      "pygments_lexer": "r",
      "version": "3.3.1"
    },
    "kernelspec": {
      "display_name": "R",
      "language": "R",
      "name": "ir"
    },
    "accelerator": "GPU"
  },
  "cells": [
    {
      "cell_type": "markdown",
      "metadata": {
        "id": "view-in-github",
        "colab_type": "text"
      },
      "source": [
        "<a href=\"https://colab.research.google.com/github/samsoe/matrix/blob/master/notebooks/Soil_Moisture_Time_Series.ipynb\" target=\"_parent\"><img src=\"https://colab.research.google.com/assets/colab-badge.svg\" alt=\"Open In Colab\"/></a>"
      ]
    },
    {
      "cell_type": "code",
      "metadata": {
        "id": "f53anL_124JW",
        "colab_type": "code",
        "colab": {}
      },
      "source": [
        "library(tidyverse)"
      ],
      "execution_count": 0,
      "outputs": []
    },
    {
      "cell_type": "markdown",
      "metadata": {
        "id": "VqE0MRHq25xR",
        "colab_type": "text"
      },
      "source": [
        "* [Matrix Data Source Document](https://docs.google.com/document/d/1SdsE3cm5JAvLKbzz7Xqw2FcEQ1TgoeKiRpDH2ugimLA/edit)\n",
        "  * [Soil Moisture Documentation](https://docs.google.com/document/d/14VsXV28r34D_geE0A2fVhfB3LKfOAraNszwfRGhfgdU/edit)"
      ]
    },
    {
      "cell_type": "code",
      "metadata": {
        "id": "cdZjZs_Q24MG",
        "colab_type": "code",
        "colab": {}
      },
      "source": [
        "# soil_moisture-190611.csv\n",
        "src = 'https://drive.google.com/uc?id=1F-OzrbaqUR28skpxc8Ai6hjpSq_VjSpD'"
      ],
      "execution_count": 0,
      "outputs": []
    },
    {
      "cell_type": "code",
      "metadata": {
        "id": "CQ9aBVld24Ov",
        "colab_type": "code",
        "colab": {}
      },
      "source": [
        "df <- read.csv(src)"
      ],
      "execution_count": 0,
      "outputs": []
    },
    {
      "cell_type": "code",
      "metadata": {
        "id": "EjpiqBGm24Rp",
        "colab_type": "code",
        "outputId": "44151f57-d155-4461-d3c1-373eaa259b56",
        "colab": {
          "base_uri": "https://localhost:8080/",
          "height": 204
        }
      },
      "source": [
        "head(df)"
      ],
      "execution_count": 0,
      "outputs": [
        {
          "output_type": "display_data",
          "data": {
            "text/plain": [
              "  Measurement.Time    station        port   depth..in. measurement   value    \n",
              "1 2000-11-07 06:00:00 sainfoin bench Port 1 6          kPa Potential -1329.616\n",
              "2 2000-11-07 12:00:00 sainfoin bench Port 1 6          kPa Potential -1075.787\n",
              "3 2000-11-07 18:00:00 sainfoin bench Port 1 6          kPa Potential -1238.586\n",
              "4 2000-11-08 00:00:00 sainfoin bench Port 1 6          kPa Potential -1512.607\n",
              "5 2000-11-08 06:00:00 sainfoin bench Port 1 6          kPa Potential -1372.860\n",
              "6 2000-11-08 12:00:00 sainfoin bench Port 1 6          kPa Potential -1031.873"
            ],
            "text/latex": "A data.frame: 6 × 6\n\\begin{tabular}{r|llllll}\n Measurement.Time & station & port & depth..in. & measurement & value\\\\\n <fct> & <fct> & <fct> & <int> & <fct> & <dbl>\\\\\n\\hline\n\t 2000-11-07 06:00:00 & sainfoin bench & Port 1 & 6 & kPa Potential & -1329.616\\\\\n\t 2000-11-07 12:00:00 & sainfoin bench & Port 1 & 6 & kPa Potential & -1075.787\\\\\n\t 2000-11-07 18:00:00 & sainfoin bench & Port 1 & 6 & kPa Potential & -1238.586\\\\\n\t 2000-11-08 00:00:00 & sainfoin bench & Port 1 & 6 & kPa Potential & -1512.607\\\\\n\t 2000-11-08 06:00:00 & sainfoin bench & Port 1 & 6 & kPa Potential & -1372.860\\\\\n\t 2000-11-08 12:00:00 & sainfoin bench & Port 1 & 6 & kPa Potential & -1031.873\\\\\n\\end{tabular}\n",
            "text/markdown": "\nA data.frame: 6 × 6\n\n| Measurement.Time &lt;fct&gt; | station &lt;fct&gt; | port &lt;fct&gt; | depth..in. &lt;int&gt; | measurement &lt;fct&gt; | value &lt;dbl&gt; |\n|---|---|---|---|---|---|\n| 2000-11-07 06:00:00 | sainfoin bench | Port 1 | 6 | kPa Potential | -1329.616 |\n| 2000-11-07 12:00:00 | sainfoin bench | Port 1 | 6 | kPa Potential | -1075.787 |\n| 2000-11-07 18:00:00 | sainfoin bench | Port 1 | 6 | kPa Potential | -1238.586 |\n| 2000-11-08 00:00:00 | sainfoin bench | Port 1 | 6 | kPa Potential | -1512.607 |\n| 2000-11-08 06:00:00 | sainfoin bench | Port 1 | 6 | kPa Potential | -1372.860 |\n| 2000-11-08 12:00:00 | sainfoin bench | Port 1 | 6 | kPa Potential | -1031.873 |\n\n",
            "text/html": [
              "<table>\n",
              "<caption>A data.frame: 6 × 6</caption>\n",
              "<thead>\n",
              "\t<tr><th scope=col>Measurement.Time</th><th scope=col>station</th><th scope=col>port</th><th scope=col>depth..in.</th><th scope=col>measurement</th><th scope=col>value</th></tr>\n",
              "\t<tr><th scope=col>&lt;fct&gt;</th><th scope=col>&lt;fct&gt;</th><th scope=col>&lt;fct&gt;</th><th scope=col>&lt;int&gt;</th><th scope=col>&lt;fct&gt;</th><th scope=col>&lt;dbl&gt;</th></tr>\n",
              "</thead>\n",
              "<tbody>\n",
              "\t<tr><td>2000-11-07 06:00:00</td><td>sainfoin bench</td><td>Port 1</td><td>6</td><td>kPa Potential</td><td>-1329.616</td></tr>\n",
              "\t<tr><td>2000-11-07 12:00:00</td><td>sainfoin bench</td><td>Port 1</td><td>6</td><td>kPa Potential</td><td>-1075.787</td></tr>\n",
              "\t<tr><td>2000-11-07 18:00:00</td><td>sainfoin bench</td><td>Port 1</td><td>6</td><td>kPa Potential</td><td>-1238.586</td></tr>\n",
              "\t<tr><td>2000-11-08 00:00:00</td><td>sainfoin bench</td><td>Port 1</td><td>6</td><td>kPa Potential</td><td>-1512.607</td></tr>\n",
              "\t<tr><td>2000-11-08 06:00:00</td><td>sainfoin bench</td><td>Port 1</td><td>6</td><td>kPa Potential</td><td>-1372.860</td></tr>\n",
              "\t<tr><td>2000-11-08 12:00:00</td><td>sainfoin bench</td><td>Port 1</td><td>6</td><td>kPa Potential</td><td>-1031.873</td></tr>\n",
              "</tbody>\n",
              "</table>\n"
            ]
          },
          "metadata": {
            "tags": []
          }
        }
      ]
    },
    {
      "cell_type": "code",
      "metadata": {
        "id": "lzZAIP6X24VM",
        "colab_type": "code",
        "outputId": "18323855-c5cd-4c39-ce65-f4a5b15fb808",
        "colab": {
          "base_uri": "https://localhost:8080/",
          "height": 120
        }
      },
      "source": [
        "df_year <- count(df, measurement)\n",
        "df_year"
      ],
      "execution_count": 0,
      "outputs": [
        {
          "output_type": "display_data",
          "data": {
            "text/plain": [
              "  measurement   n     \n",
              "1 °C Temp       160153\n",
              "2 kPa Potential 160153"
            ],
            "text/latex": "A tibble: 2 × 2\n\\begin{tabular}{r|ll}\n measurement & n\\\\\n <fct> & <int>\\\\\n\\hline\n\t °C Temp       & 160153\\\\\n\t kPa Potential & 160153\\\\\n\\end{tabular}\n",
            "text/markdown": "\nA tibble: 2 × 2\n\n| measurement &lt;fct&gt; | n &lt;int&gt; |\n|---|---|\n| °C Temp       | 160153 |\n| kPa Potential | 160153 |\n\n",
            "text/html": [
              "<table>\n",
              "<caption>A tibble: 2 × 2</caption>\n",
              "<thead>\n",
              "\t<tr><th scope=col>measurement</th><th scope=col>n</th></tr>\n",
              "\t<tr><th scope=col>&lt;fct&gt;</th><th scope=col>&lt;int&gt;</th></tr>\n",
              "</thead>\n",
              "<tbody>\n",
              "\t<tr><td>°C Temp      </td><td>160153</td></tr>\n",
              "\t<tr><td>kPa Potential</td><td>160153</td></tr>\n",
              "</tbody>\n",
              "</table>\n"
            ]
          },
          "metadata": {
            "tags": []
          }
        }
      ]
    },
    {
      "cell_type": "code",
      "metadata": {
        "id": "P2F8AX_t24ZJ",
        "colab_type": "code",
        "outputId": "598fc18f-df38-4de1-9ca1-bd68630334b6",
        "colab": {
          "base_uri": "https://localhost:8080/",
          "height": 857
        }
      },
      "source": [
        "plot(time_series)"
      ],
      "execution_count": 0,
      "outputs": [
        {
          "output_type": "display_data",
          "data": {
            "image/png": "[encoded data removed]",
            "text/plain": [
              "plot without title"
            ]
          },
          "metadata": {
            "tags": []
          }
        }
      ]
    },
    {
      "cell_type": "code",
      "metadata": {
        "id": "LM6ngQxd6ind",
        "colab_type": "code",
        "outputId": "92c1b3d5-5553-4a89-ef3b-cf14bd0513c3",
        "colab": {
          "base_uri": "https://localhost:8080/",
          "height": 34
        }
      },
      "source": [
        "is.ts(time_series)"
      ],
      "execution_count": 0,
      "outputs": [
        {
          "output_type": "display_data",
          "data": {
            "text/plain": [
              "[1] TRUE"
            ],
            "text/latex": "TRUE",
            "text/markdown": "TRUE",
            "text/html": [
              "TRUE"
            ]
          },
          "metadata": {
            "tags": []
          }
        }
      ]
    },
    {
      "cell_type": "code",
      "metadata": {
        "id": "IfX-M8RF6iqD",
        "colab_type": "code",
        "outputId": "04229225-3992-4ee4-f6f6-538df36f69fa",
        "colab": {
          "base_uri": "https://localhost:8080/",
          "height": 34
        }
      },
      "source": [
        "Sys.time()"
      ],
      "execution_count": 0,
      "outputs": [
        {
          "output_type": "display_data",
          "data": {
            "text/plain": [
              "[1] \"2019-07-15 15:03:22 UTC\""
            ]
          },
          "metadata": {
            "tags": []
          }
        }
      ]
    },
    {
      "cell_type": "code",
      "metadata": {
        "id": "6Ro9YGbd6is1",
        "colab_type": "code",
        "colab": {}
      },
      "source": [
        "?mutate"
      ],
      "execution_count": 0,
      "outputs": []
    },
    {
      "cell_type": "markdown",
      "metadata": {
        "id": "SiT0BqOg6i6v",
        "colab_type": "text"
      },
      "source": [
        "# Notes\n",
        " * [Time Series describe functions](https://campus.datacamp.com/courses/introduction-to-time-series-analysis/exploratory-time-series-data-analysis?ex=6)"
      ]
    },
    {
      "cell_type": "code",
      "metadata": {
        "id": "ovt_dTz26tIX",
        "colab_type": "code",
        "colab": {}
      },
      "source": [
        "# Plot AirPassengers\n",
        "plot(AirPassengers)\n",
        "\n",
        "# View the start and end dates of AirPassengers\n",
        "start(AirPassengers)\n",
        "end(AirPassengers)\n",
        "\n",
        "# Use time(), deltat(), frequency(), and cycle() with AirPassengers \n",
        "time(AirPassengers)\n",
        "deltat(AirPassengers)\n",
        "cycle(AirPassengers)\n",
        "frequency(AirPassengers)"
      ],
      "execution_count": 0,
      "outputs": []
    }
  ]
}