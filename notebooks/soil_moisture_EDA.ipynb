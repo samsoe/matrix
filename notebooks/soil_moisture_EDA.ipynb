{
 "cells": [
  {
   "cell_type": "markdown",
   "metadata": {
    "colab_type": "text",
    "id": "5xc5B9WnHKd9"
   },
   "source": [
    "This notebook explores 6 soil moisture stations on MPG Ranch.  The source file can be downloaded here: [Link](https://drive.google.com/uc?id=1F-OzrbaqUR28skpxc8Ai6hjpSq_VjSpD)\n",
    "The source data was generated in the '[soil moisture collection](https://colab.research.google.com/github/samsoe/matrix/blob/master/notebooks/soil_moisture_collection.ipynb#scrollTo=r4d2DZpBFHzq)' notebook."
   ]
  },
  {
   "cell_type": "markdown",
   "metadata": {
    "colab_type": "text",
    "id": "TmmqH5rfHl7v"
   },
   "source": [
    "# Load\n"
   ]
  },
  {
   "cell_type": "markdown",
   "metadata": {
    "colab_type": "text",
    "id": "oiAR3bORHr0E"
   },
   "source": [
    "## Libraries"
   ]
  },
  {
   "cell_type": "code",
   "execution_count": 1,
   "metadata": {
    "colab": {},
    "colab_type": "code",
    "id": "y3BPbSRSHEOv"
   },
   "outputs": [],
   "source": [
    "import pandas as pd"
   ]
  },
  {
   "cell_type": "markdown",
   "metadata": {
    "colab_type": "text",
    "id": "YVqUtvlAH51A"
   },
   "source": [
    "## Data"
   ]
  },
  {
   "cell_type": "code",
   "execution_count": 2,
   "metadata": {
    "colab": {},
    "colab_type": "code",
    "id": "43T4V7VhHbQs"
   },
   "outputs": [],
   "source": [
    "src = 'https://drive.google.com/uc?id=1F-OzrbaqUR28skpxc8Ai6hjpSq_VjSpD'"
   ]
  },
  {
   "cell_type": "code",
   "execution_count": 3,
   "metadata": {
    "colab": {},
    "colab_type": "code",
    "id": "a_yBM7JvH_2R"
   },
   "outputs": [],
   "source": [
    "df = pd.read_csv(src, parse_dates=['Measurement Time'])"
   ]
  },
  {
   "cell_type": "markdown",
   "metadata": {
    "colab_type": "text",
    "id": "G8qZGsDDIF17"
   },
   "source": [
    "# Explore"
   ]
  },
  {
   "cell_type": "code",
   "execution_count": 36,
   "metadata": {
    "colab": {
     "base_uri": "https://localhost:8080/",
     "height": 204
    },
    "colab_type": "code",
    "id": "MZgdkZNNIHBe",
    "outputId": "fd0c3940-ce2f-4a9c-c215-ac55beda3cc3"
   },
   "outputs": [
    {
     "name": "stdout",
     "output_type": "stream",
     "text": [
      "<class 'pandas.core.frame.DataFrame'>\n",
      "RangeIndex: 160153 entries, 0 to 160152\n",
      "Data columns (total 6 columns):\n",
      "Measurement Time    160153 non-null datetime64[ns]\n",
      "port                160153 non-null object\n",
      "kPa Potential       160153 non-null float64\n",
      "°C Temp             160153 non-null float64\n",
      "depth (in)          160153 non-null int64\n",
      "station             160153 non-null object\n",
      "dtypes: datetime64[ns](1), float64(2), int64(1), object(2)\n",
      "memory usage: 7.3+ MB\n"
     ]
    }
   ],
   "source": [
    "# 160152 rows\n",
    "df.info()"
   ]
  },
  {
   "cell_type": "code",
   "execution_count": 37,
   "metadata": {
    "colab": {
     "base_uri": "https://localhost:8080/",
     "height": 204
    },
    "colab_type": "code",
    "id": "25HiRFMyIJwh",
    "outputId": "d06b6150-d696-4a08-f2f7-b6937624350f"
   },
   "outputs": [
    {
     "data": {
      "text/html": [
       "<div>\n",
       "<style scoped>\n",
       "    .dataframe tbody tr th:only-of-type {\n",
       "        vertical-align: middle;\n",
       "    }\n",
       "\n",
       "    .dataframe tbody tr th {\n",
       "        vertical-align: top;\n",
       "    }\n",
       "\n",
       "    .dataframe thead th {\n",
       "        text-align: right;\n",
       "    }\n",
       "</style>\n",
       "<table border=\"1\" class=\"dataframe\">\n",
       "  <thead>\n",
       "    <tr style=\"text-align: right;\">\n",
       "      <th></th>\n",
       "      <th>Measurement Time</th>\n",
       "      <th>port</th>\n",
       "      <th>kPa Potential</th>\n",
       "      <th>°C Temp</th>\n",
       "      <th>depth (in)</th>\n",
       "      <th>station</th>\n",
       "    </tr>\n",
       "  </thead>\n",
       "  <tbody>\n",
       "    <tr>\n",
       "      <th>0</th>\n",
       "      <td>2000-11-07 06:00:00</td>\n",
       "      <td>Port 1</td>\n",
       "      <td>-1329.615732</td>\n",
       "      <td>25.2</td>\n",
       "      <td>6</td>\n",
       "      <td>sainfoin bench</td>\n",
       "    </tr>\n",
       "    <tr>\n",
       "      <th>1</th>\n",
       "      <td>2000-11-07 12:00:00</td>\n",
       "      <td>Port 1</td>\n",
       "      <td>-1075.786637</td>\n",
       "      <td>28.4</td>\n",
       "      <td>6</td>\n",
       "      <td>sainfoin bench</td>\n",
       "    </tr>\n",
       "    <tr>\n",
       "      <th>2</th>\n",
       "      <td>2000-11-07 18:00:00</td>\n",
       "      <td>Port 1</td>\n",
       "      <td>-1238.585938</td>\n",
       "      <td>26.1</td>\n",
       "      <td>6</td>\n",
       "      <td>sainfoin bench</td>\n",
       "    </tr>\n",
       "    <tr>\n",
       "      <th>3</th>\n",
       "      <td>2000-11-08 00:00:00</td>\n",
       "      <td>Port 1</td>\n",
       "      <td>-1512.607137</td>\n",
       "      <td>23.3</td>\n",
       "      <td>6</td>\n",
       "      <td>sainfoin bench</td>\n",
       "    </tr>\n",
       "    <tr>\n",
       "      <th>4</th>\n",
       "      <td>2000-11-08 06:00:00</td>\n",
       "      <td>Port 1</td>\n",
       "      <td>-1372.859664</td>\n",
       "      <td>24.8</td>\n",
       "      <td>6</td>\n",
       "      <td>sainfoin bench</td>\n",
       "    </tr>\n",
       "  </tbody>\n",
       "</table>\n",
       "</div>"
      ],
      "text/plain": [
       "     Measurement Time    port  kPa Potential  °C Temp  depth (in)  \\\n",
       "0 2000-11-07 06:00:00  Port 1   -1329.615732     25.2           6   \n",
       "1 2000-11-07 12:00:00  Port 1   -1075.786637     28.4           6   \n",
       "2 2000-11-07 18:00:00  Port 1   -1238.585938     26.1           6   \n",
       "3 2000-11-08 00:00:00  Port 1   -1512.607137     23.3           6   \n",
       "4 2000-11-08 06:00:00  Port 1   -1372.859664     24.8           6   \n",
       "\n",
       "          station  \n",
       "0  sainfoin bench  \n",
       "1  sainfoin bench  \n",
       "2  sainfoin bench  \n",
       "3  sainfoin bench  \n",
       "4  sainfoin bench  "
      ]
     },
     "execution_count": 37,
     "metadata": {},
     "output_type": "execute_result"
    }
   ],
   "source": [
    "# sample of initial data structure\n",
    "df.head()"
   ]
  },
  {
   "cell_type": "code",
   "execution_count": 38,
   "metadata": {
    "colab": {},
    "colab_type": "code",
    "id": "BbKrd4HfIPid"
   },
   "outputs": [],
   "source": [
    "# Set the index to the Measurement time\n",
    "df = df.set_index('Measurement Time')"
   ]
  },
  {
   "cell_type": "code",
   "execution_count": 39,
   "metadata": {
    "colab": {
     "base_uri": "https://localhost:8080/",
     "height": 187
    },
    "colab_type": "code",
    "id": "M_AgW3yoIZ0k",
    "outputId": "943bb67c-780b-4f70-84cf-14959b7f7ce9"
   },
   "outputs": [
    {
     "name": "stdout",
     "output_type": "stream",
     "text": [
      "<class 'pandas.core.frame.DataFrame'>\n",
      "DatetimeIndex: 160153 entries, 2000-11-07 06:00:00 to 2019-06-09 18:00:00\n",
      "Data columns (total 5 columns):\n",
      "port             160153 non-null object\n",
      "kPa Potential    160153 non-null float64\n",
      "°C Temp          160153 non-null float64\n",
      "depth (in)       160153 non-null int64\n",
      "station          160153 non-null object\n",
      "dtypes: float64(2), int64(1), object(2)\n",
      "memory usage: 7.3+ MB\n"
     ]
    }
   ],
   "source": [
    "# Recorded sample times range from 2000-11-07 06:00:00 to 2019-06-09 18:00:00\n",
    "df.info()"
   ]
  },
  {
   "cell_type": "code",
   "execution_count": 40,
   "metadata": {
    "colab": {
     "base_uri": "https://localhost:8080/",
     "height": 119
    },
    "colab_type": "code",
    "id": "3bzo224tIiz_",
    "outputId": "580b6efc-dcfe-4131-87a5-b1396260ed30"
   },
   "outputs": [
    {
     "name": "stdout",
     "output_type": "stream",
     "text": [
      "Sainfoin Bench\n",
      "Baldy Draw\n",
      "Baldy Summit\n",
      "Indian Ridge\n",
      "South Baldy Ridge\n",
      "Orchard House\n"
     ]
    }
   ],
   "source": [
    "# Unique Moisture Stations collocated with Weather Stations\n",
    "for station in df.station.unique().tolist():\n",
    "  print(station.title())"
   ]
  },
  {
   "cell_type": "code",
   "execution_count": 41,
   "metadata": {
    "colab": {
     "base_uri": "https://localhost:8080/",
     "height": 235
    },
    "colab_type": "code",
    "id": "5YqWmNlrFQMR",
    "outputId": "f6781a64-8d0b-40cf-d550-2ea96d950ee4"
   },
   "outputs": [
    {
     "data": {
      "text/html": [
       "<div>\n",
       "<style scoped>\n",
       "    .dataframe tbody tr th:only-of-type {\n",
       "        vertical-align: middle;\n",
       "    }\n",
       "\n",
       "    .dataframe tbody tr th {\n",
       "        vertical-align: top;\n",
       "    }\n",
       "\n",
       "    .dataframe thead th {\n",
       "        text-align: right;\n",
       "    }\n",
       "</style>\n",
       "<table border=\"1\" class=\"dataframe\">\n",
       "  <thead>\n",
       "    <tr style=\"text-align: right;\">\n",
       "      <th></th>\n",
       "      <th>kPa Potential</th>\n",
       "      <th>°C Temp</th>\n",
       "      <th>depth (in)</th>\n",
       "    </tr>\n",
       "    <tr>\n",
       "      <th>Measurement Time</th>\n",
       "      <th></th>\n",
       "      <th></th>\n",
       "      <th></th>\n",
       "    </tr>\n",
       "  </thead>\n",
       "  <tbody>\n",
       "    <tr>\n",
       "      <th>2019-02-28</th>\n",
       "      <td>-1121.496556</td>\n",
       "      <td>1.668066</td>\n",
       "      <td>19.640884</td>\n",
       "    </tr>\n",
       "    <tr>\n",
       "      <th>2019-03-31</th>\n",
       "      <td>-725.868413</td>\n",
       "      <td>1.852218</td>\n",
       "      <td>20.238683</td>\n",
       "    </tr>\n",
       "    <tr>\n",
       "      <th>2019-04-30</th>\n",
       "      <td>-11.545626</td>\n",
       "      <td>6.763452</td>\n",
       "      <td>20.203969</td>\n",
       "    </tr>\n",
       "    <tr>\n",
       "      <th>2019-05-31</th>\n",
       "      <td>-27.801917</td>\n",
       "      <td>11.160893</td>\n",
       "      <td>20.324324</td>\n",
       "    </tr>\n",
       "    <tr>\n",
       "      <th>2019-06-30</th>\n",
       "      <td>-104.117191</td>\n",
       "      <td>15.164662</td>\n",
       "      <td>20.661654</td>\n",
       "    </tr>\n",
       "  </tbody>\n",
       "</table>\n",
       "</div>"
      ],
      "text/plain": [
       "                  kPa Potential    °C Temp  depth (in)\n",
       "Measurement Time                                      \n",
       "2019-02-28         -1121.496556   1.668066   19.640884\n",
       "2019-03-31          -725.868413   1.852218   20.238683\n",
       "2019-04-30           -11.545626   6.763452   20.203969\n",
       "2019-05-31           -27.801917  11.160893   20.324324\n",
       "2019-06-30          -104.117191  15.164662   20.661654"
      ]
     },
     "execution_count": 41,
     "metadata": {},
     "output_type": "execute_result"
    }
   ],
   "source": [
    "df.groupby(pd.Grouper(freq='M')).mean().tail()"
   ]
  },
  {
   "cell_type": "markdown",
   "metadata": {
    "colab": {},
    "colab_type": "code",
    "id": "h2WJdLqfFRwS"
   },
   "source": [
    "# Explore"
   ]
  },
  {
   "cell_type": "code",
   "execution_count": 46,
   "metadata": {},
   "outputs": [],
   "source": [
    "df = df['2014':'2018']"
   ]
  },
  {
   "cell_type": "code",
   "execution_count": 60,
   "metadata": {},
   "outputs": [],
   "source": [
    "sample = df[(df['depth (in)'] == 36) & (df.station == 'sainfoin bench')]\\\n",
    "    .groupby(pd.Grouper(freq='D'))\\\n",
    "    .mean()"
   ]
  },
  {
   "cell_type": "code",
   "execution_count": 61,
   "metadata": {},
   "outputs": [
    {
     "name": "stdout",
     "output_type": "stream",
     "text": [
      "<class 'pandas.core.frame.DataFrame'>\n",
      "DatetimeIndex: 1800 entries, 2014-01-01 to 2018-12-05\n",
      "Freq: D\n",
      "Data columns (total 3 columns):\n",
      "kPa Potential    1775 non-null float64\n",
      "°C Temp          1775 non-null float64\n",
      "depth (in)       1775 non-null float64\n",
      "dtypes: float64(3)\n",
      "memory usage: 56.2 KB\n"
     ]
    }
   ],
   "source": [
    "sample.info()"
   ]
  },
  {
   "cell_type": "code",
   "execution_count": null,
   "metadata": {},
   "outputs": [],
   "source": []
  },
  {
   "cell_type": "code",
   "execution_count": 53,
   "metadata": {},
   "outputs": [],
   "source": [
    "import bokeh.io\n",
    "from bokeh.io import output_notebook, show\n",
    "from bokeh.plotting import figure"
   ]
  },
  {
   "cell_type": "code",
   "execution_count": 56,
   "metadata": {},
   "outputs": [
    {
     "data": {
      "text/html": [
       "\n",
       "    <div class=\"bk-root\">\n",
       "        <a href=\"https://bokeh.pydata.org\" target=\"_blank\" class=\"bk-logo bk-logo-small bk-logo-notebook\"></a>\n",
       "        <span id=\"2494\">Loading BokehJS ...</span>\n",
       "    </div>"
      ]
     },
     "metadata": {},
     "output_type": "display_data"
    },
    {
     "data": {
      "application/javascript": [
       "\n",
       "(function(root) {\n",
       "  function now() {\n",
       "    return new Date();\n",
       "  }\n",
       "\n",
       "  var force = true;\n",
       "\n",
       "  if (typeof (root._bokeh_onload_callbacks) === \"undefined\" || force === true) {\n",
       "    root._bokeh_onload_callbacks = [];\n",
       "    root._bokeh_is_loading = undefined;\n",
       "  }\n",
       "\n",
       "  var JS_MIME_TYPE = 'application/javascript';\n",
       "  var HTML_MIME_TYPE = 'text/html';\n",
       "  var EXEC_MIME_TYPE = 'application/vnd.bokehjs_exec.v0+json';\n",
       "  var CLASS_NAME = 'output_bokeh rendered_html';\n",
       "\n",
       "  /**\n",
       "   * Render data to the DOM node\n",
       "   */\n",
       "  function render(props, node) {\n",
       "    var script = document.createElement(\"script\");\n",
       "    node.appendChild(script);\n",
       "  }\n",
       "\n",
       "  /**\n",
       "   * Handle when an output is cleared or removed\n",
       "   */\n",
       "  function handleClearOutput(event, handle) {\n",
       "    var cell = handle.cell;\n",
       "\n",
       "    var id = cell.output_area._bokeh_element_id;\n",
       "    var server_id = cell.output_area._bokeh_server_id;\n",
       "    // Clean up Bokeh references\n",
       "    if (id != null && id in Bokeh.index) {\n",
       "      Bokeh.index[id].model.document.clear();\n",
       "      delete Bokeh.index[id];\n",
       "    }\n",
       "\n",
       "    if (server_id !== undefined) {\n",
       "      // Clean up Bokeh references\n",
       "      var cmd = \"from bokeh.io.state import curstate; print(curstate().uuid_to_server['\" + server_id + \"'].get_sessions()[0].document.roots[0]._id)\";\n",
       "      cell.notebook.kernel.execute(cmd, {\n",
       "        iopub: {\n",
       "          output: function(msg) {\n",
       "            var id = msg.content.text.trim();\n",
       "            if (id in Bokeh.index) {\n",
       "              Bokeh.index[id].model.document.clear();\n",
       "              delete Bokeh.index[id];\n",
       "            }\n",
       "          }\n",
       "        }\n",
       "      });\n",
       "      // Destroy server and session\n",
       "      var cmd = \"import bokeh.io.notebook as ion; ion.destroy_server('\" + server_id + \"')\";\n",
       "      cell.notebook.kernel.execute(cmd);\n",
       "    }\n",
       "  }\n",
       "\n",
       "  /**\n",
       "   * Handle when a new output is added\n",
       "   */\n",
       "  function handleAddOutput(event, handle) {\n",
       "    var output_area = handle.output_area;\n",
       "    var output = handle.output;\n",
       "\n",
       "    // limit handleAddOutput to display_data with EXEC_MIME_TYPE content only\n",
       "    if ((output.output_type != \"display_data\") || (!output.data.hasOwnProperty(EXEC_MIME_TYPE))) {\n",
       "      return\n",
       "    }\n",
       "\n",
       "    var toinsert = output_area.element.find(\".\" + CLASS_NAME.split(' ')[0]);\n",
       "\n",
       "    if (output.metadata[EXEC_MIME_TYPE][\"id\"] !== undefined) {\n",
       "      toinsert[toinsert.length - 1].firstChild.textContent = output.data[JS_MIME_TYPE];\n",
       "      // store reference to embed id on output_area\n",
       "      output_area._bokeh_element_id = output.metadata[EXEC_MIME_TYPE][\"id\"];\n",
       "    }\n",
       "    if (output.metadata[EXEC_MIME_TYPE][\"server_id\"] !== undefined) {\n",
       "      var bk_div = document.createElement(\"div\");\n",
       "      bk_div.innerHTML = output.data[HTML_MIME_TYPE];\n",
       "      var script_attrs = bk_div.children[0].attributes;\n",
       "      for (var i = 0; i < script_attrs.length; i++) {\n",
       "        toinsert[toinsert.length - 1].firstChild.setAttribute(script_attrs[i].name, script_attrs[i].value);\n",
       "      }\n",
       "      // store reference to server id on output_area\n",
       "      output_area._bokeh_server_id = output.metadata[EXEC_MIME_TYPE][\"server_id\"];\n",
       "    }\n",
       "  }\n",
       "\n",
       "  function register_renderer(events, OutputArea) {\n",
       "\n",
       "    function append_mime(data, metadata, element) {\n",
       "      // create a DOM node to render to\n",
       "      var toinsert = this.create_output_subarea(\n",
       "        metadata,\n",
       "        CLASS_NAME,\n",
       "        EXEC_MIME_TYPE\n",
       "      );\n",
       "      this.keyboard_manager.register_events(toinsert);\n",
       "      // Render to node\n",
       "      var props = {data: data, metadata: metadata[EXEC_MIME_TYPE]};\n",
       "      render(props, toinsert[toinsert.length - 1]);\n",
       "      element.append(toinsert);\n",
       "      return toinsert\n",
       "    }\n",
       "\n",
       "    /* Handle when an output is cleared or removed */\n",
       "    events.on('clear_output.CodeCell', handleClearOutput);\n",
       "    events.on('delete.Cell', handleClearOutput);\n",
       "\n",
       "    /* Handle when a new output is added */\n",
       "    events.on('output_added.OutputArea', handleAddOutput);\n",
       "\n",
       "    /**\n",
       "     * Register the mime type and append_mime function with output_area\n",
       "     */\n",
       "    OutputArea.prototype.register_mime_type(EXEC_MIME_TYPE, append_mime, {\n",
       "      /* Is output safe? */\n",
       "      safe: true,\n",
       "      /* Index of renderer in `output_area.display_order` */\n",
       "      index: 0\n",
       "    });\n",
       "  }\n",
       "\n",
       "  // register the mime type if in Jupyter Notebook environment and previously unregistered\n",
       "  if (root.Jupyter !== undefined) {\n",
       "    var events = require('base/js/events');\n",
       "    var OutputArea = require('notebook/js/outputarea').OutputArea;\n",
       "\n",
       "    if (OutputArea.prototype.mime_types().indexOf(EXEC_MIME_TYPE) == -1) {\n",
       "      register_renderer(events, OutputArea);\n",
       "    }\n",
       "  }\n",
       "\n",
       "  \n",
       "  if (typeof (root._bokeh_timeout) === \"undefined\" || force === true) {\n",
       "    root._bokeh_timeout = Date.now() + 5000;\n",
       "    root._bokeh_failed_load = false;\n",
       "  }\n",
       "\n",
       "  var NB_LOAD_WARNING = {'data': {'text/html':\n",
       "     \"<div style='background-color: #fdd'>\\n\"+\n",
       "     \"<p>\\n\"+\n",
       "     \"BokehJS does not appear to have successfully loaded. If loading BokehJS from CDN, this \\n\"+\n",
       "     \"may be due to a slow or bad network connection. Possible fixes:\\n\"+\n",
       "     \"</p>\\n\"+\n",
       "     \"<ul>\\n\"+\n",
       "     \"<li>re-rerun `output_notebook()` to attempt to load from CDN again, or</li>\\n\"+\n",
       "     \"<li>use INLINE resources instead, as so:</li>\\n\"+\n",
       "     \"</ul>\\n\"+\n",
       "     \"<code>\\n\"+\n",
       "     \"from bokeh.resources import INLINE\\n\"+\n",
       "     \"output_notebook(resources=INLINE)\\n\"+\n",
       "     \"</code>\\n\"+\n",
       "     \"</div>\"}};\n",
       "\n",
       "  function display_loaded() {\n",
       "    var el = document.getElementById(\"2494\");\n",
       "    if (el != null) {\n",
       "      el.textContent = \"BokehJS is loading...\";\n",
       "    }\n",
       "    if (root.Bokeh !== undefined) {\n",
       "      if (el != null) {\n",
       "        el.textContent = \"BokehJS \" + root.Bokeh.version + \" successfully loaded.\";\n",
       "      }\n",
       "    } else if (Date.now() < root._bokeh_timeout) {\n",
       "      setTimeout(display_loaded, 100)\n",
       "    }\n",
       "  }\n",
       "\n",
       "\n",
       "  function run_callbacks() {\n",
       "    try {\n",
       "      root._bokeh_onload_callbacks.forEach(function(callback) { callback() });\n",
       "    }\n",
       "    finally {\n",
       "      delete root._bokeh_onload_callbacks\n",
       "    }\n",
       "    console.info(\"Bokeh: all callbacks have finished\");\n",
       "  }\n",
       "\n",
       "  function load_libs(js_urls, callback) {\n",
       "    root._bokeh_onload_callbacks.push(callback);\n",
       "    if (root._bokeh_is_loading > 0) {\n",
       "      console.log(\"Bokeh: BokehJS is being loaded, scheduling callback at\", now());\n",
       "      return null;\n",
       "    }\n",
       "    if (js_urls == null || js_urls.length === 0) {\n",
       "      run_callbacks();\n",
       "      return null;\n",
       "    }\n",
       "    console.log(\"Bokeh: BokehJS not loaded, scheduling load and callback at\", now());\n",
       "    root._bokeh_is_loading = js_urls.length;\n",
       "    for (var i = 0; i < js_urls.length; i++) {\n",
       "      var url = js_urls[i];\n",
       "      var s = document.createElement('script');\n",
       "      s.src = url;\n",
       "      s.async = false;\n",
       "      s.onreadystatechange = s.onload = function() {\n",
       "        root._bokeh_is_loading--;\n",
       "        if (root._bokeh_is_loading === 0) {\n",
       "          console.log(\"Bokeh: all BokehJS libraries loaded\");\n",
       "          run_callbacks()\n",
       "        }\n",
       "      };\n",
       "      s.onerror = function() {\n",
       "        console.warn(\"failed to load library \" + url);\n",
       "      };\n",
       "      console.log(\"Bokeh: injecting script tag for BokehJS library: \", url);\n",
       "      document.getElementsByTagName(\"head\")[0].appendChild(s);\n",
       "    }\n",
       "  };var element = document.getElementById(\"2494\");\n",
       "  if (element == null) {\n",
       "    console.log(\"Bokeh: ERROR: autoload.js configured with elementid '2494' but no matching script tag was found. \")\n",
       "    return false;\n",
       "  }\n",
       "\n",
       "  var js_urls = [\"https://cdn.pydata.org/bokeh/release/bokeh-1.0.4.min.js\", \"https://cdn.pydata.org/bokeh/release/bokeh-widgets-1.0.4.min.js\", \"https://cdn.pydata.org/bokeh/release/bokeh-tables-1.0.4.min.js\", \"https://cdn.pydata.org/bokeh/release/bokeh-gl-1.0.4.min.js\"];\n",
       "\n",
       "  var inline_js = [\n",
       "    function(Bokeh) {\n",
       "      Bokeh.set_log_level(\"info\");\n",
       "    },\n",
       "    \n",
       "    function(Bokeh) {\n",
       "      \n",
       "    },\n",
       "    function(Bokeh) {\n",
       "      console.log(\"Bokeh: injecting CSS: https://cdn.pydata.org/bokeh/release/bokeh-1.0.4.min.css\");\n",
       "      Bokeh.embed.inject_css(\"https://cdn.pydata.org/bokeh/release/bokeh-1.0.4.min.css\");\n",
       "      console.log(\"Bokeh: injecting CSS: https://cdn.pydata.org/bokeh/release/bokeh-widgets-1.0.4.min.css\");\n",
       "      Bokeh.embed.inject_css(\"https://cdn.pydata.org/bokeh/release/bokeh-widgets-1.0.4.min.css\");\n",
       "      console.log(\"Bokeh: injecting CSS: https://cdn.pydata.org/bokeh/release/bokeh-tables-1.0.4.min.css\");\n",
       "      Bokeh.embed.inject_css(\"https://cdn.pydata.org/bokeh/release/bokeh-tables-1.0.4.min.css\");\n",
       "    }\n",
       "  ];\n",
       "\n",
       "  function run_inline_js() {\n",
       "    \n",
       "    if ((root.Bokeh !== undefined) || (force === true)) {\n",
       "      for (var i = 0; i < inline_js.length; i++) {\n",
       "        inline_js[i].call(root, root.Bokeh);\n",
       "      }if (force === true) {\n",
       "        display_loaded();\n",
       "      }} else if (Date.now() < root._bokeh_timeout) {\n",
       "      setTimeout(run_inline_js, 100);\n",
       "    } else if (!root._bokeh_failed_load) {\n",
       "      console.log(\"Bokeh: BokehJS failed to load within specified timeout.\");\n",
       "      root._bokeh_failed_load = true;\n",
       "    } else if (force !== true) {\n",
       "      var cell = $(document.getElementById(\"2494\")).parents('.cell').data().cell;\n",
       "      cell.output_area.append_execute_result(NB_LOAD_WARNING)\n",
       "    }\n",
       "\n",
       "  }\n",
       "\n",
       "  if (root._bokeh_is_loading === 0) {\n",
       "    console.log(\"Bokeh: BokehJS loaded, going straight to plotting\");\n",
       "    run_inline_js();\n",
       "  } else {\n",
       "    load_libs(js_urls, function() {\n",
       "      console.log(\"Bokeh: BokehJS plotting callback run at\", now());\n",
       "      run_inline_js();\n",
       "    });\n",
       "  }\n",
       "}(window));"
      ],
      "application/vnd.bokehjs_load.v0+json": "\n(function(root) {\n  function now() {\n    return new Date();\n  }\n\n  var force = true;\n\n  if (typeof (root._bokeh_onload_callbacks) === \"undefined\" || force === true) {\n    root._bokeh_onload_callbacks = [];\n    root._bokeh_is_loading = undefined;\n  }\n\n  \n\n  \n  if (typeof (root._bokeh_timeout) === \"undefined\" || force === true) {\n    root._bokeh_timeout = Date.now() + 5000;\n    root._bokeh_failed_load = false;\n  }\n\n  var NB_LOAD_WARNING = {'data': {'text/html':\n     \"<div style='background-color: #fdd'>\\n\"+\n     \"<p>\\n\"+\n     \"BokehJS does not appear to have successfully loaded. If loading BokehJS from CDN, this \\n\"+\n     \"may be due to a slow or bad network connection. Possible fixes:\\n\"+\n     \"</p>\\n\"+\n     \"<ul>\\n\"+\n     \"<li>re-rerun `output_notebook()` to attempt to load from CDN again, or</li>\\n\"+\n     \"<li>use INLINE resources instead, as so:</li>\\n\"+\n     \"</ul>\\n\"+\n     \"<code>\\n\"+\n     \"from bokeh.resources import INLINE\\n\"+\n     \"output_notebook(resources=INLINE)\\n\"+\n     \"</code>\\n\"+\n     \"</div>\"}};\n\n  function display_loaded() {\n    var el = document.getElementById(\"2494\");\n    if (el != null) {\n      el.textContent = \"BokehJS is loading...\";\n    }\n    if (root.Bokeh !== undefined) {\n      if (el != null) {\n        el.textContent = \"BokehJS \" + root.Bokeh.version + \" successfully loaded.\";\n      }\n    } else if (Date.now() < root._bokeh_timeout) {\n      setTimeout(display_loaded, 100)\n    }\n  }\n\n\n  function run_callbacks() {\n    try {\n      root._bokeh_onload_callbacks.forEach(function(callback) { callback() });\n    }\n    finally {\n      delete root._bokeh_onload_callbacks\n    }\n    console.info(\"Bokeh: all callbacks have finished\");\n  }\n\n  function load_libs(js_urls, callback) {\n    root._bokeh_onload_callbacks.push(callback);\n    if (root._bokeh_is_loading > 0) {\n      console.log(\"Bokeh: BokehJS is being loaded, scheduling callback at\", now());\n      return null;\n    }\n    if (js_urls == null || js_urls.length === 0) {\n      run_callbacks();\n      return null;\n    }\n    console.log(\"Bokeh: BokehJS not loaded, scheduling load and callback at\", now());\n    root._bokeh_is_loading = js_urls.length;\n    for (var i = 0; i < js_urls.length; i++) {\n      var url = js_urls[i];\n      var s = document.createElement('script');\n      s.src = url;\n      s.async = false;\n      s.onreadystatechange = s.onload = function() {\n        root._bokeh_is_loading--;\n        if (root._bokeh_is_loading === 0) {\n          console.log(\"Bokeh: all BokehJS libraries loaded\");\n          run_callbacks()\n        }\n      };\n      s.onerror = function() {\n        console.warn(\"failed to load library \" + url);\n      };\n      console.log(\"Bokeh: injecting script tag for BokehJS library: \", url);\n      document.getElementsByTagName(\"head\")[0].appendChild(s);\n    }\n  };var element = document.getElementById(\"2494\");\n  if (element == null) {\n    console.log(\"Bokeh: ERROR: autoload.js configured with elementid '2494' but no matching script tag was found. \")\n    return false;\n  }\n\n  var js_urls = [\"https://cdn.pydata.org/bokeh/release/bokeh-1.0.4.min.js\", \"https://cdn.pydata.org/bokeh/release/bokeh-widgets-1.0.4.min.js\", \"https://cdn.pydata.org/bokeh/release/bokeh-tables-1.0.4.min.js\", \"https://cdn.pydata.org/bokeh/release/bokeh-gl-1.0.4.min.js\"];\n\n  var inline_js = [\n    function(Bokeh) {\n      Bokeh.set_log_level(\"info\");\n    },\n    \n    function(Bokeh) {\n      \n    },\n    function(Bokeh) {\n      console.log(\"Bokeh: injecting CSS: https://cdn.pydata.org/bokeh/release/bokeh-1.0.4.min.css\");\n      Bokeh.embed.inject_css(\"https://cdn.pydata.org/bokeh/release/bokeh-1.0.4.min.css\");\n      console.log(\"Bokeh: injecting CSS: https://cdn.pydata.org/bokeh/release/bokeh-widgets-1.0.4.min.css\");\n      Bokeh.embed.inject_css(\"https://cdn.pydata.org/bokeh/release/bokeh-widgets-1.0.4.min.css\");\n      console.log(\"Bokeh: injecting CSS: https://cdn.pydata.org/bokeh/release/bokeh-tables-1.0.4.min.css\");\n      Bokeh.embed.inject_css(\"https://cdn.pydata.org/bokeh/release/bokeh-tables-1.0.4.min.css\");\n    }\n  ];\n\n  function run_inline_js() {\n    \n    if ((root.Bokeh !== undefined) || (force === true)) {\n      for (var i = 0; i < inline_js.length; i++) {\n        inline_js[i].call(root, root.Bokeh);\n      }if (force === true) {\n        display_loaded();\n      }} else if (Date.now() < root._bokeh_timeout) {\n      setTimeout(run_inline_js, 100);\n    } else if (!root._bokeh_failed_load) {\n      console.log(\"Bokeh: BokehJS failed to load within specified timeout.\");\n      root._bokeh_failed_load = true;\n    } else if (force !== true) {\n      var cell = $(document.getElementById(\"2494\")).parents('.cell').data().cell;\n      cell.output_area.append_execute_result(NB_LOAD_WARNING)\n    }\n\n  }\n\n  if (root._bokeh_is_loading === 0) {\n    console.log(\"Bokeh: BokehJS loaded, going straight to plotting\");\n    run_inline_js();\n  } else {\n    load_libs(js_urls, function() {\n      console.log(\"Bokeh: BokehJS plotting callback run at\", now());\n      run_inline_js();\n    });\n  }\n}(window));"
     },
     "metadata": {},
     "output_type": "display_data"
    }
   ],
   "source": [
    "bokeh.io.reset_output()\n",
    "bokeh.io.output_notebook()"
   ]
  },
  {
   "cell_type": "code",
   "execution_count": 62,
   "metadata": {},
   "outputs": [
    {
     "data": {
      "text/html": [
       "\n",
       "\n",
       "\n",
       "\n",
       "\n",
       "\n",
       "  <div class=\"bk-root\" id=\"96742707-7767-4e59-b55c-0cafdbb7053d\" data-root-id=\"3120\"></div>\n"
      ]
     },
     "metadata": {},
     "output_type": "display_data"
    },
    {
     "data": {
      "application/javascript": [
       "(function(root) {\n",
       "  function embed_document(root) {\n",
       "    \n",
       "  var docs_json = {\"635f5425-672e-451f-b565-413d5b1dd19f\":{\"roots\":{\"references\":[{\"attributes\":{\"below\":[{\"id\":\"3130\",\"type\":\"DatetimeAxis\"}],\"left\":[{\"id\":\"3135\",\"type\":\"LinearAxis\"}],\"plot_height\":400,\"plot_width\":800,\"renderers\":[{\"id\":\"3130\",\"type\":\"DatetimeAxis\"},{\"id\":\"3134\",\"type\":\"Grid\"},{\"id\":\"3135\",\"type\":\"LinearAxis\"},{\"id\":\"3139\",\"type\":\"Grid\"},{\"id\":\"3148\",\"type\":\"BoxAnnotation\"},{\"id\":\"3158\",\"type\":\"GlyphRenderer\"}],\"title\":{\"id\":\"3119\",\"type\":\"Title\"},\"toolbar\":{\"id\":\"3146\",\"type\":\"Toolbar\"},\"x_range\":{\"id\":\"3122\",\"type\":\"DataRange1d\"},\"x_scale\":{\"id\":\"3126\",\"type\":\"LinearScale\"},\"y_range\":{\"id\":\"3124\",\"type\":\"DataRange1d\"},\"y_scale\":{\"id\":\"3128\",\"type\":\"LinearScale\"}},\"id\":\"3120\",\"subtype\":\"Figure\",\"type\":\"Plot\"},{\"attributes\":{\"overlay\":{\"id\":\"3148\",\"type\":\"BoxAnnotation\"}},\"id\":\"3142\",\"type\":\"BoxZoomTool\"},{\"attributes\":{\"months\":[0,1,2,3,4,5,6,7,8,9,10,11]},\"id\":\"3234\",\"type\":\"MonthsTicker\"},{\"attributes\":{},\"id\":\"3143\",\"type\":\"SaveTool\"},{\"attributes\":{\"months\":[0,2,4,6,8,10]},\"id\":\"3235\",\"type\":\"MonthsTicker\"},{\"attributes\":{},\"id\":\"3144\",\"type\":\"ResetTool\"},{\"attributes\":{\"months\":[0,4,8]},\"id\":\"3236\",\"type\":\"MonthsTicker\"},{\"attributes\":{},\"id\":\"3145\",\"type\":\"HelpTool\"},{\"attributes\":{\"months\":[0,6]},\"id\":\"3237\",\"type\":\"MonthsTicker\"},{\"attributes\":{\"active_drag\":\"auto\",\"active_inspect\":\"auto\",\"active_multi\":null,\"active_scroll\":\"auto\",\"active_tap\":\"auto\",\"tools\":[{\"id\":\"3140\",\"type\":\"PanTool\"},{\"id\":\"3141\",\"type\":\"WheelZoomTool\"},{\"id\":\"3142\",\"type\":\"BoxZoomTool\"},{\"id\":\"3143\",\"type\":\"SaveTool\"},{\"id\":\"3144\",\"type\":\"ResetTool\"},{\"id\":\"3145\",\"type\":\"HelpTool\"}]},\"id\":\"3146\",\"type\":\"Toolbar\"},{\"attributes\":{},\"id\":\"3238\",\"type\":\"YearsTicker\"},{\"attributes\":{},\"id\":\"3239\",\"type\":\"Selection\"},{\"attributes\":{\"bottom_units\":\"screen\",\"fill_alpha\":{\"value\":0.5},\"fill_color\":{\"value\":\"lightgrey\"},\"left_units\":\"screen\",\"level\":\"overlay\",\"line_alpha\":{\"value\":1.0},\"line_color\":{\"value\":\"black\"},\"line_dash\":[4,4],\"line_width\":{\"value\":2},\"plot\":null,\"render_mode\":\"css\",\"right_units\":\"screen\",\"top_units\":\"screen\"},\"id\":\"3148\",\"type\":\"BoxAnnotation\"},{\"attributes\":{\"line_alpha\":0.1,\"line_color\":\"#1f77b4\",\"x\":{\"field\":\"x\"},\"y\":{\"field\":\"y\"}},\"id\":\"3157\",\"type\":\"Line\"},{\"attributes\":{},\"id\":\"3240\",\"type\":\"UnionRenderers\"},{\"attributes\":{\"formatter\":{\"id\":\"3226\",\"type\":\"BasicTickFormatter\"},\"plot\":{\"id\":\"3120\",\"subtype\":\"Figure\",\"type\":\"Plot\"},\"ticker\":{\"id\":\"3136\",\"type\":\"BasicTicker\"}},\"id\":\"3135\",\"type\":\"LinearAxis\"},{\"attributes\":{\"data_source\":{\"id\":\"3155\",\"type\":\"ColumnDataSource\"},\"glyph\":{\"id\":\"3156\",\"type\":\"Line\"},\"hover_glyph\":null,\"muted_glyph\":null,\"nonselection_glyph\":{\"id\":\"3157\",\"type\":\"Line\"},\"selection_glyph\":null,\"view\":{\"id\":\"3159\",\"type\":\"CDSView\"}},\"id\":\"3158\",\"type\":\"GlyphRenderer\"},{\"attributes\":{\"source\":{\"id\":\"3155\",\"type\":\"ColumnDataSource\"}},\"id\":\"3159\",\"type\":\"CDSView\"},{\"attributes\":{},\"id\":\"3141\",\"type\":\"WheelZoomTool\"},{\"attributes\":{\"callback\":null},\"id\":\"3124\",\"type\":\"DataRange1d\"},{\"attributes\":{\"formatter\":{\"id\":\"3224\",\"type\":\"DatetimeTickFormatter\"},\"plot\":{\"id\":\"3120\",\"subtype\":\"Figure\",\"type\":\"Plot\"},\"ticker\":{\"id\":\"3131\",\"type\":\"DatetimeTicker\"}},\"id\":\"3130\",\"type\":\"DatetimeAxis\"},{\"attributes\":{},\"id\":\"3128\",\"type\":\"LinearScale\"},{\"attributes\":{},\"id\":\"3126\",\"type\":\"LinearScale\"},{\"attributes\":{\"line_color\":\"#1f77b4\",\"x\":{\"field\":\"x\"},\"y\":{\"field\":\"y\"}},\"id\":\"3156\",\"type\":\"Line\"},{\"attributes\":{},\"id\":\"3226\",\"type\":\"BasicTickFormatter\"},{\"attributes\":{\"plot\":{\"id\":\"3120\",\"subtype\":\"Figure\",\"type\":\"Plot\"},\"ticker\":{\"id\":\"3131\",\"type\":\"DatetimeTicker\"}},\"id\":\"3134\",\"type\":\"Grid\"},{\"attributes\":{},\"id\":\"3224\",\"type\":\"DatetimeTickFormatter\"},{\"attributes\":{\"mantissas\":[1,2,5],\"max_interval\":500.0,\"num_minor_ticks\":0},\"id\":\"3227\",\"type\":\"AdaptiveTicker\"},{\"attributes\":{\"num_minor_ticks\":5,\"tickers\":[{\"id\":\"3227\",\"type\":\"AdaptiveTicker\"},{\"id\":\"3228\",\"type\":\"AdaptiveTicker\"},{\"id\":\"3229\",\"type\":\"AdaptiveTicker\"},{\"id\":\"3230\",\"type\":\"DaysTicker\"},{\"id\":\"3231\",\"type\":\"DaysTicker\"},{\"id\":\"3232\",\"type\":\"DaysTicker\"},{\"id\":\"3233\",\"type\":\"DaysTicker\"},{\"id\":\"3234\",\"type\":\"MonthsTicker\"},{\"id\":\"3235\",\"type\":\"MonthsTicker\"},{\"id\":\"3236\",\"type\":\"MonthsTicker\"},{\"id\":\"3237\",\"type\":\"MonthsTicker\"},{\"id\":\"3238\",\"type\":\"YearsTicker\"}]},\"id\":\"3131\",\"type\":\"DatetimeTicker\"},{\"attributes\":{},\"id\":\"3140\",\"type\":\"PanTool\"},{\"attributes\":{\"base\":60,\"mantissas\":[1,2,5,10,15,20,30],\"max_interval\":1800000.0,\"min_interval\":1000.0,\"num_minor_ticks\":0},\"id\":\"3228\",\"type\":\"AdaptiveTicker\"},{\"attributes\":{},\"id\":\"3136\",\"type\":\"BasicTicker\"},{\"attributes\":{\"base\":24,\"mantissas\":[1,2,4,6,8,12],\"max_interval\":43200000.0,\"min_interval\":3600000.0,\"num_minor_ticks\":0},\"id\":\"3229\",\"type\":\"AdaptiveTicker\"},{\"attributes\":{\"days\":[1,2,3,4,5,6,7,8,9,10,11,12,13,14,15,16,17,18,19,20,21,22,23,24,25,26,27,28,29,30,31]},\"id\":\"3230\",\"type\":\"DaysTicker\"},{\"attributes\":{\"dimension\":1,\"plot\":{\"id\":\"3120\",\"subtype\":\"Figure\",\"type\":\"Plot\"},\"ticker\":{\"id\":\"3136\",\"type\":\"BasicTicker\"}},\"id\":\"3139\",\"type\":\"Grid\"},{\"attributes\":{\"days\":[1,4,7,10,13,16,19,22,25,28]},\"id\":\"3231\",\"type\":\"DaysTicker\"},{\"attributes\":{\"callback\":null},\"id\":\"3122\",\"type\":\"DataRange1d\"},{\"attributes\":{\"days\":[1,8,15,22]},\"id\":\"3232\",\"type\":\"DaysTicker\"},{\"attributes\":{\"plot\":null,\"text\":\"Z\"},\"id\":\"3119\",\"type\":\"Title\"},{\"attributes\":{\"callback\":null,\"data\":{\"x\":{\"__ndarray__\":\"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\",\"dtype\":\"float64\",\"shape\":[1800]},\"y\":{\"__ndarray__\":\"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\",\"dtype\":\"float64\",\"shape\":[1800]}},\"selected\":{\"id\":\"3239\",\"type\":\"Selection\"},\"selection_policy\":{\"id\":\"3240\",\"type\":\"UnionRenderers\"}},\"id\":\"3155\",\"type\":\"ColumnDataSource\"},{\"attributes\":{\"days\":[1,15]},\"id\":\"3233\",\"type\":\"DaysTicker\"}],\"root_ids\":[\"3120\"]},\"title\":\"Bokeh Application\",\"version\":\"1.0.4\"}};\n",
       "  var render_items = [{\"docid\":\"635f5425-672e-451f-b565-413d5b1dd19f\",\"roots\":{\"3120\":\"96742707-7767-4e59-b55c-0cafdbb7053d\"}}];\n",
       "  root.Bokeh.embed.embed_items_notebook(docs_json, render_items);\n",
       "\n",
       "  }\n",
       "  if (root.Bokeh !== undefined) {\n",
       "    embed_document(root);\n",
       "  } else {\n",
       "    var attempts = 0;\n",
       "    var timer = setInterval(function(root) {\n",
       "      if (root.Bokeh !== undefined) {\n",
       "        embed_document(root);\n",
       "        clearInterval(timer);\n",
       "      }\n",
       "      attempts++;\n",
       "      if (attempts > 100) {\n",
       "        console.log(\"Bokeh: ERROR: Unable to run BokehJS code because BokehJS library is missing\");\n",
       "        clearInterval(timer);\n",
       "      }\n",
       "    }, 10, root)\n",
       "  }\n",
       "})(window);"
      ],
      "application/vnd.bokehjs_exec.v0+json": ""
     },
     "metadata": {
      "application/vnd.bokehjs_exec.v0+json": {
       "id": "3120"
      }
     },
     "output_type": "display_data"
    }
   ],
   "source": [
    "p = figure(x_axis_type=\"datetime\", plot_width=800, plot_height=400, title=\"Z\")\n",
    "p.line(sample.index, sample['kPa Potential'])\n",
    "show(p)"
   ]
  },
  {
   "cell_type": "code",
   "execution_count": 19,
   "metadata": {},
   "outputs": [],
   "source": []
  },
  {
   "cell_type": "code",
   "execution_count": 22,
   "metadata": {},
   "outputs": [
    {
     "data": {
      "text/plain": [
       "array(['sainfoin bench', 'baldy draw', 'baldy summit', 'indian ridge',\n",
       "       'south baldy ridge', 'orchard house'], dtype=object)"
      ]
     },
     "execution_count": 22,
     "metadata": {},
     "output_type": "execute_result"
    }
   ],
   "source": [
    "df.station.unique()"
   ]
  },
  {
   "cell_type": "code",
   "execution_count": 48,
   "metadata": {},
   "outputs": [
    {
     "data": {
      "text/plain": [
       "['sainfoin bench',\n",
       " 'baldy draw',\n",
       " 'baldy summit',\n",
       " 'indian ridge',\n",
       " 'south baldy ridge',\n",
       " 'orchard house']"
      ]
     },
     "execution_count": 48,
     "metadata": {},
     "output_type": "execute_result"
    }
   ],
   "source": [
    "df.station.unique().tolist()"
   ]
  },
  {
   "cell_type": "code",
   "execution_count": 86,
   "metadata": {},
   "outputs": [
    {
     "data": {
      "text/plain": [
       "[<matplotlib.lines.Line2D at 0x114ecdf98>]"
      ]
     },
     "execution_count": 86,
     "metadata": {},
     "output_type": "execute_result"
    },
    {
     "data": {
      "image/png": "[encoded data removed]",
      "text/plain": [
       "<Figure size 432x288 with 1 Axes>"
      ]
     },
     "metadata": {
      "needs_background": "light"
     },
     "output_type": "display_data"
    }
   ],
   "source": [
    "plt.plot(df[(df['depth (in)'] == 6) & (df.station == 'sainfoin bench')]\\\n",
    "    .groupby(pd.Grouper(freq='D'))\\\n",
    "    .mean()['°C Temp'])"
   ]
  }
 ],
 "metadata": {
  "accelerator": "GPU",
  "colab": {
   "name": "soil moisture EDA.ipynb",
   "provenance": [],
   "version": "0.3.2"
  },
  "kernelspec": {
   "display_name": "Python 3",
   "language": "python",
   "name": "python3"
  },
  "language_info": {
   "codemirror_mode": {
    "name": "ipython",
    "version": 3
   },
   "file_extension": ".py",
   "mimetype": "text/x-python",
   "name": "python",
   "nbconvert_exporter": "python",
   "pygments_lexer": "ipython3",
   "version": "3.7.3"
  }
 },
 "nbformat": 4,
 "nbformat_minor": 1
}
