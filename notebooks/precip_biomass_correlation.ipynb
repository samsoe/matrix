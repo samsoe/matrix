{
  "nbformat": 4,
  "nbformat_minor": 0,
  "metadata": {
    "colab": {
      "name": "precip_biomass_correlation.ipynb",
      "version": "0.3.2",
      "provenance": [],
      "collapsed_sections": [],
      "include_colab_link": true
    },
    "language_info": {
      "codemirror_mode": "r",
      "file_extension": ".r",
      "mimetype": "text/x-r-source",
      "name": "R",
      "pygments_lexer": "r",
      "version": "3.3.1"
    },
    "kernelspec": {
      "display_name": "R",
      "language": "R",
      "name": "ir"
    },
    "accelerator": "GPU"
  },
  "cells": [
    {
      "cell_type": "markdown",
      "metadata": {
        "id": "view-in-github",
        "colab_type": "text"
      },
      "source": [
        "<a href=\"https://colab.research.google.com/github/samsoe/matrix/blob/master/notebooks/precip_biomass_correlation.ipynb\" target=\"_parent\"><img src=\"https://colab.research.google.com/assets/colab-badge.svg\" alt=\"Open In Colab\"/></a>"
      ]
    },
    {
      "cell_type": "markdown",
      "metadata": {
        "id": "BhOI1uU2Koum",
        "colab_type": "text"
      },
      "source": [
        "# Links"
      ]
    },
    {
      "cell_type": "markdown",
      "metadata": {
        "id": "LGpwp6Q1N5wr",
        "colab_type": "text"
      },
      "source": [
        "## Documentation\n",
        "  * [Precipitation](https://docs.google.com/document/d/1mt-xiSmcJPR3_txNfsalTUlFv9xZrKPLGUAHW0mVqk0/edit)\n",
        "    * Source: [MPG Ranch Weather Stations - Precipitation - Hourly_Archive.csv](https://drive.google.com/uc?id=1txnEIULLs1HSIGPLo6RlAgjvuCSdh2ZB)\n",
        "  * [Vegetation Biomass](https://docs.google.com/document/d/1DIsO1yvobDKynRgoSvQ22HI4f8XYy5TPipa2vokGydQ/edit)\n",
        "    * Source: [MPG_vegetation_biomass-2010_2018.csv](https://drive.google.com/uc?id=1gzpnX019uG9YoS4ZQOQEyf4OTuLPIHgT)"
      ]
    },
    {
      "cell_type": "markdown",
      "metadata": {
        "id": "pnUMlXy5DpGm",
        "colab_type": "text"
      },
      "source": [
        "# Load"
      ]
    },
    {
      "cell_type": "markdown",
      "metadata": {
        "id": "7-npLnxWKBgb",
        "colab_type": "text"
      },
      "source": [
        "## Libraries"
      ]
    },
    {
      "cell_type": "code",
      "metadata": {
        "id": "hVNEoEiZFV9t",
        "colab_type": "code",
        "outputId": "f7da75a0-a906-4e01-9dca-c9270cc66dc6",
        "colab": {
          "base_uri": "https://localhost:8080/",
          "height": 51
        }
      },
      "source": [
        "# for time series\n",
        "install.packages(\"xts\", repos=\"http://cloud.r-project.org\")\n",
        "library(xts)"
      ],
      "execution_count": 0,
      "outputs": [
        {
          "output_type": "stream",
          "text": [
            "Installing package into ‘/usr/local/lib/R/site-library’\n",
            "(as ‘lib’ is unspecified)\n"
          ],
          "name": "stderr"
        }
      ]
    },
    {
      "cell_type": "code",
      "metadata": {
        "id": "c3TXx4f3NuGE",
        "colab_type": "code",
        "colab": {}
      },
      "source": [
        "# pliers for R\n",
        "library(dplyr)"
      ],
      "execution_count": 0,
      "outputs": []
    },
    {
      "cell_type": "code",
      "metadata": {
        "id": "oaaAnra_RpmS",
        "colab_type": "code",
        "colab": {}
      },
      "source": [
        "# set strings as factors to false\n",
        "options(stringsAsFactors = FALSE)"
      ],
      "execution_count": 0,
      "outputs": []
    },
    {
      "cell_type": "code",
      "metadata": {
        "id": "KVKtkGusSowG",
        "colab_type": "code",
        "colab": {}
      },
      "source": [
        "library(tidyverse)"
      ],
      "execution_count": 0,
      "outputs": []
    },
    {
      "cell_type": "markdown",
      "metadata": {
        "id": "A4b9yt62KGag",
        "colab_type": "text"
      },
      "source": [
        "## Source Data"
      ]
    },
    {
      "cell_type": "markdown",
      "metadata": {
        "id": "EV9slJKiKJp8",
        "colab_type": "text"
      },
      "source": [
        "### Precip"
      ]
    },
    {
      "cell_type": "code",
      "metadata": {
        "id": "ysupTgvaDqe4",
        "colab_type": "code",
        "colab": {}
      },
      "source": [
        "# precip\n",
        "precip_src <- 'https://drive.google.com/uc?id=1txnEIULLs1HSIGPLo6RlAgjvuCSdh2ZB'\n",
        "dat_p <- read.csv(precip_src)"
      ],
      "execution_count": 0,
      "outputs": []
    },
    {
      "cell_type": "code",
      "metadata": {
        "id": "8Tnw_EhnH9AM",
        "colab_type": "code",
        "outputId": "73ec0e39-db49-4931-f189-b12e78492602",
        "colab": {
          "base_uri": "https://localhost:8080/",
          "height": 173
        }
      },
      "source": [
        "str(dat_p)"
      ],
      "execution_count": 0,
      "outputs": [
        {
          "output_type": "stream",
          "text": [
            "'data.frame':\t200790 obs. of  7 variables:\n",
            " $ Date.Time                  : chr  \"2012-06-19 16:00:00\" \"2012-06-19 16:05:00\" \"2012-06-19 16:10:00\" \"2012-06-19 16:15:00\" ...\n",
            " $ Baldy.Summit.Rain..in.     : num  0 0 0 0 0 0 0 0 0 0 ...\n",
            " $ Baldy.Draw.Rain..in.       : num  0 0 0 0 0 0 0 0 0 0 ...\n",
            " $ Sanfoin.Bench.Rain..in.    : num  0 0 0 0 0 0 0 0 0 0 ...\n",
            " $ South.Baldy.Ridge.Rain..in.: num  0 0 0 0 0 0 0 0 0 0 ...\n",
            " $ Orchard.House.Rain..in.    : num  0 0 0 0 0 0 0 0 0 0 ...\n",
            " $ Indian.Ridge.Rain..in.     : num  NA NA NA NA NA NA NA NA NA NA ...\n"
          ],
          "name": "stdout"
        }
      ]
    },
    {
      "cell_type": "code",
      "metadata": {
        "id": "lnQLPV6cElCG",
        "colab_type": "code",
        "outputId": "dd3a974d-9d81-45fc-a49a-a0556e31b2fb",
        "colab": {
          "base_uri": "https://localhost:8080/",
          "height": 425
        }
      },
      "source": [
        "summary(dat_p)"
      ],
      "execution_count": 0,
      "outputs": [
        {
          "output_type": "display_data",
          "data": {
            "text/plain": [
              "  Date.Time         Baldy.Summit.Rain..in. Baldy.Draw.Rain..in.\n",
              " Length:200790      Min.   :0.0000000      Min.   :0.0000000   \n",
              " Class :character   1st Qu.:0.0000000      1st Qu.:0.0000000   \n",
              " Mode  :character   Median :0.0000000      Median :0.0000000   \n",
              "                    Mean   :0.0003204      Mean   :0.0003992   \n",
              "                    3rd Qu.:0.0000000      3rd Qu.:0.0000000   \n",
              "                    Max.   :0.4700000      Max.   :0.4100000   \n",
              "                                                               \n",
              " Sanfoin.Bench.Rain..in. South.Baldy.Ridge.Rain..in. Orchard.House.Rain..in.\n",
              " Min.   :0.0000000       Min.   :0.0000000           Min.   :0.0000000      \n",
              " 1st Qu.:0.0000000       1st Qu.:0.0000000           1st Qu.:0.0000000      \n",
              " Median :0.0000000       Median :0.0000000           Median :0.0000000      \n",
              " Mean   :0.0003603       Mean   :0.0003559           Mean   :0.0003969      \n",
              " 3rd Qu.:0.0000000       3rd Qu.:0.0000000           3rd Qu.:0.0000000      \n",
              " Max.   :0.2500000       Max.   :0.5800000           Max.   :0.2400000      \n",
              "                                                                            \n",
              " Indian.Ridge.Rain..in.\n",
              " Min.   :0.0000        \n",
              " 1st Qu.:0.0000        \n",
              " Median :0.0000        \n",
              " Mean   :0.0003        \n",
              " 3rd Qu.:0.0000        \n",
              " Max.   :0.4800        \n",
              " NA's   :2305          "
            ]
          },
          "metadata": {
            "tags": []
          }
        }
      ]
    },
    {
      "cell_type": "markdown",
      "metadata": {
        "id": "t3F4KlfBKNO3",
        "colab_type": "text"
      },
      "source": [
        "### Biomass"
      ]
    },
    {
      "cell_type": "code",
      "metadata": {
        "id": "NWFQPCr2D0xP",
        "colab_type": "code",
        "colab": {}
      },
      "source": [
        "biomass_src <- 'https://drive.google.com/uc?id=1gzpnX019uG9YoS4ZQOQEyf4OTuLPIHgT'\n",
        "dat_b <- read.csv(biomass_src)"
      ],
      "execution_count": 0,
      "outputs": []
    },
    {
      "cell_type": "code",
      "metadata": {
        "id": "P7ZRithzEne6",
        "colab_type": "code",
        "outputId": "34953329-38bd-4348-81f8-dc28f0d4912b",
        "colab": {
          "base_uri": "https://localhost:8080/",
          "height": 289
        }
      },
      "source": [
        "summary(dat_b)"
      ],
      "execution_count": 0,
      "outputs": [
        {
          "output_type": "display_data",
          "data": {
            "text/plain": [
              "     gridpt           year         season             type     \n",
              " Min.   :  2.0   Min.   :2010   fall  :2081   Active    : 464  \n",
              " 1st Qu.: 82.0   1st Qu.:2012   spring:1872   Degraded  :1067  \n",
              " Median :191.0   Median :2013                 Draw weedy:  69  \n",
              " Mean   :198.7   Mean   :2013                 Forest    :  88  \n",
              " 3rd Qu.:300.0   3rd Qu.:2015                 irrigation: 226  \n",
              " Max.   :574.0   Max.   :2018                 Range     :1910  \n",
              "                                              Riparian  : 129  \n",
              "  pt_avg_grams         lat             long     \n",
              " Min.   : 0.000   Min.   :46.67   Min.   :-114  \n",
              " 1st Qu.: 2.141   1st Qu.:46.68   1st Qu.:-114  \n",
              " Median : 4.997   Median :46.70   Median :-114  \n",
              " Mean   : 7.262   Mean   :46.70   Mean   :-114  \n",
              " 3rd Qu.: 9.854   3rd Qu.:46.71   3rd Qu.:-114  \n",
              " Max.   :87.185   Max.   :46.73   Max.   :-114  \n",
              " NA's   :1975                                   "
            ]
          },
          "metadata": {
            "tags": []
          }
        }
      ]
    },
    {
      "cell_type": "code",
      "metadata": {
        "id": "gw6sEKAHF4K0",
        "colab_type": "code",
        "outputId": "419e478f-9829-4239-e3c6-a5db813f7421",
        "colab": {
          "base_uri": "https://localhost:8080/",
          "height": 120
        }
      },
      "source": [
        "tail(dat_b, 2)"
      ],
      "execution_count": 0,
      "outputs": [
        {
          "output_type": "display_data",
          "data": {
            "text/plain": [
              "     gridpt year season type  pt_avg_grams lat      long     \n",
              "3952 574    2011 spring Range NA           46.69435 -114.0075\n",
              "3953 574    2010 fall   Range NA           46.69435 -114.0075"
            ],
            "text/latex": "A data.frame: 2 × 7\n\\begin{tabular}{r|lllllll}\n  & gridpt & year & season & type & pt\\_avg\\_grams & lat & long\\\\\n  & <int> & <int> & <fct> & <fct> & <dbl> & <dbl> & <dbl>\\\\\n\\hline\n\t3952 & 574 & 2011 & spring & Range & NA & 46.69435 & -114.0075\\\\\n\t3953 & 574 & 2010 & fall   & Range & NA & 46.69435 & -114.0075\\\\\n\\end{tabular}\n",
            "text/markdown": "\nA data.frame: 2 × 7\n\n| <!--/--> | gridpt &lt;int&gt; | year &lt;int&gt; | season &lt;fct&gt; | type &lt;fct&gt; | pt_avg_grams &lt;dbl&gt; | lat &lt;dbl&gt; | long &lt;dbl&gt; |\n|---|---|---|---|---|---|---|---|\n| 3952 | 574 | 2011 | spring | Range | NA | 46.69435 | -114.0075 |\n| 3953 | 574 | 2010 | fall   | Range | NA | 46.69435 | -114.0075 |\n\n",
            "text/html": [
              "<table>\n",
              "<caption>A data.frame: 2 × 7</caption>\n",
              "<thead>\n",
              "\t<tr><th></th><th scope=col>gridpt</th><th scope=col>year</th><th scope=col>season</th><th scope=col>type</th><th scope=col>pt_avg_grams</th><th scope=col>lat</th><th scope=col>long</th></tr>\n",
              "\t<tr><th></th><th scope=col>&lt;int&gt;</th><th scope=col>&lt;int&gt;</th><th scope=col>&lt;fct&gt;</th><th scope=col>&lt;fct&gt;</th><th scope=col>&lt;dbl&gt;</th><th scope=col>&lt;dbl&gt;</th><th scope=col>&lt;dbl&gt;</th></tr>\n",
              "</thead>\n",
              "<tbody>\n",
              "\t<tr><th scope=row>3952</th><td>574</td><td>2011</td><td>spring</td><td>Range</td><td>NA</td><td>46.69435</td><td>-114.0075</td></tr>\n",
              "\t<tr><th scope=row>3953</th><td>574</td><td>2010</td><td>fall  </td><td>Range</td><td>NA</td><td>46.69435</td><td>-114.0075</td></tr>\n",
              "</tbody>\n",
              "</table>\n"
            ]
          },
          "metadata": {
            "tags": []
          }
        }
      ]
    },
    {
      "cell_type": "markdown",
      "metadata": {
        "id": "RIHX7yD5DubM",
        "colab_type": "text"
      },
      "source": [
        "# Transform"
      ]
    },
    {
      "cell_type": "markdown",
      "metadata": {
        "id": "tJj12E8CJWQZ",
        "colab_type": "text"
      },
      "source": [
        "## Group and Sum\n",
        "  * by stations and from multiple selections per day to daily"
      ]
    },
    {
      "cell_type": "markdown",
      "metadata": {
        "id": "AUzIyVw0Ji8E",
        "colab_type": "text"
      },
      "source": [
        "### Precip"
      ]
    },
    {
      "cell_type": "code",
      "metadata": {
        "id": "V9TNRVk5Dvw2",
        "colab_type": "code",
        "colab": {}
      },
      "source": [
        "# make dataframe aware of datetime object\n",
        "dat_p$Date.Time <- as.POSIXct(dat_p$Date.Time, format = \"%Y-%m-%d %H:%M:%S\")"
      ],
      "execution_count": 0,
      "outputs": []
    },
    {
      "cell_type": "code",
      "metadata": {
        "id": "L9RuuPgwOBfc",
        "colab_type": "code",
        "colab": {}
      },
      "source": [
        "# average all station columns together in existing time series format\n",
        "stations_ave_halfhour <- mutate(dat_p, mpg_stations_ave = rowMeans(select(dat_p, ends_with(\"..in.\")), na.rm = TRUE))"
      ],
      "execution_count": 0,
      "outputs": []
    },
    {
      "cell_type": "code",
      "metadata": {
        "id": "BV0ajki9lwXs",
        "colab_type": "code",
        "outputId": "3b029ba4-aaad-4276-f019-2dfa5b1cc114",
        "colab": {
          "base_uri": "https://localhost:8080/",
          "height": 425
        }
      },
      "source": [
        "summary(stations_ave_halfhour)"
      ],
      "execution_count": 0,
      "outputs": [
        {
          "output_type": "display_data",
          "data": {
            "text/plain": [
              "   Date.Time                   Baldy.Summit.Rain..in. Baldy.Draw.Rain..in.\n",
              " Min.   :2012-06-19 16:00:00   Min.   :0.0000000      Min.   :0.0000000   \n",
              " 1st Qu.:2012-12-15 10:31:15   1st Qu.:0.0000000      1st Qu.:0.0000000   \n",
              " Median :2013-09-13 21:57:30   Median :0.0000000      Median :0.0000000   \n",
              " Mean   :2014-10-02 12:39:23   Mean   :0.0003204      Mean   :0.0003992   \n",
              " 3rd Qu.:2016-06-09 22:22:30   3rd Qu.:0.0000000      3rd Qu.:0.0000000   \n",
              " Max.   :2019-04-21 17:00:00   Max.   :0.4700000      Max.   :0.4100000   \n",
              "                                                                          \n",
              " Sanfoin.Bench.Rain..in. South.Baldy.Ridge.Rain..in. Orchard.House.Rain..in.\n",
              " Min.   :0.0000000       Min.   :0.0000000           Min.   :0.0000000      \n",
              " 1st Qu.:0.0000000       1st Qu.:0.0000000           1st Qu.:0.0000000      \n",
              " Median :0.0000000       Median :0.0000000           Median :0.0000000      \n",
              " Mean   :0.0003603       Mean   :0.0003559           Mean   :0.0003969      \n",
              " 3rd Qu.:0.0000000       3rd Qu.:0.0000000           3rd Qu.:0.0000000      \n",
              " Max.   :0.2500000       Max.   :0.5800000           Max.   :0.2400000      \n",
              "                                                                            \n",
              " Indian.Ridge.Rain..in. mpg_stations_ave   \n",
              " Min.   :0.0000         Min.   :0.0000000  \n",
              " 1st Qu.:0.0000         1st Qu.:0.0000000  \n",
              " Median :0.0000         Median :0.0000000  \n",
              " Mean   :0.0003         Mean   :0.0003536  \n",
              " 3rd Qu.:0.0000         3rd Qu.:0.0000000  \n",
              " Max.   :0.4800         Max.   :0.1833333  \n",
              " NA's   :2305                              "
            ]
          },
          "metadata": {
            "tags": []
          }
        }
      ]
    },
    {
      "cell_type": "code",
      "metadata": {
        "id": "2wZJcQpeO2B7",
        "colab_type": "code",
        "outputId": "8f197c69-cdd8-4c82-9776-8083e8443ea7",
        "colab": {
          "base_uri": "https://localhost:8080/",
          "height": 857
        }
      },
      "source": [
        "# Baldy Summit, Baldy Draw, Sanfoin Bench, Baldy Ridge, Orchard House, Indian Ridge\n",
        "plot(x = stations_ave_halfhour$Date.Time, y = stations_ave_halfhour$mpg_stations_ave, type = \"l\"\n",
        "    , xlab=\"Precipitation by Half Hour\", ylab=\"Precipitation (in)\")\n",
        "title(main=\"Averaged MPG Stations (every half hour)\")"
      ],
      "execution_count": 0,
      "outputs": [
        {
          "output_type": "display_data",
          "data": {
            "image/png": "[encoded data removed]",
            "text/plain": [
              "Plot with title “Averaged MPG Stations (every half hour)”"
            ]
          },
          "metadata": {
            "tags": []
          }
        }
      ]
    },
    {
      "cell_type": "code",
      "metadata": {
        "id": "sT30ErkyWxdk",
        "colab_type": "code",
        "colab": {}
      },
      "source": [
        "# group and sum each day\n",
        "p_daily <- dat_p %>%\n",
        "  mutate(day = as.Date(Date.Time, format = \"%Y-%M-%d\")) %>%\n",
        "  group_by(day) %>%\n",
        "  summarise_at(c(\"Baldy.Summit.Rain..in.\", \"Baldy.Draw.Rain..in.\", \n",
        "                 \"Sanfoin.Bench.Rain..in.\", \"South.Baldy.Ridge.Rain..in.\", \n",
        "                 \"Orchard.House.Rain..in.\", \"Indian.Ridge.Rain..in.\"), sum, na.rm=TRUE) %>%\n",
        "  na.omit()"
      ],
      "execution_count": 0,
      "outputs": []
    },
    {
      "cell_type": "code",
      "metadata": {
        "id": "lT6RokV1CXqa",
        "colab_type": "code",
        "outputId": "3471a0b0-a718-4ab7-b724-eeeed31a62fb",
        "colab": {
          "base_uri": "https://localhost:8080/",
          "height": 232
        }
      },
      "source": [
        "head(filter(p_daily$day == \"2013\"))"
      ],
      "execution_count": 0,
      "outputs": [
        {
          "output_type": "error",
          "ename": "ERROR",
          "evalue": "ignored",
          "traceback": [
            "Error in charToDate(x): character string is not in a standard unambiguous format\nTraceback:\n",
            "1. head(filter(p_daily$day == \"2013\"))",
            "2. filter(p_daily$day == \"2013\")",
            "3. `==.Date`(p_daily$day, \"2013\")",
            "4. as.Date(e2)",
            "5. as.Date.character(e2)",
            "6. charToDate(x)",
            "7. stop(\"character string is not in a standard unambiguous format\")"
          ]
        }
      ]
    },
    {
      "cell_type": "code",
      "metadata": {
        "colab_type": "code",
        "outputId": "7d99a259-96cd-4c01-b5b0-5b0325ce047d",
        "id": "i-JE_6AfjvTM",
        "colab": {
          "base_uri": "https://localhost:8080/",
          "height": 374
        }
      },
      "source": [
        "summary(p_daily)"
      ],
      "execution_count": 0,
      "outputs": [
        {
          "output_type": "display_data",
          "data": {
            "text/plain": [
              "      day             Baldy.Summit.Rain..in. Baldy.Draw.Rain..in.\n",
              " Min.   :2012-06-19   Min.   :0.00000        Min.   :0.00000     \n",
              " 1st Qu.:2014-05-18   1st Qu.:0.00000        1st Qu.:0.00000     \n",
              " Median :2016-01-08   Median :0.00000        Median :0.00000     \n",
              " Mean   :2015-12-30   Mean   :0.02682        Mean   :0.03341     \n",
              " 3rd Qu.:2017-08-29   3rd Qu.:0.01000        3rd Qu.:0.01000     \n",
              " Max.   :2019-04-21   Max.   :1.02000        Max.   :1.24000     \n",
              " Sanfoin.Bench.Rain..in. South.Baldy.Ridge.Rain..in. Orchard.House.Rain..in.\n",
              " Min.   :0.00000         Min.   :0.00000             Min.   :0.00000        \n",
              " 1st Qu.:0.00000         1st Qu.:0.00000             1st Qu.:0.00000        \n",
              " Median :0.00000         Median :0.00000             Median :0.00000        \n",
              " Mean   :0.03015         Mean   :0.02979             Mean   :0.03322        \n",
              " 3rd Qu.:0.01000         3rd Qu.:0.01000             3rd Qu.:0.02000        \n",
              " Max.   :1.12000         Max.   :1.20000             Max.   :1.16000        \n",
              " Indian.Ridge.Rain..in.\n",
              " Min.   :0.00000       \n",
              " 1st Qu.:0.00000       \n",
              " Median :0.00000       \n",
              " Mean   :0.02411       \n",
              " 3rd Qu.:0.01000       \n",
              " Max.   :1.07000       "
            ]
          },
          "metadata": {
            "tags": []
          }
        }
      ]
    },
    {
      "cell_type": "code",
      "metadata": {
        "id": "RrXNvCMGWxqX",
        "colab_type": "code",
        "colab": {}
      },
      "source": [
        "p_daily_long <- gather(p_daily, station, value, -day)"
      ],
      "execution_count": 0,
      "outputs": []
    },
    {
      "cell_type": "code",
      "metadata": {
        "id": "47xyoiG7aMsY",
        "colab_type": "code",
        "outputId": "ea5d3292-d8c3-433d-f3c5-1dd2abb3174c",
        "colab": {
          "base_uri": "https://localhost:8080/",
          "height": 136
        }
      },
      "source": [
        "summary(p_daily_long)"
      ],
      "execution_count": 0,
      "outputs": [
        {
          "output_type": "display_data",
          "data": {
            "text/plain": [
              "      day               station              value        \n",
              " Min.   :2012-06-19   Length:14394       Min.   :0.00000  \n",
              " 1st Qu.:2014-05-18   Class :character   1st Qu.:0.00000  \n",
              " Median :2016-01-08   Mode  :character   Median :0.00000  \n",
              " Mean   :2015-12-30                      Mean   :0.02959  \n",
              " 3rd Qu.:2017-08-30                      3rd Qu.:0.01000  \n",
              " Max.   :2019-04-21                      Max.   :1.24000  "
            ]
          },
          "metadata": {
            "tags": []
          }
        }
      ]
    },
    {
      "cell_type": "code",
      "metadata": {
        "id": "JicUUMGnSXHv",
        "colab_type": "code",
        "outputId": "1e0cc303-4e68-47d7-d9dd-62831f52774a",
        "colab": {
          "base_uri": "https://localhost:8080/",
          "height": 857
        }
      },
      "source": [
        "p_daily_long %>%\n",
        "  na.omit() %>%\n",
        "ggplot(aes(x = day, y = value)) +\n",
        "  geom_line(color = \"skyblue2\") +\n",
        "  facet_wrap( ~ station ) +\n",
        "  labs(title = \"Precipitation - MPG Ranch\",\n",
        "      subtitle = \"Facets represent stations\",\n",
        "      y = \"Precipitation (inches)\",\n",
        "      x = \"Date\") + \n",
        "  scale_x_date(date_breaks = \"years\") +\n",
        "  theme(axis.text.x = element_text(angle = 45, hjust = 1))"
      ],
      "execution_count": 0,
      "outputs": [
        {
          "output_type": "display_data",
          "data": {
            "image/png": "[encoded data removed]",
            "text/plain": [
              "plot without title"
            ]
          },
          "metadata": {
            "tags": []
          }
        }
      ]
    },
    {
      "cell_type": "code",
      "metadata": {
        "id": "xiZKEz4iSXLC",
        "colab_type": "code",
        "colab": {}
      },
      "source": [
        "# group and sum each day\n",
        "p_monthly <- dat_p %>%\n",
        "  mutate(month = as.Date(Date.Time, format = \"%Y-%M\")) %>%\n",
        "  group_by(month) %>%\n",
        "  summarise_at(c(\"Baldy.Summit.Rain..in.\", \"Baldy.Draw.Rain..in.\", \n",
        "                 \"Sanfoin.Bench.Rain..in.\", \"South.Baldy.Ridge.Rain..in.\", \n",
        "                 \"Orchard.House.Rain..in.\", \"Indian.Ridge.Rain..in.\"), sum, na.rm=TRUE) %>%\n",
        "  na.omit()"
      ],
      "execution_count": 0,
      "outputs": []
    },
    {
      "cell_type": "code",
      "metadata": {
        "id": "-j34u4e2SXOZ",
        "colab_type": "code",
        "outputId": "a9ec5a44-5925-4d98-8cf3-2571523498d2",
        "colab": {
          "base_uri": "https://localhost:8080/",
          "height": 374
        }
      },
      "source": [
        "summary(p_monthly)"
      ],
      "execution_count": 0,
      "outputs": [
        {
          "output_type": "display_data",
          "data": {
            "text/plain": [
              "     month            Baldy.Summit.Rain..in. Baldy.Draw.Rain..in.\n",
              " Min.   :2012-06-19   Min.   :0.00000        Min.   :0.00000     \n",
              " 1st Qu.:2014-05-18   1st Qu.:0.00000        1st Qu.:0.00000     \n",
              " Median :2016-01-08   Median :0.00000        Median :0.00000     \n",
              " Mean   :2015-12-30   Mean   :0.02682        Mean   :0.03341     \n",
              " 3rd Qu.:2017-08-29   3rd Qu.:0.01000        3rd Qu.:0.01000     \n",
              " Max.   :2019-04-21   Max.   :1.02000        Max.   :1.24000     \n",
              " Sanfoin.Bench.Rain..in. South.Baldy.Ridge.Rain..in. Orchard.House.Rain..in.\n",
              " Min.   :0.00000         Min.   :0.00000             Min.   :0.00000        \n",
              " 1st Qu.:0.00000         1st Qu.:0.00000             1st Qu.:0.00000        \n",
              " Median :0.00000         Median :0.00000             Median :0.00000        \n",
              " Mean   :0.03015         Mean   :0.02979             Mean   :0.03322        \n",
              " 3rd Qu.:0.01000         3rd Qu.:0.01000             3rd Qu.:0.02000        \n",
              " Max.   :1.12000         Max.   :1.20000             Max.   :1.16000        \n",
              " Indian.Ridge.Rain..in.\n",
              " Min.   :0.00000       \n",
              " 1st Qu.:0.00000       \n",
              " Median :0.00000       \n",
              " Mean   :0.02411       \n",
              " 3rd Qu.:0.01000       \n",
              " Max.   :1.07000       "
            ]
          },
          "metadata": {
            "tags": []
          }
        }
      ]
    },
    {
      "cell_type": "code",
      "metadata": {
        "id": "xXl0zyqbSVFF",
        "colab_type": "code",
        "colab": {}
      },
      "source": [
        "# scratch"
      ],
      "execution_count": 0,
      "outputs": []
    },
    {
      "cell_type": "code",
      "metadata": {
        "id": "LGiUL0F_NB0z",
        "colab_type": "code",
        "colab": {}
      },
      "source": [
        "# ?????????\n",
        "# average to daily temperatures\n",
        "p_daily <- dat_p %>%\n",
        "  mutate(day = as.Date(Date.Time, format = \"%Y-%M-%d\")) %>%\n",
        "  group_by(day) %>%\n",
        "  suammarise(mean_temp=)"
      ],
      "execution_count": 0,
      "outputs": []
    },
    {
      "cell_type": "code",
      "metadata": {
        "id": "LaPNWrUZJP19",
        "colab_type": "code",
        "colab": {}
      },
      "source": [
        "# coerce to xts for time series manipulation\n",
        "dat_p$Date.Time <- as.xts(dat_p[ , -1], order.by = dat_p$Date.Time)"
      ],
      "execution_count": 0,
      "outputs": []
    },
    {
      "cell_type": "code",
      "metadata": {
        "id": "ksIQc0WUMzK_",
        "colab_type": "code",
        "outputId": "e1355af5-5e84-4b60-a3e6-7a1469101321",
        "colab": {
          "base_uri": "https://localhost:8080/",
          "height": 425
        }
      },
      "source": [
        "summary(dat_p)"
      ],
      "execution_count": 0,
      "outputs": [
        {
          "output_type": "display_data",
          "data": {
            "text/plain": [
              "   Date.Time                   Baldy.Summit.Rain..in. Baldy.Draw.Rain..in.\n",
              " Min.   :2012-06-19 16:00:00   Min.   :0.0000000      Min.   :0.0000000   \n",
              " 1st Qu.:2012-12-15 10:31:15   1st Qu.:0.0000000      1st Qu.:0.0000000   \n",
              " Median :2013-09-13 21:57:30   Median :0.0000000      Median :0.0000000   \n",
              " Mean   :2014-10-02 12:39:23   Mean   :0.0003204      Mean   :0.0003992   \n",
              " 3rd Qu.:2016-06-09 22:22:30   3rd Qu.:0.0000000      3rd Qu.:0.0000000   \n",
              " Max.   :2019-04-21 17:00:00   Max.   :0.4700000      Max.   :0.4100000   \n",
              "                                                                          \n",
              " Sanfoin.Bench.Rain..in. South.Baldy.Ridge.Rain..in. Orchard.House.Rain..in.\n",
              " Min.   :0.0000000       Min.   :0.0000000           Min.   :0.0000000      \n",
              " 1st Qu.:0.0000000       1st Qu.:0.0000000           1st Qu.:0.0000000      \n",
              " Median :0.0000000       Median :0.0000000           Median :0.0000000      \n",
              " Mean   :0.0003603       Mean   :0.0003559           Mean   :0.0003969      \n",
              " 3rd Qu.:0.0000000       3rd Qu.:0.0000000           3rd Qu.:0.0000000      \n",
              " Max.   :0.2500000       Max.   :0.5800000           Max.   :0.2400000      \n",
              "                                                                            \n",
              " Indian.Ridge.Rain..in.\n",
              " Min.   :0.0000        \n",
              " 1st Qu.:0.0000        \n",
              " Median :0.0000        \n",
              " Mean   :0.0003        \n",
              " 3rd Qu.:0.0000        \n",
              " Max.   :0.4800        \n",
              " NA's   :2305          "
            ]
          },
          "metadata": {
            "tags": []
          }
        }
      ]
    },
    {
      "cell_type": "code",
      "metadata": {
        "id": "SP6PpIQ8LuEQ",
        "colab_type": "code",
        "colab": {}
      },
      "source": [
        ""
      ],
      "execution_count": 0,
      "outputs": []
    },
    {
      "cell_type": "markdown",
      "metadata": {
        "id": "OGQTCMxESb4W",
        "colab_type": "text"
      },
      "source": [
        "### Biomass"
      ]
    },
    {
      "cell_type": "code",
      "metadata": {
        "id": "_3xWd_tOF92s",
        "colab_type": "code",
        "outputId": "31a417a4-22ef-490a-851d-a356fe956d07",
        "colab": {
          "base_uri": "https://localhost:8080/",
          "height": 96
        }
      },
      "source": [
        "# coerce to time series format\n",
        "dat_b$year <- as.y\n",
        "\n",
        "# notes\n",
        "# consider translating season to quarter"
      ],
      "execution_count": 0,
      "outputs": [
        {
          "output_type": "error",
          "ename": "ERROR",
          "evalue": "ignored",
          "traceback": [
            "Error in as.year(dat_b$year): could not find function \"as.year\"\nTraceback:\n"
          ]
        }
      ]
    },
    {
      "cell_type": "markdown",
      "metadata": {
        "id": "027J3zPRDv8o",
        "colab_type": "text"
      },
      "source": [
        "# Visualize"
      ]
    },
    {
      "cell_type": "code",
      "metadata": {
        "id": "ihI70_BPKouq",
        "colab_type": "code",
        "colab": {}
      },
      "source": [
        ""
      ],
      "execution_count": 0,
      "outputs": []
    },
    {
      "cell_type": "code",
      "metadata": {
        "id": "Vbyb_p5JGmCZ",
        "colab_type": "code",
        "colab": {}
      },
      "source": [
        ""
      ],
      "execution_count": 0,
      "outputs": []
    },
    {
      "cell_type": "code",
      "metadata": {
        "id": "DJ0IOVoFGmFQ",
        "colab_type": "code",
        "colab": {}
      },
      "source": [
        ""
      ],
      "execution_count": 0,
      "outputs": []
    },
    {
      "cell_type": "code",
      "metadata": {
        "id": "1Y3q0XLyGmIM",
        "colab_type": "code",
        "colab": {}
      },
      "source": [
        ""
      ],
      "execution_count": 0,
      "outputs": []
    },
    {
      "cell_type": "code",
      "metadata": {
        "id": "12dLDeCgGmLM",
        "colab_type": "code",
        "colab": {}
      },
      "source": [
        ""
      ],
      "execution_count": 0,
      "outputs": []
    },
    {
      "cell_type": "code",
      "metadata": {
        "id": "74lrUx2jGmOI",
        "colab_type": "code",
        "colab": {}
      },
      "source": [
        ""
      ],
      "execution_count": 0,
      "outputs": []
    },
    {
      "cell_type": "markdown",
      "metadata": {
        "id": "g18cWkNmGmYJ",
        "colab_type": "text"
      },
      "source": [
        "# Notes\n",
        "* [Seasonal summaries of daily climate data](https://stackoverflow.com/questions/22446636/seasonal-summaries-of-daily-climate-data?rq=1)\n",
        "* [Dplyr - Mean for multiple columns](https://stackoverflow.com/questions/28744419/dplyr-mean-for-multiple-columns)\n",
        "* [Summarize Time Series Data by Month or Year Using Tidyverse Pipes in R]()"
      ]
    },
    {
      "cell_type": "code",
      "metadata": {
        "id": "LePeEmXWGtKo",
        "colab_type": "code",
        "colab": {}
      },
      "source": [
        ""
      ],
      "execution_count": 0,
      "outputs": []
    },
    {
      "cell_type": "code",
      "metadata": {
        "id": "yt5VioSTqJhw",
        "colab_type": "code",
        "colab": {}
      },
      "source": [
        ""
      ],
      "execution_count": 0,
      "outputs": []
    }
  ]
}