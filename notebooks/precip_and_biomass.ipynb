{
  "nbformat": 4,
  "nbformat_minor": 0,
  "metadata": {
    "colab": {
      "name": "precip and biomass.ipynb",
      "version": "0.3.2",
      "provenance": [],
      "collapsed_sections": [],
      "toc_visible": true,
      "include_colab_link": true
    },
    "language_info": {
      "codemirror_mode": "r",
      "file_extension": ".r",
      "mimetype": "text/x-r-source",
      "name": "R",
      "pygments_lexer": "r",
      "version": "3.3.1"
    },
    "kernelspec": {
      "display_name": "R",
      "language": "R",
      "name": "ir"
    },
    "accelerator": "GPU"
  },
  "cells": [
    {
      "cell_type": "markdown",
      "metadata": {
        "id": "view-in-github",
        "colab_type": "text"
      },
      "source": [
        "<a href=\"https://colab.research.google.com/github/samsoe/matrix/blob/master/notebooks/precip_and_biomass.ipynb\" target=\"_parent\"><img src=\"https://colab.research.google.com/assets/colab-badge.svg\" alt=\"Open In Colab\"/></a>"
      ]
    },
    {
      "cell_type": "markdown",
      "metadata": {
        "id": "HrOen1Hmxbk7",
        "colab_type": "text"
      },
      "source": [
        ""
      ]
    },
    {
      "cell_type": "code",
      "metadata": {
        "id": "1Ae-aeAYxbyE",
        "colab_type": "code",
        "outputId": "4b3cb0a2-f63a-49dc-c4ad-3434edd111a5",
        "colab": {
          "base_uri": "https://localhost:8080/",
          "height": 204
        }
      },
      "source": [
        "library(dplyr)"
      ],
      "execution_count": 0,
      "outputs": [
        {
          "output_type": "stream",
          "text": [
            "\n",
            "Attaching package: ‘dplyr’\n",
            "\n",
            "The following objects are masked from ‘package:stats’:\n",
            "\n",
            "    filter, lag\n",
            "\n",
            "The following objects are masked from ‘package:base’:\n",
            "\n",
            "    intersect, setdiff, setequal, union\n",
            "\n"
          ],
          "name": "stderr"
        }
      ]
    },
    {
      "cell_type": "code",
      "metadata": {
        "id": "3Kz7jPx9xb00",
        "colab_type": "code",
        "outputId": "238a8955-c42f-49e4-b71a-110d2a4e70ef",
        "colab": {
          "base_uri": "https://localhost:8080/",
          "height": 357
        }
      },
      "source": [
        "# for time series\n",
        "install.packages(\"xts\", repos=\"http://cloud.r-project.org\")\n",
        "library(xts)"
      ],
      "execution_count": 0,
      "outputs": [
        {
          "output_type": "stream",
          "text": [
            "Installing package into ‘/usr/local/lib/R/site-library’\n",
            "(as ‘lib’ is unspecified)\n",
            "Loading required package: zoo\n",
            "\n",
            "Attaching package: ‘zoo’\n",
            "\n",
            "The following objects are masked from ‘package:base’:\n",
            "\n",
            "    as.Date, as.Date.numeric\n",
            "\n",
            "Registered S3 method overwritten by 'xts':\n",
            "  method     from\n",
            "  as.zoo.xts zoo \n",
            "\n",
            "Attaching package: ‘xts’\n",
            "\n",
            "The following objects are masked from ‘package:dplyr’:\n",
            "\n",
            "    first, last\n",
            "\n"
          ],
          "name": "stderr"
        }
      ]
    },
    {
      "cell_type": "markdown",
      "metadata": {
        "id": "5Ob5TZUTN5MV",
        "colab_type": "text"
      },
      "source": [
        "# Load Biomass"
      ]
    },
    {
      "cell_type": "code",
      "metadata": {
        "id": "dvVJHWFcxcB-",
        "colab_type": "code",
        "colab": {}
      },
      "source": [
        "# load biomass\n",
        "src <- \"https://drive.google.com/uc?id=1gzpnX019uG9YoS4ZQOQEyf4OTuLPIHgT\"\n",
        "biomass <- read.csv(src, stringsAsFactors=FALSE)"
      ],
      "execution_count": 0,
      "outputs": []
    },
    {
      "cell_type": "code",
      "metadata": {
        "id": "8F1pNii_xpCb",
        "colab_type": "code",
        "outputId": "4bbbd112-584f-4a4e-d824-55115bf04b63",
        "colab": {
          "base_uri": "https://localhost:8080/",
          "height": 170
        }
      },
      "source": [
        "glimpse(biomass)"
      ],
      "execution_count": 0,
      "outputs": [
        {
          "output_type": "stream",
          "text": [
            "Observations: 3,953\n",
            "Variables: 7\n",
            "$ gridpt       \u001b[3m\u001b[90m<int>\u001b[39m\u001b[23m 2, 2, 2, 2, 2, 2, 2, 2, 2, 2, 2, 2, 2, 2, 3, 3, 3, 3, 3,…\n",
            "$ year         \u001b[3m\u001b[90m<int>\u001b[39m\u001b[23m 2011, 2010, 2017, 2016, 2016, 2015, 2015, 2014, 2014, 20…\n",
            "$ season       \u001b[3m\u001b[90m<chr>\u001b[39m\u001b[23m \"fall\", \"fall\", \"spring\", \"fall\", \"spring\", \"fall\", \"spr…\n",
            "$ type         \u001b[3m\u001b[90m<chr>\u001b[39m\u001b[23m \"Range\", \"Range\", \"Range\", \"Range\", \"Range\", \"Range\", \"R…\n",
            "$ pt_avg_grams \u001b[3m\u001b[90m<dbl>\u001b[39m\u001b[23m 8.990000, NA, 3.326667, 21.273333, 2.780000, 6.873333, 1…\n",
            "$ lat          \u001b[3m\u001b[90m<dbl>\u001b[39m\u001b[23m 46.72972, 46.72972, 46.72972, 46.72972, 46.72972, 46.729…\n",
            "$ long         \u001b[3m\u001b[90m<dbl>\u001b[39m\u001b[23m -114.0010, -114.0010, -114.0010, -114.0010, -114.0010, -…\n"
          ],
          "name": "stdout"
        }
      ]
    },
    {
      "cell_type": "markdown",
      "metadata": {
        "id": "DbyjJ6Ap0VVI",
        "colab_type": "text"
      },
      "source": [
        "# Fall"
      ]
    },
    {
      "cell_type": "code",
      "metadata": {
        "id": "RfWrI9-XxsnU",
        "colab_type": "code",
        "outputId": "b042e605-4455-4e0c-ed10-4c29e1951e44",
        "colab": {
          "base_uri": "https://localhost:8080/",
          "height": 289
        }
      },
      "source": [
        "# select for fall\n",
        "biomass <- biomass %>% filter(season == \"fall\")\n",
        "summary(biomass)"
      ],
      "execution_count": 0,
      "outputs": [
        {
          "output_type": "display_data",
          "data": {
            "text/plain": [
              "     gridpt           year         season              type          \n",
              " Min.   :  2.0   Min.   :2010   Length:2081        Length:2081       \n",
              " 1st Qu.: 83.0   1st Qu.:2011   Class :character   Class :character  \n",
              " Median :191.0   Median :2013   Mode  :character   Mode  :character  \n",
              " Mean   :200.3   Mean   :2013                                        \n",
              " 3rd Qu.:301.0   3rd Qu.:2015                                        \n",
              " Max.   :574.0   Max.   :2018                                        \n",
              "                                                                     \n",
              "  pt_avg_grams         lat             long     \n",
              " Min.   : 0.000   Min.   :46.67   Min.   :-114  \n",
              " 1st Qu.: 3.520   1st Qu.:46.68   1st Qu.:-114  \n",
              " Median : 7.020   Median :46.70   Median :-114  \n",
              " Mean   : 9.268   Mean   :46.70   Mean   :-114  \n",
              " 3rd Qu.:12.337   3rd Qu.:46.71   3rd Qu.:-114  \n",
              " Max.   :87.185   Max.   :46.73   Max.   :-114  \n",
              " NA's   :976                                    "
            ]
          },
          "metadata": {
            "tags": []
          }
        }
      ]
    },
    {
      "cell_type": "code",
      "metadata": {
        "id": "Lv5B5iNZ4E4N",
        "colab_type": "code",
        "outputId": "7c32e2d5-0980-43c5-b06e-0175d7c9708b",
        "colab": {
          "base_uri": "https://localhost:8080/",
          "height": 153
        }
      },
      "source": [
        "str(biomass)"
      ],
      "execution_count": 0,
      "outputs": [
        {
          "output_type": "stream",
          "text": [
            "'data.frame':\t2081 obs. of  7 variables:\n",
            " $ gridpt      : int  2 2 2 2 2 2 2 3 3 3 ...\n",
            " $ year        : int  2011 2010 2016 2015 2014 2013 2012 2017 2016 2015 ...\n",
            " $ season      : chr  \"fall\" \"fall\" \"fall\" \"fall\" ...\n",
            " $ type        : chr  \"Range\" \"Range\" \"Range\" \"Range\" ...\n",
            " $ pt_avg_grams: num  8.99 NA 21.27 6.87 7 ...\n",
            " $ lat         : num  46.7 46.7 46.7 46.7 46.7 ...\n",
            " $ long        : num  -114 -114 -114 -114 -114 ...\n"
          ],
          "name": "stdout"
        }
      ]
    },
    {
      "cell_type": "code",
      "metadata": {
        "id": "hLBh6HP3Oay4",
        "colab_type": "code",
        "outputId": "4561fbfe-738b-49b7-db73-749e10234e9c",
        "colab": {
          "base_uri": "https://localhost:8080/",
          "height": 204
        }
      },
      "source": [
        "head(biomass)"
      ],
      "execution_count": 0,
      "outputs": [
        {
          "output_type": "display_data",
          "data": {
            "text/plain": [
              "  gridpt year season type  pt_avg_grams lat      long    \n",
              "1 2      2011 fall   Range  8.990000    46.72972 -114.001\n",
              "2 2      2010 fall   Range        NA    46.72972 -114.001\n",
              "3 2      2016 fall   Range 21.273333    46.72972 -114.001\n",
              "4 2      2015 fall   Range  6.873333    46.72972 -114.001\n",
              "5 2      2014 fall   Range  7.003333    46.72972 -114.001\n",
              "6 2      2013 fall   Range  6.176667    46.72972 -114.001"
            ],
            "text/latex": "A data.frame: 6 × 7\n\\begin{tabular}{r|lllllll}\n gridpt & year & season & type & pt\\_avg\\_grams & lat & long\\\\\n <int> & <int> & <chr> & <chr> & <dbl> & <dbl> & <dbl>\\\\\n\\hline\n\t 2 & 2011 & fall & Range &  8.990000 & 46.72972 & -114.001\\\\\n\t 2 & 2010 & fall & Range &        NA & 46.72972 & -114.001\\\\\n\t 2 & 2016 & fall & Range & 21.273333 & 46.72972 & -114.001\\\\\n\t 2 & 2015 & fall & Range &  6.873333 & 46.72972 & -114.001\\\\\n\t 2 & 2014 & fall & Range &  7.003333 & 46.72972 & -114.001\\\\\n\t 2 & 2013 & fall & Range &  6.176667 & 46.72972 & -114.001\\\\\n\\end{tabular}\n",
            "text/markdown": "\nA data.frame: 6 × 7\n\n| gridpt &lt;int&gt; | year &lt;int&gt; | season &lt;chr&gt; | type &lt;chr&gt; | pt_avg_grams &lt;dbl&gt; | lat &lt;dbl&gt; | long &lt;dbl&gt; |\n|---|---|---|---|---|---|---|\n| 2 | 2011 | fall | Range |  8.990000 | 46.72972 | -114.001 |\n| 2 | 2010 | fall | Range |        NA | 46.72972 | -114.001 |\n| 2 | 2016 | fall | Range | 21.273333 | 46.72972 | -114.001 |\n| 2 | 2015 | fall | Range |  6.873333 | 46.72972 | -114.001 |\n| 2 | 2014 | fall | Range |  7.003333 | 46.72972 | -114.001 |\n| 2 | 2013 | fall | Range |  6.176667 | 46.72972 | -114.001 |\n\n",
            "text/html": [
              "<table>\n",
              "<caption>A data.frame: 6 × 7</caption>\n",
              "<thead>\n",
              "\t<tr><th scope=col>gridpt</th><th scope=col>year</th><th scope=col>season</th><th scope=col>type</th><th scope=col>pt_avg_grams</th><th scope=col>lat</th><th scope=col>long</th></tr>\n",
              "\t<tr><th scope=col>&lt;int&gt;</th><th scope=col>&lt;int&gt;</th><th scope=col>&lt;chr&gt;</th><th scope=col>&lt;chr&gt;</th><th scope=col>&lt;dbl&gt;</th><th scope=col>&lt;dbl&gt;</th><th scope=col>&lt;dbl&gt;</th></tr>\n",
              "</thead>\n",
              "<tbody>\n",
              "\t<tr><td>2</td><td>2011</td><td>fall</td><td>Range</td><td> 8.990000</td><td>46.72972</td><td>-114.001</td></tr>\n",
              "\t<tr><td>2</td><td>2010</td><td>fall</td><td>Range</td><td>       NA</td><td>46.72972</td><td>-114.001</td></tr>\n",
              "\t<tr><td>2</td><td>2016</td><td>fall</td><td>Range</td><td>21.273333</td><td>46.72972</td><td>-114.001</td></tr>\n",
              "\t<tr><td>2</td><td>2015</td><td>fall</td><td>Range</td><td> 6.873333</td><td>46.72972</td><td>-114.001</td></tr>\n",
              "\t<tr><td>2</td><td>2014</td><td>fall</td><td>Range</td><td> 7.003333</td><td>46.72972</td><td>-114.001</td></tr>\n",
              "\t<tr><td>2</td><td>2013</td><td>fall</td><td>Range</td><td> 6.176667</td><td>46.72972</td><td>-114.001</td></tr>\n",
              "</tbody>\n",
              "</table>\n"
            ]
          },
          "metadata": {
            "tags": []
          }
        }
      ]
    },
    {
      "cell_type": "code",
      "metadata": {
        "id": "2ls3DaoY0ZeK",
        "colab_type": "code",
        "colab": {}
      },
      "source": [
        ""
      ],
      "execution_count": 0,
      "outputs": []
    },
    {
      "cell_type": "markdown",
      "metadata": {
        "id": "1mdfaVX0N_PC",
        "colab_type": "text"
      },
      "source": [
        "## Load Precip"
      ]
    },
    {
      "cell_type": "code",
      "metadata": {
        "id": "7NdjANnT91V7",
        "colab_type": "code",
        "colab": {}
      },
      "source": [
        "# load precip\n",
        "p_src = \"https://drive.google.com/uc?id=1qWCMbNBE3o4llcTUs3wT8SDNS0jVTlT0\"\n",
        "precip = read.csv(p_src, stringsAsFactors=FALSE)"
      ],
      "execution_count": 0,
      "outputs": []
    },
    {
      "cell_type": "code",
      "metadata": {
        "id": "7rtX55wW-GRy",
        "colab_type": "code",
        "outputId": "8fbd4616-ed36-4ab4-fb48-fcf025ed2537",
        "colab": {
          "base_uri": "https://localhost:8080/",
          "height": 225
        }
      },
      "source": [
        "precip"
      ],
      "execution_count": 0,
      "outputs": [
        {
          "output_type": "display_data",
          "data": {
            "text/plain": [
              "  Index   ave      year_minusone\n",
              "1 2012 Q4 2.960000       NA     \n",
              "2 2013 Q4 2.508333 2.960000     \n",
              "3 2014 Q4 3.730000 2.508333     \n",
              "4 2015 Q4 2.693333 3.730000     \n",
              "5 2016 Q4 3.846667 2.693333     \n",
              "6 2017 Q4 5.138333 3.846667     \n",
              "7 2018 Q4 7.381667 5.138333     "
            ],
            "text/latex": "A data.frame: 7 × 3\n\\begin{tabular}{r|lll}\n Index & ave & year\\_minusone\\\\\n <chr> & <dbl> & <dbl>\\\\\n\\hline\n\t 2012 Q4 & 2.960000 &       NA\\\\\n\t 2013 Q4 & 2.508333 & 2.960000\\\\\n\t 2014 Q4 & 3.730000 & 2.508333\\\\\n\t 2015 Q4 & 2.693333 & 3.730000\\\\\n\t 2016 Q4 & 3.846667 & 2.693333\\\\\n\t 2017 Q4 & 5.138333 & 3.846667\\\\\n\t 2018 Q4 & 7.381667 & 5.138333\\\\\n\\end{tabular}\n",
            "text/markdown": "\nA data.frame: 7 × 3\n\n| Index &lt;chr&gt; | ave &lt;dbl&gt; | year_minusone &lt;dbl&gt; |\n|---|---|---|\n| 2012 Q4 | 2.960000 |       NA |\n| 2013 Q4 | 2.508333 | 2.960000 |\n| 2014 Q4 | 3.730000 | 2.508333 |\n| 2015 Q4 | 2.693333 | 3.730000 |\n| 2016 Q4 | 3.846667 | 2.693333 |\n| 2017 Q4 | 5.138333 | 3.846667 |\n| 2018 Q4 | 7.381667 | 5.138333 |\n\n",
            "text/html": [
              "<table>\n",
              "<caption>A data.frame: 7 × 3</caption>\n",
              "<thead>\n",
              "\t<tr><th scope=col>Index</th><th scope=col>ave</th><th scope=col>year_minusone</th></tr>\n",
              "\t<tr><th scope=col>&lt;chr&gt;</th><th scope=col>&lt;dbl&gt;</th><th scope=col>&lt;dbl&gt;</th></tr>\n",
              "</thead>\n",
              "<tbody>\n",
              "\t<tr><td>2012 Q4</td><td>2.960000</td><td>      NA</td></tr>\n",
              "\t<tr><td>2013 Q4</td><td>2.508333</td><td>2.960000</td></tr>\n",
              "\t<tr><td>2014 Q4</td><td>3.730000</td><td>2.508333</td></tr>\n",
              "\t<tr><td>2015 Q4</td><td>2.693333</td><td>3.730000</td></tr>\n",
              "\t<tr><td>2016 Q4</td><td>3.846667</td><td>2.693333</td></tr>\n",
              "\t<tr><td>2017 Q4</td><td>5.138333</td><td>3.846667</td></tr>\n",
              "\t<tr><td>2018 Q4</td><td>7.381667</td><td>5.138333</td></tr>\n",
              "</tbody>\n",
              "</table>\n"
            ]
          },
          "metadata": {
            "tags": []
          }
        }
      ]
    },
    {
      "cell_type": "code",
      "metadata": {
        "id": "bgT4MpHURrD3",
        "colab_type": "code",
        "colab": {}
      },
      "source": [
        "precip$year <- as.integer(vapply(strsplit(precip$Index, \" \"), `[`, 1, FUN.VALUE=character(1)))"
      ],
      "execution_count": 0,
      "outputs": []
    },
    {
      "cell_type": "code",
      "metadata": {
        "id": "OE_gCz-pArj1",
        "colab_type": "code",
        "outputId": "47a3dc13-5bb5-4d40-87e2-c6ac3faae492",
        "colab": {
          "base_uri": "https://localhost:8080/",
          "height": 225
        }
      },
      "source": [
        "precip"
      ],
      "execution_count": 0,
      "outputs": [
        {
          "output_type": "display_data",
          "data": {
            "text/plain": [
              "  Index   ave      year_minusone year\n",
              "1 2012 Q4 2.960000       NA      2012\n",
              "2 2013 Q4 2.508333 2.960000      2013\n",
              "3 2014 Q4 3.730000 2.508333      2014\n",
              "4 2015 Q4 2.693333 3.730000      2015\n",
              "5 2016 Q4 3.846667 2.693333      2016\n",
              "6 2017 Q4 5.138333 3.846667      2017\n",
              "7 2018 Q4 7.381667 5.138333      2018"
            ],
            "text/latex": "A data.frame: 7 × 4\n\\begin{tabular}{r|llll}\n Index & ave & year\\_minusone & year\\\\\n <chr> & <dbl> & <dbl> & <int>\\\\\n\\hline\n\t 2012 Q4 & 2.960000 &       NA & 2012\\\\\n\t 2013 Q4 & 2.508333 & 2.960000 & 2013\\\\\n\t 2014 Q4 & 3.730000 & 2.508333 & 2014\\\\\n\t 2015 Q4 & 2.693333 & 3.730000 & 2015\\\\\n\t 2016 Q4 & 3.846667 & 2.693333 & 2016\\\\\n\t 2017 Q4 & 5.138333 & 3.846667 & 2017\\\\\n\t 2018 Q4 & 7.381667 & 5.138333 & 2018\\\\\n\\end{tabular}\n",
            "text/markdown": "\nA data.frame: 7 × 4\n\n| Index &lt;chr&gt; | ave &lt;dbl&gt; | year_minusone &lt;dbl&gt; | year &lt;int&gt; |\n|---|---|---|---|\n| 2012 Q4 | 2.960000 |       NA | 2012 |\n| 2013 Q4 | 2.508333 | 2.960000 | 2013 |\n| 2014 Q4 | 3.730000 | 2.508333 | 2014 |\n| 2015 Q4 | 2.693333 | 3.730000 | 2015 |\n| 2016 Q4 | 3.846667 | 2.693333 | 2016 |\n| 2017 Q4 | 5.138333 | 3.846667 | 2017 |\n| 2018 Q4 | 7.381667 | 5.138333 | 2018 |\n\n",
            "text/html": [
              "<table>\n",
              "<caption>A data.frame: 7 × 4</caption>\n",
              "<thead>\n",
              "\t<tr><th scope=col>Index</th><th scope=col>ave</th><th scope=col>year_minusone</th><th scope=col>year</th></tr>\n",
              "\t<tr><th scope=col>&lt;chr&gt;</th><th scope=col>&lt;dbl&gt;</th><th scope=col>&lt;dbl&gt;</th><th scope=col>&lt;int&gt;</th></tr>\n",
              "</thead>\n",
              "<tbody>\n",
              "\t<tr><td>2012 Q4</td><td>2.960000</td><td>      NA</td><td>2012</td></tr>\n",
              "\t<tr><td>2013 Q4</td><td>2.508333</td><td>2.960000</td><td>2013</td></tr>\n",
              "\t<tr><td>2014 Q4</td><td>3.730000</td><td>2.508333</td><td>2014</td></tr>\n",
              "\t<tr><td>2015 Q4</td><td>2.693333</td><td>3.730000</td><td>2015</td></tr>\n",
              "\t<tr><td>2016 Q4</td><td>3.846667</td><td>2.693333</td><td>2016</td></tr>\n",
              "\t<tr><td>2017 Q4</td><td>5.138333</td><td>3.846667</td><td>2017</td></tr>\n",
              "\t<tr><td>2018 Q4</td><td>7.381667</td><td>5.138333</td><td>2018</td></tr>\n",
              "</tbody>\n",
              "</table>\n"
            ]
          },
          "metadata": {
            "tags": []
          }
        }
      ]
    },
    {
      "cell_type": "code",
      "metadata": {
        "id": "QIGSS9gVTGuO",
        "colab_type": "code",
        "outputId": "731ae832-e1c7-4719-f24f-18325342e92a",
        "colab": {
          "base_uri": "https://localhost:8080/",
          "height": 204
        }
      },
      "source": [
        "head(biomass)"
      ],
      "execution_count": 0,
      "outputs": [
        {
          "output_type": "display_data",
          "data": {
            "text/plain": [
              "  gridpt year season type  pt_avg_grams lat      long    \n",
              "1 2      2011 fall   Range  8.990000    46.72972 -114.001\n",
              "2 2      2010 fall   Range        NA    46.72972 -114.001\n",
              "3 2      2016 fall   Range 21.273333    46.72972 -114.001\n",
              "4 2      2015 fall   Range  6.873333    46.72972 -114.001\n",
              "5 2      2014 fall   Range  7.003333    46.72972 -114.001\n",
              "6 2      2013 fall   Range  6.176667    46.72972 -114.001"
            ],
            "text/latex": "A data.frame: 6 × 7\n\\begin{tabular}{r|lllllll}\n gridpt & year & season & type & pt\\_avg\\_grams & lat & long\\\\\n <int> & <int> & <chr> & <chr> & <dbl> & <dbl> & <dbl>\\\\\n\\hline\n\t 2 & 2011 & fall & Range &  8.990000 & 46.72972 & -114.001\\\\\n\t 2 & 2010 & fall & Range &        NA & 46.72972 & -114.001\\\\\n\t 2 & 2016 & fall & Range & 21.273333 & 46.72972 & -114.001\\\\\n\t 2 & 2015 & fall & Range &  6.873333 & 46.72972 & -114.001\\\\\n\t 2 & 2014 & fall & Range &  7.003333 & 46.72972 & -114.001\\\\\n\t 2 & 2013 & fall & Range &  6.176667 & 46.72972 & -114.001\\\\\n\\end{tabular}\n",
            "text/markdown": "\nA data.frame: 6 × 7\n\n| gridpt &lt;int&gt; | year &lt;int&gt; | season &lt;chr&gt; | type &lt;chr&gt; | pt_avg_grams &lt;dbl&gt; | lat &lt;dbl&gt; | long &lt;dbl&gt; |\n|---|---|---|---|---|---|---|\n| 2 | 2011 | fall | Range |  8.990000 | 46.72972 | -114.001 |\n| 2 | 2010 | fall | Range |        NA | 46.72972 | -114.001 |\n| 2 | 2016 | fall | Range | 21.273333 | 46.72972 | -114.001 |\n| 2 | 2015 | fall | Range |  6.873333 | 46.72972 | -114.001 |\n| 2 | 2014 | fall | Range |  7.003333 | 46.72972 | -114.001 |\n| 2 | 2013 | fall | Range |  6.176667 | 46.72972 | -114.001 |\n\n",
            "text/html": [
              "<table>\n",
              "<caption>A data.frame: 6 × 7</caption>\n",
              "<thead>\n",
              "\t<tr><th scope=col>gridpt</th><th scope=col>year</th><th scope=col>season</th><th scope=col>type</th><th scope=col>pt_avg_grams</th><th scope=col>lat</th><th scope=col>long</th></tr>\n",
              "\t<tr><th scope=col>&lt;int&gt;</th><th scope=col>&lt;int&gt;</th><th scope=col>&lt;chr&gt;</th><th scope=col>&lt;chr&gt;</th><th scope=col>&lt;dbl&gt;</th><th scope=col>&lt;dbl&gt;</th><th scope=col>&lt;dbl&gt;</th></tr>\n",
              "</thead>\n",
              "<tbody>\n",
              "\t<tr><td>2</td><td>2011</td><td>fall</td><td>Range</td><td> 8.990000</td><td>46.72972</td><td>-114.001</td></tr>\n",
              "\t<tr><td>2</td><td>2010</td><td>fall</td><td>Range</td><td>       NA</td><td>46.72972</td><td>-114.001</td></tr>\n",
              "\t<tr><td>2</td><td>2016</td><td>fall</td><td>Range</td><td>21.273333</td><td>46.72972</td><td>-114.001</td></tr>\n",
              "\t<tr><td>2</td><td>2015</td><td>fall</td><td>Range</td><td> 6.873333</td><td>46.72972</td><td>-114.001</td></tr>\n",
              "\t<tr><td>2</td><td>2014</td><td>fall</td><td>Range</td><td> 7.003333</td><td>46.72972</td><td>-114.001</td></tr>\n",
              "\t<tr><td>2</td><td>2013</td><td>fall</td><td>Range</td><td> 6.176667</td><td>46.72972</td><td>-114.001</td></tr>\n",
              "</tbody>\n",
              "</table>\n"
            ]
          },
          "metadata": {
            "tags": []
          }
        }
      ]
    },
    {
      "cell_type": "markdown",
      "metadata": {
        "id": "79vWN9uy92UI",
        "colab_type": "text"
      },
      "source": [
        "## Merge"
      ]
    },
    {
      "cell_type": "code",
      "metadata": {
        "id": "Ru9HN50h93If",
        "colab_type": "code",
        "colab": {}
      },
      "source": [
        "b_p <- merge(biomass, precip, by=\"year\", all=TRUE)"
      ],
      "execution_count": 0,
      "outputs": []
    },
    {
      "cell_type": "code",
      "metadata": {
        "id": "HWznkQF9WyID",
        "colab_type": "code",
        "outputId": "27cbf73f-3989-4a82-d113-d5db98bd40cf",
        "colab": {
          "base_uri": "https://localhost:8080/",
          "height": 204
        }
      },
      "source": [
        "head(b_p)"
      ],
      "execution_count": 0,
      "outputs": [
        {
          "output_type": "display_data",
          "data": {
            "text/plain": [
              "  year gridpt season type   pt_avg_grams lat      long      Index ave\n",
              "1 2010   2    fall   Range      NA       46.72972 -114.0010 NA    NA \n",
              "2 2010 278    fall   Range  9.9075       46.68165 -114.0004 NA    NA \n",
              "3 2010  21    fall   Range  3.9325       46.72046 -114.0183 NA    NA \n",
              "4 2010  60    fall   Range  2.5700       46.71208 -114.0125 NA    NA \n",
              "5 2010 281    fall   Range  6.6575       46.68297 -113.9908 NA    NA \n",
              "6 2010 122    fall   Active 3.4200       46.69796 -114.0317 NA    NA \n",
              "  year_minusone\n",
              "1 NA           \n",
              "2 NA           \n",
              "3 NA           \n",
              "4 NA           \n",
              "5 NA           \n",
              "6 NA           "
            ],
            "text/latex": "A data.frame: 6 × 10\n\\begin{tabular}{r|llllllllll}\n year & gridpt & season & type & pt\\_avg\\_grams & lat & long & Index & ave & year\\_minusone\\\\\n <int> & <int> & <chr> & <chr> & <dbl> & <dbl> & <dbl> & <chr> & <dbl> & <dbl>\\\\\n\\hline\n\t 2010 &   2 & fall & Range  &     NA & 46.72972 & -114.0010 & NA & NA & NA\\\\\n\t 2010 & 278 & fall & Range  & 9.9075 & 46.68165 & -114.0004 & NA & NA & NA\\\\\n\t 2010 &  21 & fall & Range  & 3.9325 & 46.72046 & -114.0183 & NA & NA & NA\\\\\n\t 2010 &  60 & fall & Range  & 2.5700 & 46.71208 & -114.0125 & NA & NA & NA\\\\\n\t 2010 & 281 & fall & Range  & 6.6575 & 46.68297 & -113.9908 & NA & NA & NA\\\\\n\t 2010 & 122 & fall & Active & 3.4200 & 46.69796 & -114.0317 & NA & NA & NA\\\\\n\\end{tabular}\n",
            "text/markdown": "\nA data.frame: 6 × 10\n\n| year &lt;int&gt; | gridpt &lt;int&gt; | season &lt;chr&gt; | type &lt;chr&gt; | pt_avg_grams &lt;dbl&gt; | lat &lt;dbl&gt; | long &lt;dbl&gt; | Index &lt;chr&gt; | ave &lt;dbl&gt; | year_minusone &lt;dbl&gt; |\n|---|---|---|---|---|---|---|---|---|---|\n| 2010 |   2 | fall | Range  |     NA | 46.72972 | -114.0010 | NA | NA | NA |\n| 2010 | 278 | fall | Range  | 9.9075 | 46.68165 | -114.0004 | NA | NA | NA |\n| 2010 |  21 | fall | Range  | 3.9325 | 46.72046 | -114.0183 | NA | NA | NA |\n| 2010 |  60 | fall | Range  | 2.5700 | 46.71208 | -114.0125 | NA | NA | NA |\n| 2010 | 281 | fall | Range  | 6.6575 | 46.68297 | -113.9908 | NA | NA | NA |\n| 2010 | 122 | fall | Active | 3.4200 | 46.69796 | -114.0317 | NA | NA | NA |\n\n",
            "text/html": [
              "<table>\n",
              "<caption>A data.frame: 6 × 10</caption>\n",
              "<thead>\n",
              "\t<tr><th scope=col>year</th><th scope=col>gridpt</th><th scope=col>season</th><th scope=col>type</th><th scope=col>pt_avg_grams</th><th scope=col>lat</th><th scope=col>long</th><th scope=col>Index</th><th scope=col>ave</th><th scope=col>year_minusone</th></tr>\n",
              "\t<tr><th scope=col>&lt;int&gt;</th><th scope=col>&lt;int&gt;</th><th scope=col>&lt;chr&gt;</th><th scope=col>&lt;chr&gt;</th><th scope=col>&lt;dbl&gt;</th><th scope=col>&lt;dbl&gt;</th><th scope=col>&lt;dbl&gt;</th><th scope=col>&lt;chr&gt;</th><th scope=col>&lt;dbl&gt;</th><th scope=col>&lt;dbl&gt;</th></tr>\n",
              "</thead>\n",
              "<tbody>\n",
              "\t<tr><td>2010</td><td>  2</td><td>fall</td><td>Range </td><td>    NA</td><td>46.72972</td><td>-114.0010</td><td>NA</td><td>NA</td><td>NA</td></tr>\n",
              "\t<tr><td>2010</td><td>278</td><td>fall</td><td>Range </td><td>9.9075</td><td>46.68165</td><td>-114.0004</td><td>NA</td><td>NA</td><td>NA</td></tr>\n",
              "\t<tr><td>2010</td><td> 21</td><td>fall</td><td>Range </td><td>3.9325</td><td>46.72046</td><td>-114.0183</td><td>NA</td><td>NA</td><td>NA</td></tr>\n",
              "\t<tr><td>2010</td><td> 60</td><td>fall</td><td>Range </td><td>2.5700</td><td>46.71208</td><td>-114.0125</td><td>NA</td><td>NA</td><td>NA</td></tr>\n",
              "\t<tr><td>2010</td><td>281</td><td>fall</td><td>Range </td><td>6.6575</td><td>46.68297</td><td>-113.9908</td><td>NA</td><td>NA</td><td>NA</td></tr>\n",
              "\t<tr><td>2010</td><td>122</td><td>fall</td><td>Active</td><td>3.4200</td><td>46.69796</td><td>-114.0317</td><td>NA</td><td>NA</td><td>NA</td></tr>\n",
              "</tbody>\n",
              "</table>\n"
            ]
          },
          "metadata": {
            "tags": []
          }
        }
      ]
    },
    {
      "cell_type": "code",
      "metadata": {
        "id": "nzsCLv8oWaLb",
        "colab_type": "code",
        "colab": {}
      },
      "source": [
        "b_p <- b_p[order(b_p$year, b_p$gridpt),]"
      ],
      "execution_count": 0,
      "outputs": []
    },
    {
      "cell_type": "code",
      "metadata": {
        "id": "vmZlPEv5MziU",
        "colab_type": "code",
        "colab": {}
      },
      "source": [
        "colnames(b_p)[8] <- \"quarter\""
      ],
      "execution_count": 0,
      "outputs": []
    },
    {
      "cell_type": "code",
      "metadata": {
        "id": "GvG288-_QAAI",
        "colab_type": "code",
        "outputId": "98b4406f-af0b-4063-fb3f-5df9a70bb348",
        "colab": {
          "base_uri": "https://localhost:8080/",
          "height": 204
        }
      },
      "source": [
        "tail(b_p)"
      ],
      "execution_count": 0,
      "outputs": [
        {
          "output_type": "display_data",
          "data": {
            "text/plain": [
              "     year gridpt season type     pt_avg_grams lat      long      quarter\n",
              "2047 2018 471    fall   Riparian 22.47667     46.70214 -114.0425 2018 Q4\n",
              "2042 2018 480    fall   Riparian 27.44000     46.71092 -114.0417 2018 Q4\n",
              "2041 2018 481    fall   Riparian  9.56000     46.70958 -114.0447 2018 Q4\n",
              "2052 2018 482    fall   Riparian  0.00000     46.70839 -114.0406 2018 Q4\n",
              "2062 2018 484    fall   Riparian 13.00667     46.70708 -114.0436 2018 Q4\n",
              "2068 2018 571    fall   Active   12.40000     46.71035 -114.0388 2018 Q4\n",
              "     ave      year_minusone\n",
              "2047 7.381667 5.138333     \n",
              "2042 7.381667 5.138333     \n",
              "2041 7.381667 5.138333     \n",
              "2052 7.381667 5.138333     \n",
              "2062 7.381667 5.138333     \n",
              "2068 7.381667 5.138333     "
            ],
            "text/latex": "A data.frame: 6 × 10\n\\begin{tabular}{r|llllllllll}\n  & year & gridpt & season & type & pt\\_avg\\_grams & lat & long & quarter & ave & year\\_minusone\\\\\n  & <int> & <int> & <chr> & <chr> & <dbl> & <dbl> & <dbl> & <chr> & <dbl> & <dbl>\\\\\n\\hline\n\t2047 & 2018 & 471 & fall & Riparian & 22.47667 & 46.70214 & -114.0425 & 2018 Q4 & 7.381667 & 5.138333\\\\\n\t2042 & 2018 & 480 & fall & Riparian & 27.44000 & 46.71092 & -114.0417 & 2018 Q4 & 7.381667 & 5.138333\\\\\n\t2041 & 2018 & 481 & fall & Riparian &  9.56000 & 46.70958 & -114.0447 & 2018 Q4 & 7.381667 & 5.138333\\\\\n\t2052 & 2018 & 482 & fall & Riparian &  0.00000 & 46.70839 & -114.0406 & 2018 Q4 & 7.381667 & 5.138333\\\\\n\t2062 & 2018 & 484 & fall & Riparian & 13.00667 & 46.70708 & -114.0436 & 2018 Q4 & 7.381667 & 5.138333\\\\\n\t2068 & 2018 & 571 & fall & Active   & 12.40000 & 46.71035 & -114.0388 & 2018 Q4 & 7.381667 & 5.138333\\\\\n\\end{tabular}\n",
            "text/markdown": "\nA data.frame: 6 × 10\n\n| <!--/--> | year &lt;int&gt; | gridpt &lt;int&gt; | season &lt;chr&gt; | type &lt;chr&gt; | pt_avg_grams &lt;dbl&gt; | lat &lt;dbl&gt; | long &lt;dbl&gt; | quarter &lt;chr&gt; | ave &lt;dbl&gt; | year_minusone &lt;dbl&gt; |\n|---|---|---|---|---|---|---|---|---|---|---|\n| 2047 | 2018 | 471 | fall | Riparian | 22.47667 | 46.70214 | -114.0425 | 2018 Q4 | 7.381667 | 5.138333 |\n| 2042 | 2018 | 480 | fall | Riparian | 27.44000 | 46.71092 | -114.0417 | 2018 Q4 | 7.381667 | 5.138333 |\n| 2041 | 2018 | 481 | fall | Riparian |  9.56000 | 46.70958 | -114.0447 | 2018 Q4 | 7.381667 | 5.138333 |\n| 2052 | 2018 | 482 | fall | Riparian |  0.00000 | 46.70839 | -114.0406 | 2018 Q4 | 7.381667 | 5.138333 |\n| 2062 | 2018 | 484 | fall | Riparian | 13.00667 | 46.70708 | -114.0436 | 2018 Q4 | 7.381667 | 5.138333 |\n| 2068 | 2018 | 571 | fall | Active   | 12.40000 | 46.71035 | -114.0388 | 2018 Q4 | 7.381667 | 5.138333 |\n\n",
            "text/html": [
              "<table>\n",
              "<caption>A data.frame: 6 × 10</caption>\n",
              "<thead>\n",
              "\t<tr><th></th><th scope=col>year</th><th scope=col>gridpt</th><th scope=col>season</th><th scope=col>type</th><th scope=col>pt_avg_grams</th><th scope=col>lat</th><th scope=col>long</th><th scope=col>quarter</th><th scope=col>ave</th><th scope=col>year_minusone</th></tr>\n",
              "\t<tr><th></th><th scope=col>&lt;int&gt;</th><th scope=col>&lt;int&gt;</th><th scope=col>&lt;chr&gt;</th><th scope=col>&lt;chr&gt;</th><th scope=col>&lt;dbl&gt;</th><th scope=col>&lt;dbl&gt;</th><th scope=col>&lt;dbl&gt;</th><th scope=col>&lt;chr&gt;</th><th scope=col>&lt;dbl&gt;</th><th scope=col>&lt;dbl&gt;</th></tr>\n",
              "</thead>\n",
              "<tbody>\n",
              "\t<tr><th scope=row>2047</th><td>2018</td><td>471</td><td>fall</td><td>Riparian</td><td>22.47667</td><td>46.70214</td><td>-114.0425</td><td>2018 Q4</td><td>7.381667</td><td>5.138333</td></tr>\n",
              "\t<tr><th scope=row>2042</th><td>2018</td><td>480</td><td>fall</td><td>Riparian</td><td>27.44000</td><td>46.71092</td><td>-114.0417</td><td>2018 Q4</td><td>7.381667</td><td>5.138333</td></tr>\n",
              "\t<tr><th scope=row>2041</th><td>2018</td><td>481</td><td>fall</td><td>Riparian</td><td> 9.56000</td><td>46.70958</td><td>-114.0447</td><td>2018 Q4</td><td>7.381667</td><td>5.138333</td></tr>\n",
              "\t<tr><th scope=row>2052</th><td>2018</td><td>482</td><td>fall</td><td>Riparian</td><td> 0.00000</td><td>46.70839</td><td>-114.0406</td><td>2018 Q4</td><td>7.381667</td><td>5.138333</td></tr>\n",
              "\t<tr><th scope=row>2062</th><td>2018</td><td>484</td><td>fall</td><td>Riparian</td><td>13.00667</td><td>46.70708</td><td>-114.0436</td><td>2018 Q4</td><td>7.381667</td><td>5.138333</td></tr>\n",
              "\t<tr><th scope=row>2068</th><td>2018</td><td>571</td><td>fall</td><td>Active  </td><td>12.40000</td><td>46.71035</td><td>-114.0388</td><td>2018 Q4</td><td>7.381667</td><td>5.138333</td></tr>\n",
              "</tbody>\n",
              "</table>\n"
            ]
          },
          "metadata": {
            "tags": []
          }
        }
      ]
    },
    {
      "cell_type": "code",
      "metadata": {
        "id": "XD2cCBqrbuF1",
        "colab_type": "code",
        "outputId": "883878c3-33d6-42be-f9b0-83b71d66242e",
        "colab": {
          "base_uri": "https://localhost:8080/",
          "height": 215
        }
      },
      "source": [
        "colnames(b_p)"
      ],
      "execution_count": 0,
      "outputs": [
        {
          "output_type": "display_data",
          "data": {
            "text/plain": [
              " [1] \"year\"          \"gridpt\"        \"season\"        \"type\"         \n",
              " [5] \"pt_avg_grams\"  \"lat\"           \"long\"          \"quarter\"      \n",
              " [9] \"ave\"           \"year_minusone\""
            ],
            "text/latex": "\\begin{enumerate*}\n\\item 'year'\n\\item 'gridpt'\n\\item 'season'\n\\item 'type'\n\\item 'pt\\_avg\\_grams'\n\\item 'lat'\n\\item 'long'\n\\item 'quarter'\n\\item 'ave'\n\\item 'year\\_minusone'\n\\end{enumerate*}\n",
            "text/markdown": "1. 'year'\n2. 'gridpt'\n3. 'season'\n4. 'type'\n5. 'pt_avg_grams'\n6. 'lat'\n7. 'long'\n8. 'quarter'\n9. 'ave'\n10. 'year_minusone'\n\n\n",
            "text/html": [
              "<ol class=list-inline>\n",
              "\t<li>'year'</li>\n",
              "\t<li>'gridpt'</li>\n",
              "\t<li>'season'</li>\n",
              "\t<li>'type'</li>\n",
              "\t<li>'pt_avg_grams'</li>\n",
              "\t<li>'lat'</li>\n",
              "\t<li>'long'</li>\n",
              "\t<li>'quarter'</li>\n",
              "\t<li>'ave'</li>\n",
              "\t<li>'year_minusone'</li>\n",
              "</ol>\n"
            ]
          },
          "metadata": {
            "tags": []
          }
        }
      ]
    },
    {
      "cell_type": "code",
      "metadata": {
        "id": "nKCVbd6zUB6w",
        "colab_type": "code",
        "colab": {}
      },
      "source": [
        "b_p <- b_p[ , c(1, 2, 4, 5, 3, 8, 9, 10, 6, 7)]"
      ],
      "execution_count": 0,
      "outputs": []
    },
    {
      "cell_type": "code",
      "metadata": {
        "id": "q7CBeBb9VEdS",
        "colab_type": "code",
        "outputId": "7d3e5328-e53a-4ad9-e706-b1d6bef97c3d",
        "colab": {
          "base_uri": "https://localhost:8080/",
          "height": 215
        }
      },
      "source": [
        "names(b_p)"
      ],
      "execution_count": 0,
      "outputs": [
        {
          "output_type": "display_data",
          "data": {
            "text/plain": [
              " [1] \"year\"              \"gridpt\"            \"type\"             \n",
              " [4] \"pt_avg_grams\"      \"season\"            \"quarter\"          \n",
              " [7] \"quarterprecip_ave\" \"year_minusone\"     \"lat\"              \n",
              "[10] \"long\"             "
            ],
            "text/latex": "\\begin{enumerate*}\n\\item 'year'\n\\item 'gridpt'\n\\item 'type'\n\\item 'pt\\_avg\\_grams'\n\\item 'season'\n\\item 'quarter'\n\\item 'quarterprecip\\_ave'\n\\item 'year\\_minusone'\n\\item 'lat'\n\\item 'long'\n\\end{enumerate*}\n",
            "text/markdown": "1. 'year'\n2. 'gridpt'\n3. 'type'\n4. 'pt_avg_grams'\n5. 'season'\n6. 'quarter'\n7. 'quarterprecip_ave'\n8. 'year_minusone'\n9. 'lat'\n10. 'long'\n\n\n",
            "text/html": [
              "<ol class=list-inline>\n",
              "\t<li>'year'</li>\n",
              "\t<li>'gridpt'</li>\n",
              "\t<li>'type'</li>\n",
              "\t<li>'pt_avg_grams'</li>\n",
              "\t<li>'season'</li>\n",
              "\t<li>'quarter'</li>\n",
              "\t<li>'quarterprecip_ave'</li>\n",
              "\t<li>'year_minusone'</li>\n",
              "\t<li>'lat'</li>\n",
              "\t<li>'long'</li>\n",
              "</ol>\n"
            ]
          },
          "metadata": {
            "tags": []
          }
        }
      ]
    },
    {
      "cell_type": "code",
      "metadata": {
        "id": "VbLiJSK7cYOX",
        "colab_type": "code",
        "colab": {}
      },
      "source": [
        "names(b_p)[7] <- 'quarterprecip_ave' "
      ],
      "execution_count": 0,
      "outputs": []
    },
    {
      "cell_type": "code",
      "metadata": {
        "id": "Vb5121ZTczVK",
        "colab_type": "code",
        "colab": {}
      },
      "source": [
        "names(b_p)[8] <- 'quarterprecip_ave_minus1yr'"
      ],
      "execution_count": 0,
      "outputs": []
    },
    {
      "cell_type": "code",
      "metadata": {
        "id": "MpV89jTvciju",
        "colab_type": "code",
        "outputId": "08657c32-5841-4c4c-983d-45c8b3dc6f40",
        "colab": {
          "base_uri": "https://localhost:8080/",
          "height": 204
        }
      },
      "source": [
        "tail(b_p)"
      ],
      "execution_count": 0,
      "outputs": [
        {
          "output_type": "display_data",
          "data": {
            "text/plain": [
              "     year gridpt type     pt_avg_grams season quarter quarterprecip_ave\n",
              "2047 2018 471    Riparian 22.47667     fall   2018 Q4 7.381667         \n",
              "2042 2018 480    Riparian 27.44000     fall   2018 Q4 7.381667         \n",
              "2041 2018 481    Riparian  9.56000     fall   2018 Q4 7.381667         \n",
              "2052 2018 482    Riparian  0.00000     fall   2018 Q4 7.381667         \n",
              "2062 2018 484    Riparian 13.00667     fall   2018 Q4 7.381667         \n",
              "2068 2018 571    Active   12.40000     fall   2018 Q4 7.381667         \n",
              "     quarterprecip_ave_minus1yr lat      long     \n",
              "2047 5.138333                   46.70214 -114.0425\n",
              "2042 5.138333                   46.71092 -114.0417\n",
              "2041 5.138333                   46.70958 -114.0447\n",
              "2052 5.138333                   46.70839 -114.0406\n",
              "2062 5.138333                   46.70708 -114.0436\n",
              "2068 5.138333                   46.71035 -114.0388"
            ],
            "text/latex": "A data.frame: 6 × 10\n\\begin{tabular}{r|llllllllll}\n  & year & gridpt & type & pt\\_avg\\_grams & season & quarter & quarterprecip\\_ave & quarterprecip\\_ave\\_minus1yr & lat & long\\\\\n  & <int> & <int> & <chr> & <dbl> & <chr> & <chr> & <dbl> & <dbl> & <dbl> & <dbl>\\\\\n\\hline\n\t2047 & 2018 & 471 & Riparian & 22.47667 & fall & 2018 Q4 & 7.381667 & 5.138333 & 46.70214 & -114.0425\\\\\n\t2042 & 2018 & 480 & Riparian & 27.44000 & fall & 2018 Q4 & 7.381667 & 5.138333 & 46.71092 & -114.0417\\\\\n\t2041 & 2018 & 481 & Riparian &  9.56000 & fall & 2018 Q4 & 7.381667 & 5.138333 & 46.70958 & -114.0447\\\\\n\t2052 & 2018 & 482 & Riparian &  0.00000 & fall & 2018 Q4 & 7.381667 & 5.138333 & 46.70839 & -114.0406\\\\\n\t2062 & 2018 & 484 & Riparian & 13.00667 & fall & 2018 Q4 & 7.381667 & 5.138333 & 46.70708 & -114.0436\\\\\n\t2068 & 2018 & 571 & Active   & 12.40000 & fall & 2018 Q4 & 7.381667 & 5.138333 & 46.71035 & -114.0388\\\\\n\\end{tabular}\n",
            "text/markdown": "\nA data.frame: 6 × 10\n\n| <!--/--> | year &lt;int&gt; | gridpt &lt;int&gt; | type &lt;chr&gt; | pt_avg_grams &lt;dbl&gt; | season &lt;chr&gt; | quarter &lt;chr&gt; | quarterprecip_ave &lt;dbl&gt; | quarterprecip_ave_minus1yr &lt;dbl&gt; | lat &lt;dbl&gt; | long &lt;dbl&gt; |\n|---|---|---|---|---|---|---|---|---|---|---|\n| 2047 | 2018 | 471 | Riparian | 22.47667 | fall | 2018 Q4 | 7.381667 | 5.138333 | 46.70214 | -114.0425 |\n| 2042 | 2018 | 480 | Riparian | 27.44000 | fall | 2018 Q4 | 7.381667 | 5.138333 | 46.71092 | -114.0417 |\n| 2041 | 2018 | 481 | Riparian |  9.56000 | fall | 2018 Q4 | 7.381667 | 5.138333 | 46.70958 | -114.0447 |\n| 2052 | 2018 | 482 | Riparian |  0.00000 | fall | 2018 Q4 | 7.381667 | 5.138333 | 46.70839 | -114.0406 |\n| 2062 | 2018 | 484 | Riparian | 13.00667 | fall | 2018 Q4 | 7.381667 | 5.138333 | 46.70708 | -114.0436 |\n| 2068 | 2018 | 571 | Active   | 12.40000 | fall | 2018 Q4 | 7.381667 | 5.138333 | 46.71035 | -114.0388 |\n\n",
            "text/html": [
              "<table>\n",
              "<caption>A data.frame: 6 × 10</caption>\n",
              "<thead>\n",
              "\t<tr><th></th><th scope=col>year</th><th scope=col>gridpt</th><th scope=col>type</th><th scope=col>pt_avg_grams</th><th scope=col>season</th><th scope=col>quarter</th><th scope=col>quarterprecip_ave</th><th scope=col>quarterprecip_ave_minus1yr</th><th scope=col>lat</th><th scope=col>long</th></tr>\n",
              "\t<tr><th></th><th scope=col>&lt;int&gt;</th><th scope=col>&lt;int&gt;</th><th scope=col>&lt;chr&gt;</th><th scope=col>&lt;dbl&gt;</th><th scope=col>&lt;chr&gt;</th><th scope=col>&lt;chr&gt;</th><th scope=col>&lt;dbl&gt;</th><th scope=col>&lt;dbl&gt;</th><th scope=col>&lt;dbl&gt;</th><th scope=col>&lt;dbl&gt;</th></tr>\n",
              "</thead>\n",
              "<tbody>\n",
              "\t<tr><th scope=row>2047</th><td>2018</td><td>471</td><td>Riparian</td><td>22.47667</td><td>fall</td><td>2018 Q4</td><td>7.381667</td><td>5.138333</td><td>46.70214</td><td>-114.0425</td></tr>\n",
              "\t<tr><th scope=row>2042</th><td>2018</td><td>480</td><td>Riparian</td><td>27.44000</td><td>fall</td><td>2018 Q4</td><td>7.381667</td><td>5.138333</td><td>46.71092</td><td>-114.0417</td></tr>\n",
              "\t<tr><th scope=row>2041</th><td>2018</td><td>481</td><td>Riparian</td><td> 9.56000</td><td>fall</td><td>2018 Q4</td><td>7.381667</td><td>5.138333</td><td>46.70958</td><td>-114.0447</td></tr>\n",
              "\t<tr><th scope=row>2052</th><td>2018</td><td>482</td><td>Riparian</td><td> 0.00000</td><td>fall</td><td>2018 Q4</td><td>7.381667</td><td>5.138333</td><td>46.70839</td><td>-114.0406</td></tr>\n",
              "\t<tr><th scope=row>2062</th><td>2018</td><td>484</td><td>Riparian</td><td>13.00667</td><td>fall</td><td>2018 Q4</td><td>7.381667</td><td>5.138333</td><td>46.70708</td><td>-114.0436</td></tr>\n",
              "\t<tr><th scope=row>2068</th><td>2018</td><td>571</td><td>Active  </td><td>12.40000</td><td>fall</td><td>2018 Q4</td><td>7.381667</td><td>5.138333</td><td>46.71035</td><td>-114.0388</td></tr>\n",
              "</tbody>\n",
              "</table>\n"
            ]
          },
          "metadata": {
            "tags": []
          }
        }
      ]
    },
    {
      "cell_type": "code",
      "metadata": {
        "id": "nAFJ2k9OcmRF",
        "colab_type": "code",
        "outputId": "d6dfcb47-d5e5-438d-9ac4-5396b184c443",
        "colab": {
          "base_uri": "https://localhost:8080/",
          "height": 204
        }
      },
      "source": [
        "tail(b_p[ , c(1,5,2,3,4,6,7,8,9,10)])"
      ],
      "execution_count": 0,
      "outputs": [
        {
          "output_type": "display_data",
          "data": {
            "text/plain": [
              "     year season gridpt type     pt_avg_grams quarter quarterprecip_ave\n",
              "2047 2018 fall   471    Riparian 22.47667     2018 Q4 7.381667         \n",
              "2042 2018 fall   480    Riparian 27.44000     2018 Q4 7.381667         \n",
              "2041 2018 fall   481    Riparian  9.56000     2018 Q4 7.381667         \n",
              "2052 2018 fall   482    Riparian  0.00000     2018 Q4 7.381667         \n",
              "2062 2018 fall   484    Riparian 13.00667     2018 Q4 7.381667         \n",
              "2068 2018 fall   571    Active   12.40000     2018 Q4 7.381667         \n",
              "     quarterprecip_ave_minus1yr lat      long     \n",
              "2047 5.138333                   46.70214 -114.0425\n",
              "2042 5.138333                   46.71092 -114.0417\n",
              "2041 5.138333                   46.70958 -114.0447\n",
              "2052 5.138333                   46.70839 -114.0406\n",
              "2062 5.138333                   46.70708 -114.0436\n",
              "2068 5.138333                   46.71035 -114.0388"
            ],
            "text/latex": "A data.frame: 6 × 10\n\\begin{tabular}{r|llllllllll}\n  & year & season & gridpt & type & pt\\_avg\\_grams & quarter & quarterprecip\\_ave & quarterprecip\\_ave\\_minus1yr & lat & long\\\\\n  & <int> & <chr> & <int> & <chr> & <dbl> & <chr> & <dbl> & <dbl> & <dbl> & <dbl>\\\\\n\\hline\n\t2047 & 2018 & fall & 471 & Riparian & 22.47667 & 2018 Q4 & 7.381667 & 5.138333 & 46.70214 & -114.0425\\\\\n\t2042 & 2018 & fall & 480 & Riparian & 27.44000 & 2018 Q4 & 7.381667 & 5.138333 & 46.71092 & -114.0417\\\\\n\t2041 & 2018 & fall & 481 & Riparian &  9.56000 & 2018 Q4 & 7.381667 & 5.138333 & 46.70958 & -114.0447\\\\\n\t2052 & 2018 & fall & 482 & Riparian &  0.00000 & 2018 Q4 & 7.381667 & 5.138333 & 46.70839 & -114.0406\\\\\n\t2062 & 2018 & fall & 484 & Riparian & 13.00667 & 2018 Q4 & 7.381667 & 5.138333 & 46.70708 & -114.0436\\\\\n\t2068 & 2018 & fall & 571 & Active   & 12.40000 & 2018 Q4 & 7.381667 & 5.138333 & 46.71035 & -114.0388\\\\\n\\end{tabular}\n",
            "text/markdown": "\nA data.frame: 6 × 10\n\n| <!--/--> | year &lt;int&gt; | season &lt;chr&gt; | gridpt &lt;int&gt; | type &lt;chr&gt; | pt_avg_grams &lt;dbl&gt; | quarter &lt;chr&gt; | quarterprecip_ave &lt;dbl&gt; | quarterprecip_ave_minus1yr &lt;dbl&gt; | lat &lt;dbl&gt; | long &lt;dbl&gt; |\n|---|---|---|---|---|---|---|---|---|---|---|\n| 2047 | 2018 | fall | 471 | Riparian | 22.47667 | 2018 Q4 | 7.381667 | 5.138333 | 46.70214 | -114.0425 |\n| 2042 | 2018 | fall | 480 | Riparian | 27.44000 | 2018 Q4 | 7.381667 | 5.138333 | 46.71092 | -114.0417 |\n| 2041 | 2018 | fall | 481 | Riparian |  9.56000 | 2018 Q4 | 7.381667 | 5.138333 | 46.70958 | -114.0447 |\n| 2052 | 2018 | fall | 482 | Riparian |  0.00000 | 2018 Q4 | 7.381667 | 5.138333 | 46.70839 | -114.0406 |\n| 2062 | 2018 | fall | 484 | Riparian | 13.00667 | 2018 Q4 | 7.381667 | 5.138333 | 46.70708 | -114.0436 |\n| 2068 | 2018 | fall | 571 | Active   | 12.40000 | 2018 Q4 | 7.381667 | 5.138333 | 46.71035 | -114.0388 |\n\n",
            "text/html": [
              "<table>\n",
              "<caption>A data.frame: 6 × 10</caption>\n",
              "<thead>\n",
              "\t<tr><th></th><th scope=col>year</th><th scope=col>season</th><th scope=col>gridpt</th><th scope=col>type</th><th scope=col>pt_avg_grams</th><th scope=col>quarter</th><th scope=col>quarterprecip_ave</th><th scope=col>quarterprecip_ave_minus1yr</th><th scope=col>lat</th><th scope=col>long</th></tr>\n",
              "\t<tr><th></th><th scope=col>&lt;int&gt;</th><th scope=col>&lt;chr&gt;</th><th scope=col>&lt;int&gt;</th><th scope=col>&lt;chr&gt;</th><th scope=col>&lt;dbl&gt;</th><th scope=col>&lt;chr&gt;</th><th scope=col>&lt;dbl&gt;</th><th scope=col>&lt;dbl&gt;</th><th scope=col>&lt;dbl&gt;</th><th scope=col>&lt;dbl&gt;</th></tr>\n",
              "</thead>\n",
              "<tbody>\n",
              "\t<tr><th scope=row>2047</th><td>2018</td><td>fall</td><td>471</td><td>Riparian</td><td>22.47667</td><td>2018 Q4</td><td>7.381667</td><td>5.138333</td><td>46.70214</td><td>-114.0425</td></tr>\n",
              "\t<tr><th scope=row>2042</th><td>2018</td><td>fall</td><td>480</td><td>Riparian</td><td>27.44000</td><td>2018 Q4</td><td>7.381667</td><td>5.138333</td><td>46.71092</td><td>-114.0417</td></tr>\n",
              "\t<tr><th scope=row>2041</th><td>2018</td><td>fall</td><td>481</td><td>Riparian</td><td> 9.56000</td><td>2018 Q4</td><td>7.381667</td><td>5.138333</td><td>46.70958</td><td>-114.0447</td></tr>\n",
              "\t<tr><th scope=row>2052</th><td>2018</td><td>fall</td><td>482</td><td>Riparian</td><td> 0.00000</td><td>2018 Q4</td><td>7.381667</td><td>5.138333</td><td>46.70839</td><td>-114.0406</td></tr>\n",
              "\t<tr><th scope=row>2062</th><td>2018</td><td>fall</td><td>484</td><td>Riparian</td><td>13.00667</td><td>2018 Q4</td><td>7.381667</td><td>5.138333</td><td>46.70708</td><td>-114.0436</td></tr>\n",
              "\t<tr><th scope=row>2068</th><td>2018</td><td>fall</td><td>571</td><td>Active  </td><td>12.40000</td><td>2018 Q4</td><td>7.381667</td><td>5.138333</td><td>46.71035</td><td>-114.0388</td></tr>\n",
              "</tbody>\n",
              "</table>\n"
            ]
          },
          "metadata": {
            "tags": []
          }
        }
      ]
    },
    {
      "cell_type": "code",
      "metadata": {
        "id": "Tr_9D8MpdMp5",
        "colab_type": "code",
        "outputId": "d5106722-03db-4a8c-cb8a-8b03d9da1c8b",
        "colab": {
          "base_uri": "https://localhost:8080/",
          "height": 215
        }
      },
      "source": [
        "names(b_p)"
      ],
      "execution_count": 0,
      "outputs": [
        {
          "output_type": "display_data",
          "data": {
            "text/plain": [
              " [1] \"year\"                       \"gridpt\"                    \n",
              " [3] \"type\"                       \"pt_avg_grams\"              \n",
              " [5] \"season\"                     \"quarter\"                   \n",
              " [7] \"quarterprecip_ave\"          \"quarterprecip_ave_minus1yr\"\n",
              " [9] \"lat\"                        \"long\"                      "
            ],
            "text/latex": "\\begin{enumerate*}\n\\item 'year'\n\\item 'gridpt'\n\\item 'type'\n\\item 'pt\\_avg\\_grams'\n\\item 'season'\n\\item 'quarter'\n\\item 'quarterprecip\\_ave'\n\\item 'quarterprecip\\_ave\\_minus1yr'\n\\item 'lat'\n\\item 'long'\n\\end{enumerate*}\n",
            "text/markdown": "1. 'year'\n2. 'gridpt'\n3. 'type'\n4. 'pt_avg_grams'\n5. 'season'\n6. 'quarter'\n7. 'quarterprecip_ave'\n8. 'quarterprecip_ave_minus1yr'\n9. 'lat'\n10. 'long'\n\n\n",
            "text/html": [
              "<ol class=list-inline>\n",
              "\t<li>'year'</li>\n",
              "\t<li>'gridpt'</li>\n",
              "\t<li>'type'</li>\n",
              "\t<li>'pt_avg_grams'</li>\n",
              "\t<li>'season'</li>\n",
              "\t<li>'quarter'</li>\n",
              "\t<li>'quarterprecip_ave'</li>\n",
              "\t<li>'quarterprecip_ave_minus1yr'</li>\n",
              "\t<li>'lat'</li>\n",
              "\t<li>'long'</li>\n",
              "</ol>\n"
            ]
          },
          "metadata": {
            "tags": []
          }
        }
      ]
    },
    {
      "cell_type": "code",
      "metadata": {
        "id": "0lsM_mX1duFZ",
        "colab_type": "code",
        "colab": {}
      },
      "source": [
        "write.csv(b_p, file = \"mpg_precip_biomass.csv\", quote = FALSE, row.names = FALSE)"
      ],
      "execution_count": 0,
      "outputs": []
    },
    {
      "cell_type": "code",
      "metadata": {
        "id": "0YxKpV3tgg1H",
        "colab_type": "code",
        "colab": {}
      },
      "source": [
        "src = \"https://drive.google.com/uc?id=1LX1iFFkKi4V9YjFVMsansk4-i3rSrqbv\"\n",
        "x <- read.csv(src, stringsAsFactors=FALSE)"
      ],
      "execution_count": 0,
      "outputs": []
    },
    {
      "cell_type": "markdown",
      "metadata": {
        "id": "mcjx5nm_0aLN",
        "colab_type": "text"
      },
      "source": [
        "# Spring"
      ]
    },
    {
      "cell_type": "code",
      "metadata": {
        "id": "j13yZrOA0bzc",
        "colab_type": "code",
        "outputId": "8699a599-d76b-462b-c5d1-3dab62ef4834",
        "colab": {
          "base_uri": "https://localhost:8080/",
          "height": 289
        }
      },
      "source": [
        "# select for spring\n",
        "spring_biomass <- biomass %>% filter(season == \"spring\")\n",
        "summary(spring_biomass)"
      ],
      "execution_count": 0,
      "outputs": [
        {
          "output_type": "display_data",
          "data": {
            "text/plain": [
              "     gridpt           year         season              type          \n",
              " Min.   :  2.0   Min.   :2011   Length:1872        Length:1872       \n",
              " 1st Qu.: 80.0   1st Qu.:2012   Class :character   Class :character  \n",
              " Median :189.5   Median :2014   Mode  :character   Mode  :character  \n",
              " Mean   :197.0   Mean   :2014                                        \n",
              " 3rd Qu.:297.2   3rd Qu.:2015                                        \n",
              " Max.   :574.0   Max.   :2018                                        \n",
              "                                                                     \n",
              "  pt_avg_grams         lat             long     \n",
              " Min.   : 0.000   Min.   :46.67   Min.   :-114  \n",
              " 1st Qu.: 1.183   1st Qu.:46.68   1st Qu.:-114  \n",
              " Median : 2.883   Median :46.70   Median :-114  \n",
              " Mean   : 4.724   Mean   :46.70   Mean   :-114  \n",
              " 3rd Qu.: 5.877   3rd Qu.:46.71   3rd Qu.:-114  \n",
              " Max.   :46.653   Max.   :46.73   Max.   :-114  \n",
              " NA's   :999                                    "
            ]
          },
          "metadata": {
            "tags": []
          }
        }
      ]
    },
    {
      "cell_type": "code",
      "metadata": {
        "id": "OvwDnlpe6pij",
        "colab_type": "code",
        "outputId": "1ea473b4-172d-41be-939c-22b83c707785",
        "colab": {
          "base_uri": "https://localhost:8080/",
          "height": 204
        }
      },
      "source": [
        "head(spring_biomass)"
      ],
      "execution_count": 0,
      "outputs": [
        {
          "output_type": "display_data",
          "data": {
            "text/plain": [
              "  gridpt year season type  pt_avg_grams lat      long    \n",
              "1 2      2017 spring Range 3.326667     46.72972 -114.001\n",
              "2 2      2016 spring Range 2.780000     46.72972 -114.001\n",
              "3 2      2015 spring Range 1.903333     46.72972 -114.001\n",
              "4 2      2014 spring Range 1.590000     46.72972 -114.001\n",
              "5 2      2013 spring Range 1.913333     46.72972 -114.001\n",
              "6 2      2012 spring Range 7.875000     46.72972 -114.001"
            ],
            "text/latex": "A data.frame: 6 × 7\n\\begin{tabular}{r|lllllll}\n gridpt & year & season & type & pt\\_avg\\_grams & lat & long\\\\\n <int> & <int> & <chr> & <chr> & <dbl> & <dbl> & <dbl>\\\\\n\\hline\n\t 2 & 2017 & spring & Range & 3.326667 & 46.72972 & -114.001\\\\\n\t 2 & 2016 & spring & Range & 2.780000 & 46.72972 & -114.001\\\\\n\t 2 & 2015 & spring & Range & 1.903333 & 46.72972 & -114.001\\\\\n\t 2 & 2014 & spring & Range & 1.590000 & 46.72972 & -114.001\\\\\n\t 2 & 2013 & spring & Range & 1.913333 & 46.72972 & -114.001\\\\\n\t 2 & 2012 & spring & Range & 7.875000 & 46.72972 & -114.001\\\\\n\\end{tabular}\n",
            "text/markdown": "\nA data.frame: 6 × 7\n\n| gridpt &lt;int&gt; | year &lt;int&gt; | season &lt;chr&gt; | type &lt;chr&gt; | pt_avg_grams &lt;dbl&gt; | lat &lt;dbl&gt; | long &lt;dbl&gt; |\n|---|---|---|---|---|---|---|\n| 2 | 2017 | spring | Range | 3.326667 | 46.72972 | -114.001 |\n| 2 | 2016 | spring | Range | 2.780000 | 46.72972 | -114.001 |\n| 2 | 2015 | spring | Range | 1.903333 | 46.72972 | -114.001 |\n| 2 | 2014 | spring | Range | 1.590000 | 46.72972 | -114.001 |\n| 2 | 2013 | spring | Range | 1.913333 | 46.72972 | -114.001 |\n| 2 | 2012 | spring | Range | 7.875000 | 46.72972 | -114.001 |\n\n",
            "text/html": [
              "<table>\n",
              "<caption>A data.frame: 6 × 7</caption>\n",
              "<thead>\n",
              "\t<tr><th scope=col>gridpt</th><th scope=col>year</th><th scope=col>season</th><th scope=col>type</th><th scope=col>pt_avg_grams</th><th scope=col>lat</th><th scope=col>long</th></tr>\n",
              "\t<tr><th scope=col>&lt;int&gt;</th><th scope=col>&lt;int&gt;</th><th scope=col>&lt;chr&gt;</th><th scope=col>&lt;chr&gt;</th><th scope=col>&lt;dbl&gt;</th><th scope=col>&lt;dbl&gt;</th><th scope=col>&lt;dbl&gt;</th></tr>\n",
              "</thead>\n",
              "<tbody>\n",
              "\t<tr><td>2</td><td>2017</td><td>spring</td><td>Range</td><td>3.326667</td><td>46.72972</td><td>-114.001</td></tr>\n",
              "\t<tr><td>2</td><td>2016</td><td>spring</td><td>Range</td><td>2.780000</td><td>46.72972</td><td>-114.001</td></tr>\n",
              "\t<tr><td>2</td><td>2015</td><td>spring</td><td>Range</td><td>1.903333</td><td>46.72972</td><td>-114.001</td></tr>\n",
              "\t<tr><td>2</td><td>2014</td><td>spring</td><td>Range</td><td>1.590000</td><td>46.72972</td><td>-114.001</td></tr>\n",
              "\t<tr><td>2</td><td>2013</td><td>spring</td><td>Range</td><td>1.913333</td><td>46.72972</td><td>-114.001</td></tr>\n",
              "\t<tr><td>2</td><td>2012</td><td>spring</td><td>Range</td><td>7.875000</td><td>46.72972</td><td>-114.001</td></tr>\n",
              "</tbody>\n",
              "</table>\n"
            ]
          },
          "metadata": {
            "tags": []
          }
        }
      ]
    },
    {
      "cell_type": "code",
      "metadata": {
        "id": "1zaBUheV2k-c",
        "colab_type": "code",
        "colab": {}
      },
      "source": [
        "# filter out na's\n",
        "spring_biomass <- spring_biomass %>% filter(!is.na(pt_avg_grams))"
      ],
      "execution_count": 0,
      "outputs": []
    },
    {
      "cell_type": "code",
      "metadata": {
        "id": "Rndf91UN5e2u",
        "colab_type": "code",
        "colab": {}
      },
      "source": [
        "# load precip\n",
        "spring_src = \"https://drive.google.com/uc?id=1hfgw44RyK-By_VwLgwV512XrzIzkaf4s\"\n",
        "spring_precip = read.csv(spring_src, stringsAsFactors=FALSE)"
      ],
      "execution_count": 0,
      "outputs": []
    },
    {
      "cell_type": "code",
      "metadata": {
        "id": "hYwXtP-s5xrW",
        "colab_type": "code",
        "outputId": "d7761ba9-de1a-4189-f3b1-0f1f12f33673",
        "colab": {
          "base_uri": "https://localhost:8080/",
          "height": 204
        }
      },
      "source": [
        "spring_precip"
      ],
      "execution_count": 0,
      "outputs": [
        {
          "output_type": "display_data",
          "data": {
            "text/plain": [
              "  Index   ave     \n",
              "1 2013 Q2 2.508333\n",
              "2 2014 Q2 2.526667\n",
              "3 2015 Q2 2.058333\n",
              "4 2016 Q2 3.846667\n",
              "5 2017 Q2 5.138333\n",
              "6 2018 Q2 7.381667"
            ],
            "text/latex": "A data.frame: 6 × 2\n\\begin{tabular}{r|ll}\n Index & ave\\\\\n <chr> & <dbl>\\\\\n\\hline\n\t 2013 Q2 & 2.508333\\\\\n\t 2014 Q2 & 2.526667\\\\\n\t 2015 Q2 & 2.058333\\\\\n\t 2016 Q2 & 3.846667\\\\\n\t 2017 Q2 & 5.138333\\\\\n\t 2018 Q2 & 7.381667\\\\\n\\end{tabular}\n",
            "text/markdown": "\nA data.frame: 6 × 2\n\n| Index &lt;chr&gt; | ave &lt;dbl&gt; |\n|---|---|\n| 2013 Q2 | 2.508333 |\n| 2014 Q2 | 2.526667 |\n| 2015 Q2 | 2.058333 |\n| 2016 Q2 | 3.846667 |\n| 2017 Q2 | 5.138333 |\n| 2018 Q2 | 7.381667 |\n\n",
            "text/html": [
              "<table>\n",
              "<caption>A data.frame: 6 × 2</caption>\n",
              "<thead>\n",
              "\t<tr><th scope=col>Index</th><th scope=col>ave</th></tr>\n",
              "\t<tr><th scope=col>&lt;chr&gt;</th><th scope=col>&lt;dbl&gt;</th></tr>\n",
              "</thead>\n",
              "<tbody>\n",
              "\t<tr><td>2013 Q2</td><td>2.508333</td></tr>\n",
              "\t<tr><td>2014 Q2</td><td>2.526667</td></tr>\n",
              "\t<tr><td>2015 Q2</td><td>2.058333</td></tr>\n",
              "\t<tr><td>2016 Q2</td><td>3.846667</td></tr>\n",
              "\t<tr><td>2017 Q2</td><td>5.138333</td></tr>\n",
              "\t<tr><td>2018 Q2</td><td>7.381667</td></tr>\n",
              "</tbody>\n",
              "</table>\n"
            ]
          },
          "metadata": {
            "tags": []
          }
        }
      ]
    },
    {
      "cell_type": "code",
      "metadata": {
        "id": "ldFAAFcd5zCD",
        "colab_type": "code",
        "colab": {}
      },
      "source": [
        "spring_precip$year <- as.integer(vapply(strsplit(spring_precip$Index, \" \"), `[`, 1, FUN.VALUE=character(1)))  "
      ],
      "execution_count": 0,
      "outputs": []
    },
    {
      "cell_type": "code",
      "metadata": {
        "id": "UoBb87Sh6F9q",
        "colab_type": "code",
        "outputId": "f5129ff8-6c7d-4ff7-e128-93be1c59d78f",
        "colab": {
          "base_uri": "https://localhost:8080/",
          "height": 204
        }
      },
      "source": [
        "spring_precip"
      ],
      "execution_count": 0,
      "outputs": [
        {
          "output_type": "display_data",
          "data": {
            "text/plain": [
              "  Index   ave      year\n",
              "1 2013 Q2 2.508333 2013\n",
              "2 2014 Q2 2.526667 2014\n",
              "3 2015 Q2 2.058333 2015\n",
              "4 2016 Q2 3.846667 2016\n",
              "5 2017 Q2 5.138333 2017\n",
              "6 2018 Q2 7.381667 2018"
            ],
            "text/latex": "A data.frame: 6 × 3\n\\begin{tabular}{r|lll}\n Index & ave & year\\\\\n <chr> & <dbl> & <int>\\\\\n\\hline\n\t 2013 Q2 & 2.508333 & 2013\\\\\n\t 2014 Q2 & 2.526667 & 2014\\\\\n\t 2015 Q2 & 2.058333 & 2015\\\\\n\t 2016 Q2 & 3.846667 & 2016\\\\\n\t 2017 Q2 & 5.138333 & 2017\\\\\n\t 2018 Q2 & 7.381667 & 2018\\\\\n\\end{tabular}\n",
            "text/markdown": "\nA data.frame: 6 × 3\n\n| Index &lt;chr&gt; | ave &lt;dbl&gt; | year &lt;int&gt; |\n|---|---|---|\n| 2013 Q2 | 2.508333 | 2013 |\n| 2014 Q2 | 2.526667 | 2014 |\n| 2015 Q2 | 2.058333 | 2015 |\n| 2016 Q2 | 3.846667 | 2016 |\n| 2017 Q2 | 5.138333 | 2017 |\n| 2018 Q2 | 7.381667 | 2018 |\n\n",
            "text/html": [
              "<table>\n",
              "<caption>A data.frame: 6 × 3</caption>\n",
              "<thead>\n",
              "\t<tr><th scope=col>Index</th><th scope=col>ave</th><th scope=col>year</th></tr>\n",
              "\t<tr><th scope=col>&lt;chr&gt;</th><th scope=col>&lt;dbl&gt;</th><th scope=col>&lt;int&gt;</th></tr>\n",
              "</thead>\n",
              "<tbody>\n",
              "\t<tr><td>2013 Q2</td><td>2.508333</td><td>2013</td></tr>\n",
              "\t<tr><td>2014 Q2</td><td>2.526667</td><td>2014</td></tr>\n",
              "\t<tr><td>2015 Q2</td><td>2.058333</td><td>2015</td></tr>\n",
              "\t<tr><td>2016 Q2</td><td>3.846667</td><td>2016</td></tr>\n",
              "\t<tr><td>2017 Q2</td><td>5.138333</td><td>2017</td></tr>\n",
              "\t<tr><td>2018 Q2</td><td>7.381667</td><td>2018</td></tr>\n",
              "</tbody>\n",
              "</table>\n"
            ]
          },
          "metadata": {
            "tags": []
          }
        }
      ]
    },
    {
      "cell_type": "code",
      "metadata": {
        "id": "258cOv8c6sY3",
        "colab_type": "code",
        "colab": {}
      },
      "source": [
        "spring_biomass_precip <- merge(spring_biomass, spring_precip, by=\"year\", all=TRUE)"
      ],
      "execution_count": 0,
      "outputs": []
    },
    {
      "cell_type": "code",
      "metadata": {
        "id": "VNeryOeg60zM",
        "colab_type": "code",
        "colab": {}
      },
      "source": [
        "# filter to begin 2013\n",
        "spring_biomass_precip <- filter(spring_biomass_precip, year >= \"2013\")"
      ],
      "execution_count": 0,
      "outputs": []
    },
    {
      "cell_type": "code",
      "metadata": {
        "id": "R_62t7kd7HPO",
        "colab_type": "code",
        "colab": {}
      },
      "source": [
        "names(spring_biomass_precip) <- c('year','gridpt','season','type','pt_avg_grams','lat','long','precip_qtr','ave')"
      ],
      "execution_count": 0,
      "outputs": []
    },
    {
      "cell_type": "code",
      "metadata": {
        "id": "z4O477zd849x",
        "colab_type": "code",
        "outputId": "e1a8737a-93de-4c56-b25d-f625ae467190",
        "colab": {
          "base_uri": "https://localhost:8080/",
          "height": 204
        }
      },
      "source": [
        "head(spring_biomass_precip)"
      ],
      "execution_count": 0,
      "outputs": [
        {
          "output_type": "display_data",
          "data": {
            "text/plain": [
              "  year gridpt season type     pt_avg_grams lat      long      precip_qtr\n",
              "1 2013 203    spring Range    0.7900000    46.68870 -114.0157 2013 Q2   \n",
              "2 2013  19    spring Range    0.7233333    46.71957 -114.0247 2013 Q2   \n",
              "3 2013  89    spring Range    4.3533333    46.70282 -114.0298 2013 Q2   \n",
              "4 2013  75    spring Degraded 3.0133333    46.70811 -114.0080 2013 Q2   \n",
              "5 2013 289    spring Degraded 0.4400000    46.67812 -114.0259 2013 Q2   \n",
              "6 2013 138    spring Degraded 6.8433333    46.69620 -114.0278 2013 Q2   \n",
              "  ave     \n",
              "1 2.508333\n",
              "2 2.508333\n",
              "3 2.508333\n",
              "4 2.508333\n",
              "5 2.508333\n",
              "6 2.508333"
            ],
            "text/latex": "A data.frame: 6 × 9\n\\begin{tabular}{r|lllllllll}\n year & gridpt & season & type & pt\\_avg\\_grams & lat & long & precip\\_qtr & ave\\\\\n <int> & <int> & <chr> & <chr> & <dbl> & <dbl> & <dbl> & <chr> & <dbl>\\\\\n\\hline\n\t 2013 & 203 & spring & Range    & 0.7900000 & 46.68870 & -114.0157 & 2013 Q2 & 2.508333\\\\\n\t 2013 &  19 & spring & Range    & 0.7233333 & 46.71957 & -114.0247 & 2013 Q2 & 2.508333\\\\\n\t 2013 &  89 & spring & Range    & 4.3533333 & 46.70282 & -114.0298 & 2013 Q2 & 2.508333\\\\\n\t 2013 &  75 & spring & Degraded & 3.0133333 & 46.70811 & -114.0080 & 2013 Q2 & 2.508333\\\\\n\t 2013 & 289 & spring & Degraded & 0.4400000 & 46.67812 & -114.0259 & 2013 Q2 & 2.508333\\\\\n\t 2013 & 138 & spring & Degraded & 6.8433333 & 46.69620 & -114.0278 & 2013 Q2 & 2.508333\\\\\n\\end{tabular}\n",
            "text/markdown": "\nA data.frame: 6 × 9\n\n| year &lt;int&gt; | gridpt &lt;int&gt; | season &lt;chr&gt; | type &lt;chr&gt; | pt_avg_grams &lt;dbl&gt; | lat &lt;dbl&gt; | long &lt;dbl&gt; | precip_qtr &lt;chr&gt; | ave &lt;dbl&gt; |\n|---|---|---|---|---|---|---|---|---|\n| 2013 | 203 | spring | Range    | 0.7900000 | 46.68870 | -114.0157 | 2013 Q2 | 2.508333 |\n| 2013 |  19 | spring | Range    | 0.7233333 | 46.71957 | -114.0247 | 2013 Q2 | 2.508333 |\n| 2013 |  89 | spring | Range    | 4.3533333 | 46.70282 | -114.0298 | 2013 Q2 | 2.508333 |\n| 2013 |  75 | spring | Degraded | 3.0133333 | 46.70811 | -114.0080 | 2013 Q2 | 2.508333 |\n| 2013 | 289 | spring | Degraded | 0.4400000 | 46.67812 | -114.0259 | 2013 Q2 | 2.508333 |\n| 2013 | 138 | spring | Degraded | 6.8433333 | 46.69620 | -114.0278 | 2013 Q2 | 2.508333 |\n\n",
            "text/html": [
              "<table>\n",
              "<caption>A data.frame: 6 × 9</caption>\n",
              "<thead>\n",
              "\t<tr><th scope=col>year</th><th scope=col>gridpt</th><th scope=col>season</th><th scope=col>type</th><th scope=col>pt_avg_grams</th><th scope=col>lat</th><th scope=col>long</th><th scope=col>precip_qtr</th><th scope=col>ave</th></tr>\n",
              "\t<tr><th scope=col>&lt;int&gt;</th><th scope=col>&lt;int&gt;</th><th scope=col>&lt;chr&gt;</th><th scope=col>&lt;chr&gt;</th><th scope=col>&lt;dbl&gt;</th><th scope=col>&lt;dbl&gt;</th><th scope=col>&lt;dbl&gt;</th><th scope=col>&lt;chr&gt;</th><th scope=col>&lt;dbl&gt;</th></tr>\n",
              "</thead>\n",
              "<tbody>\n",
              "\t<tr><td>2013</td><td>203</td><td>spring</td><td>Range   </td><td>0.7900000</td><td>46.68870</td><td>-114.0157</td><td>2013 Q2</td><td>2.508333</td></tr>\n",
              "\t<tr><td>2013</td><td> 19</td><td>spring</td><td>Range   </td><td>0.7233333</td><td>46.71957</td><td>-114.0247</td><td>2013 Q2</td><td>2.508333</td></tr>\n",
              "\t<tr><td>2013</td><td> 89</td><td>spring</td><td>Range   </td><td>4.3533333</td><td>46.70282</td><td>-114.0298</td><td>2013 Q2</td><td>2.508333</td></tr>\n",
              "\t<tr><td>2013</td><td> 75</td><td>spring</td><td>Degraded</td><td>3.0133333</td><td>46.70811</td><td>-114.0080</td><td>2013 Q2</td><td>2.508333</td></tr>\n",
              "\t<tr><td>2013</td><td>289</td><td>spring</td><td>Degraded</td><td>0.4400000</td><td>46.67812</td><td>-114.0259</td><td>2013 Q2</td><td>2.508333</td></tr>\n",
              "\t<tr><td>2013</td><td>138</td><td>spring</td><td>Degraded</td><td>6.8433333</td><td>46.69620</td><td>-114.0278</td><td>2013 Q2</td><td>2.508333</td></tr>\n",
              "</tbody>\n",
              "</table>\n"
            ]
          },
          "metadata": {
            "tags": []
          }
        }
      ]
    },
    {
      "cell_type": "code",
      "metadata": {
        "id": "crNV17Wq8_dM",
        "colab_type": "code",
        "colab": {}
      },
      "source": [
        "write.csv(spring_biomass_precip, file = \"mpgspring_precip_biomass.csv\", quote = FALSE, row.names = FALSE)"
      ],
      "execution_count": 0,
      "outputs": []
    }
  ]
}